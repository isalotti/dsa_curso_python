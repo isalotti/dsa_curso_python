{
 "cells": [
  {
   "cell_type": "markdown",
   "id": "bcda0b82",
   "metadata": {},
   "source": [
    "## Numpy\n"
   ]
  },
  {
   "cell_type": "markdown",
   "id": "4a319578",
   "metadata": {},
   "source": [
    "numpy.org"
   ]
  },
  {
   "cell_type": "code",
   "execution_count": 2,
   "id": "0a65f740",
   "metadata": {},
   "outputs": [],
   "source": [
    "import numpy as dsa    #aqui o prof deu esse apelido para a biblioteca"
   ]
  },
  {
   "cell_type": "code",
   "execution_count": 3,
   "id": "82d04a91",
   "metadata": {},
   "outputs": [
    {
     "data": {
      "text/plain": [
       "'1.23.5'"
      ]
     },
     "execution_count": 3,
     "metadata": {},
     "output_type": "execute_result"
    }
   ],
   "source": [
    "dsa.__version__"
   ]
  },
  {
   "cell_type": "code",
   "execution_count": 4,
   "id": "9b80220f",
   "metadata": {},
   "outputs": [],
   "source": [
    "# Para instalar versao exata do pacote em Python\n",
    "# !pip install numpy==1.22.2"
   ]
  },
  {
   "cell_type": "markdown",
   "id": "b1444be4",
   "metadata": {},
   "source": [
    "### Criando Arrays NumPy"
   ]
  },
  {
   "cell_type": "code",
   "execution_count": 5,
   "id": "58e64428",
   "metadata": {},
   "outputs": [],
   "source": [
    "# Array criado a partir de lista\n",
    "arr1 = dsa.array([10,21,32,43,48,15,76,57,89])"
   ]
  },
  {
   "cell_type": "code",
   "execution_count": 6,
   "id": "c6ed9ef6",
   "metadata": {},
   "outputs": [
    {
     "name": "stdout",
     "output_type": "stream",
     "text": [
      "[10 21 32 43 48 15 76 57 89]\n"
     ]
    }
   ],
   "source": [
    "print(arr1)"
   ]
  },
  {
   "cell_type": "code",
   "execution_count": 7,
   "id": "3c0b8617",
   "metadata": {},
   "outputs": [
    {
     "data": {
      "text/plain": [
       "numpy.ndarray"
      ]
     },
     "execution_count": 7,
     "metadata": {},
     "output_type": "execute_result"
    }
   ],
   "source": [
    "type(arr1)"
   ]
  },
  {
   "cell_type": "code",
   "execution_count": 8,
   "id": "c7a58bbb",
   "metadata": {},
   "outputs": [
    {
     "data": {
      "text/plain": [
       "(9,)"
      ]
     },
     "execution_count": 8,
     "metadata": {},
     "output_type": "execute_result"
    }
   ],
   "source": [
    "#formato do array\n",
    "arr1.shape"
   ]
  },
  {
   "cell_type": "code",
   "execution_count": 10,
   "id": "dd8d5d64",
   "metadata": {},
   "outputs": [],
   "source": [
    "#shape(eixo0_qtd_elementos,eixo1_qtd_elementos)  ->> shape(9,) ->> array de 1 dimensão apenas = vetor"
   ]
  },
  {
   "cell_type": "markdown",
   "id": "04f5b586",
   "metadata": {},
   "source": [
    "### Indexação em Arrays NumPy"
   ]
  },
  {
   "cell_type": "code",
   "execution_count": 11,
   "id": "1ef8cf61",
   "metadata": {},
   "outputs": [
    {
     "data": {
      "text/plain": [
       "48"
      ]
     },
     "execution_count": 11,
     "metadata": {},
     "output_type": "execute_result"
    }
   ],
   "source": [
    "arr1[4] # elemento no indice 4"
   ]
  },
  {
   "cell_type": "code",
   "execution_count": 13,
   "id": "6f28a066",
   "metadata": {},
   "outputs": [
    {
     "data": {
      "text/plain": [
       "array([21, 32, 43])"
      ]
     },
     "execution_count": 13,
     "metadata": {},
     "output_type": "execute_result"
    }
   ],
   "source": [
    "# Indexação - posição 1 até posição 4, exclusive!\n",
    "arr1[1:4]"
   ]
  },
  {
   "cell_type": "code",
   "execution_count": 14,
   "id": "c4c0c3cb",
   "metadata": {},
   "outputs": [
    {
     "data": {
      "text/plain": [
       "array([21, 32, 43, 48])"
      ]
     },
     "execution_count": 14,
     "metadata": {},
     "output_type": "execute_result"
    }
   ],
   "source": [
    "arr1[1:4+1]"
   ]
  },
  {
   "cell_type": "code",
   "execution_count": 15,
   "id": "43e8341b",
   "metadata": {},
   "outputs": [],
   "source": [
    "# Cria lista de indices\n",
    "indices = [1, 2, 5, 6]"
   ]
  },
  {
   "cell_type": "code",
   "execution_count": 16,
   "id": "c6361bad",
   "metadata": {},
   "outputs": [
    {
     "data": {
      "text/plain": [
       "array([21, 32, 15, 76])"
      ]
     },
     "execution_count": 16,
     "metadata": {},
     "output_type": "execute_result"
    }
   ],
   "source": [
    "arr1[indices]  #mostra os valores nas posições dos indices passados no parametro"
   ]
  },
  {
   "cell_type": "code",
   "execution_count": 19,
   "id": "c6945c08",
   "metadata": {},
   "outputs": [],
   "source": [
    "# Máscara booleana para elementos pares (divide cada ELEMENTO do array por 2, resto div = 0)\n",
    "mask = (arr1 % 2 == 0)"
   ]
  },
  {
   "cell_type": "code",
   "execution_count": 20,
   "id": "a82d6125",
   "metadata": {},
   "outputs": [
    {
     "data": {
      "text/plain": [
       "array([ True, False,  True, False,  True, False,  True, False, False])"
      ]
     },
     "execution_count": 20,
     "metadata": {},
     "output_type": "execute_result"
    }
   ],
   "source": [
    "mask"
   ]
  },
  {
   "cell_type": "code",
   "execution_count": 18,
   "id": "7884e31b",
   "metadata": {},
   "outputs": [
    {
     "data": {
      "text/plain": [
       "array([10, 32, 48, 76])"
      ]
     },
     "execution_count": 18,
     "metadata": {},
     "output_type": "execute_result"
    }
   ],
   "source": [
    "arr1[mask]   #retorna onde o array tiver indice True apenas"
   ]
  },
  {
   "cell_type": "code",
   "execution_count": 21,
   "id": "a69a92f9",
   "metadata": {},
   "outputs": [],
   "source": [
    "arr1[0] = 100 #substituir valor"
   ]
  },
  {
   "cell_type": "code",
   "execution_count": 22,
   "id": "fc07484e",
   "metadata": {},
   "outputs": [
    {
     "name": "stdout",
     "output_type": "stream",
     "text": [
      "[100  21  32  43  48  15  76  57  89]\n"
     ]
    }
   ],
   "source": [
    "print(arr1)"
   ]
  },
  {
   "cell_type": "code",
   "execution_count": 23,
   "id": "705485f8",
   "metadata": {},
   "outputs": [
    {
     "name": "stdout",
     "output_type": "stream",
     "text": [
      "Operação não permitida!\n"
     ]
    }
   ],
   "source": [
    "#Não é possível incluir elemento de outro tipo\n",
    "try:\n",
    "    arr1[0] = 'Novo elemento'\n",
    "except:\n",
    "    print(\"Operação não permitida!\")"
   ]
  },
  {
   "cell_type": "markdown",
   "id": "6e734dbf",
   "metadata": {},
   "source": [
    "### Funções NumPy"
   ]
  },
  {
   "cell_type": "code",
   "execution_count": 24,
   "id": "444bca4d",
   "metadata": {},
   "outputs": [],
   "source": [
    "# np.array cria um array Numpy\n",
    "arr2 = dsa.array([1, 2, 3, 4, 5])"
   ]
  },
  {
   "cell_type": "code",
   "execution_count": 25,
   "id": "f6711992",
   "metadata": {},
   "outputs": [
    {
     "name": "stdout",
     "output_type": "stream",
     "text": [
      "[1 2 3 4 5]\n"
     ]
    }
   ],
   "source": [
    "print(arr2)"
   ]
  },
  {
   "cell_type": "code",
   "execution_count": 26,
   "id": "52f3a3d1",
   "metadata": {},
   "outputs": [
    {
     "data": {
      "text/plain": [
       "numpy.ndarray"
      ]
     },
     "execution_count": 26,
     "metadata": {},
     "output_type": "execute_result"
    }
   ],
   "source": [
    "type(arr2)"
   ]
  },
  {
   "cell_type": "code",
   "execution_count": 29,
   "id": "ccb6a738",
   "metadata": {},
   "outputs": [],
   "source": [
    "# Digite. e pressione a telca tab para visualizar os m´todos do NumPy\n",
    "#arr2."
   ]
  },
  {
   "cell_type": "code",
   "execution_count": 31,
   "id": "fd98f55c",
   "metadata": {},
   "outputs": [
    {
     "data": {
      "text/plain": [
       "array([ 1,  3,  6, 10, 15])"
      ]
     },
     "execution_count": 31,
     "metadata": {},
     "output_type": "execute_result"
    }
   ],
   "source": [
    "# Soma acumulada dos elementos do array\n",
    "arr2.cumsum()"
   ]
  },
  {
   "cell_type": "code",
   "execution_count": 32,
   "id": "e4c6e0f8",
   "metadata": {},
   "outputs": [
    {
     "data": {
      "text/plain": [
       "array([  1,   2,   6,  24, 120])"
      ]
     },
     "execution_count": 32,
     "metadata": {},
     "output_type": "execute_result"
    }
   ],
   "source": [
    "# Produto acumulado dos elementos do array\n",
    "arr2.cumprod()"
   ]
  },
  {
   "cell_type": "code",
   "execution_count": 33,
   "id": "7c8fdbbe",
   "metadata": {},
   "outputs": [],
   "source": [
    "# arange - cria array NumPy contendo uma progressão aritimética a partir de um intervalo - (start, stop, step) , stop é EXCLUSIVO.\n",
    "arr3 = dsa.arange(0, 50, 5)"
   ]
  },
  {
   "cell_type": "code",
   "execution_count": 34,
   "id": "4ea150ba",
   "metadata": {},
   "outputs": [
    {
     "name": "stdout",
     "output_type": "stream",
     "text": [
      "[ 0  5 10 15 20 25 30 35 40 45]\n"
     ]
    }
   ],
   "source": [
    "print(arr3)"
   ]
  },
  {
   "cell_type": "code",
   "execution_count": 35,
   "id": "af409a01",
   "metadata": {},
   "outputs": [
    {
     "data": {
      "text/plain": [
       "numpy.ndarray"
      ]
     },
     "execution_count": 35,
     "metadata": {},
     "output_type": "execute_result"
    }
   ],
   "source": [
    "type(arr3)"
   ]
  },
  {
   "cell_type": "code",
   "execution_count": 36,
   "id": "56152bb2",
   "metadata": {},
   "outputs": [
    {
     "data": {
      "text/plain": [
       "(10,)"
      ]
     },
     "execution_count": 36,
     "metadata": {},
     "output_type": "execute_result"
    }
   ],
   "source": [
    "dsa.shape(arr3)"
   ]
  },
  {
   "cell_type": "code",
   "execution_count": 37,
   "id": "f682bf1e",
   "metadata": {},
   "outputs": [
    {
     "name": "stdout",
     "output_type": "stream",
     "text": [
      "int64\n"
     ]
    }
   ],
   "source": [
    "print(arr3.dtype)  # tipos de dados DENTRO do array"
   ]
  },
  {
   "cell_type": "code",
   "execution_count": 38,
   "id": "15ad47f8",
   "metadata": {},
   "outputs": [],
   "source": [
    "# Array preenchido com zeros\n",
    "arr4 = dsa.zeros(10)"
   ]
  },
  {
   "cell_type": "code",
   "execution_count": 39,
   "id": "04a8377b",
   "metadata": {},
   "outputs": [
    {
     "name": "stdout",
     "output_type": "stream",
     "text": [
      "[0. 0. 0. 0. 0. 0. 0. 0. 0. 0.]\n"
     ]
    }
   ],
   "source": [
    "print(arr4)"
   ]
  },
  {
   "cell_type": "code",
   "execution_count": null,
   "id": "6f98c0f3",
   "metadata": {},
   "outputs": [],
   "source": []
  }
 ],
 "metadata": {
  "kernelspec": {
   "display_name": "Python 3 (ipykernel)",
   "language": "python",
   "name": "python3"
  },
  "language_info": {
   "codemirror_mode": {
    "name": "ipython",
    "version": 3
   },
   "file_extension": ".py",
   "mimetype": "text/x-python",
   "name": "python",
   "nbconvert_exporter": "python",
   "pygments_lexer": "ipython3",
   "version": "3.10.9"
  }
 },
 "nbformat": 4,
 "nbformat_minor": 5
}
