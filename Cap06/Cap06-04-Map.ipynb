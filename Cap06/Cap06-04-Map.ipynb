{
 "cells": [
  {
   "cell_type": "markdown",
   "id": "70461489",
   "metadata": {},
   "source": [
    "## Função Map"
   ]
  },
  {
   "cell_type": "markdown",
   "id": "cc3d072a",
   "metadata": {},
   "source": [
    "Função map() aplica determinada função a cada elemento de uma estrutura de dados iterável (lista, tupla...). Retorna um objeto que pode ser convertido em outra estrutura de dados, como uma lista."
   ]
  },
  {
   "cell_type": "code",
   "execution_count": 4,
   "id": "f3de3e10",
   "metadata": {},
   "outputs": [],
   "source": [
    "# Função Python que retorna número ao quadrado\n",
    "def potencia(x):\n",
    "    return x ** 2"
   ]
  },
  {
   "cell_type": "code",
   "execution_count": 5,
   "id": "d2729065",
   "metadata": {},
   "outputs": [],
   "source": [
    "numeros = [1, 2, 3, 4, 5]"
   ]
  },
  {
   "cell_type": "code",
   "execution_count": 6,
   "id": "997fff6a",
   "metadata": {},
   "outputs": [],
   "source": [
    "numeros_ao_quadrado = list(map(potencia, numeros))    #map(<metodo>,<lista de entrada>)"
   ]
  },
  {
   "cell_type": "code",
   "execution_count": 7,
   "id": "c1b8a861",
   "metadata": {},
   "outputs": [
    {
     "name": "stdout",
     "output_type": "stream",
     "text": [
      "[1, 4, 9, 16, 25]\n"
     ]
    }
   ],
   "source": [
    "print(numeros_ao_quadrado)"
   ]
  },
  {
   "cell_type": "code",
   "execution_count": 8,
   "id": "3eed5a70",
   "metadata": {},
   "outputs": [],
   "source": [
    "# Criando duas funções\n",
    "\n",
    "# Função 1 - Recebe temperatura e retorna Fahrenheint\n",
    "def fahrenheit(T):\n",
    "    return ((float(9)/5)*T + 32)\n",
    "\n",
    "# Função 2 - Recebe uma temperatura e retorna em Celcius\n",
    "def celsius(T):\n",
    "    return (float(5)/9)*(T - 32)"
   ]
  },
  {
   "cell_type": "code",
   "execution_count": 9,
   "id": "2f403f81",
   "metadata": {},
   "outputs": [],
   "source": [
    "# Criando uma lista\n",
    "temperaturas = [0,22.5, 40, 100]"
   ]
  },
  {
   "cell_type": "code",
   "execution_count": 10,
   "id": "0d82cf7a",
   "metadata": {},
   "outputs": [
    {
     "data": {
      "text/plain": [
       "<map at 0x7fa2210d86a0>"
      ]
     },
     "execution_count": 10,
     "metadata": {},
     "output_type": "execute_result"
    }
   ],
   "source": [
    "# Aplicando a função a cada elemento da lista de temperaturas.\n",
    "# Python 3 : map() retorna iterador\n",
    "map(fahrenheit, temperaturas)"
   ]
  },
  {
   "cell_type": "code",
   "execution_count": 11,
   "id": "e8a3ff08",
   "metadata": {},
   "outputs": [
    {
     "data": {
      "text/plain": [
       "[32.0, 72.5, 104.0, 212.0]"
      ]
     },
     "execution_count": 11,
     "metadata": {},
     "output_type": "execute_result"
    }
   ],
   "source": [
    "# Funçao map() retornando a lista de temparaturas convertidas  (converter o iterator em lista)\n",
    "list(map(fahrenheit, temperaturas))"
   ]
  },
  {
   "cell_type": "code",
   "execution_count": 12,
   "id": "2c9df415",
   "metadata": {},
   "outputs": [
    {
     "name": "stdout",
     "output_type": "stream",
     "text": [
      "32.0\n",
      "72.5\n",
      "104.0\n",
      "212.0\n"
     ]
    }
   ],
   "source": [
    "# Usando loop for para imprimir o resultado da função map()\n",
    "for temp in map(fahrenheit, temperaturas):\n",
    "    print(temp)"
   ]
  },
  {
   "cell_type": "code",
   "execution_count": 13,
   "id": "90d5cd02",
   "metadata": {},
   "outputs": [
    {
     "data": {
      "text/plain": [
       "<map at 0x7fa2210d8610>"
      ]
     },
     "execution_count": 13,
     "metadata": {},
     "output_type": "execute_result"
    }
   ],
   "source": [
    "# Convertendo para Celsius\n",
    "map(celsius, temperaturas)"
   ]
  },
  {
   "cell_type": "code",
   "execution_count": 14,
   "id": "b02ab003",
   "metadata": {},
   "outputs": [
    {
     "data": {
      "text/plain": [
       "[-17.77777777777778, -5.277777777777778, 4.444444444444445, 37.77777777777778]"
      ]
     },
     "execution_count": 14,
     "metadata": {},
     "output_type": "execute_result"
    }
   ],
   "source": [
    "list(map(celsius, temperaturas))"
   ]
  },
  {
   "cell_type": "code",
   "execution_count": 15,
   "id": "adf5a34d",
   "metadata": {},
   "outputs": [
    {
     "data": {
      "text/plain": [
       "<map at 0x7fa2210d8130>"
      ]
     },
     "execution_count": 15,
     "metadata": {},
     "output_type": "execute_result"
    }
   ],
   "source": [
    "# No lugar da função celsius, usando uma função lambda que faz o mesmo \n",
    "map(lambda x: (5.0/9)*(x - 32), temperaturas)"
   ]
  },
  {
   "cell_type": "code",
   "execution_count": 16,
   "id": "045dbeea",
   "metadata": {},
   "outputs": [
    {
     "data": {
      "text/plain": [
       "[-17.77777777777778, -5.277777777777778, 4.444444444444445, 37.77777777777778]"
      ]
     },
     "execution_count": 16,
     "metadata": {},
     "output_type": "execute_result"
    }
   ],
   "source": [
    "list(map(lambda x: (5.0/9)*(x - 32), temperaturas))"
   ]
  },
  {
   "cell_type": "code",
   "execution_count": 17,
   "id": "91080909",
   "metadata": {},
   "outputs": [],
   "source": [
    "# Somando os elementos de 2 listas\n",
    "a = [1, 2, 3, 4]\n",
    "b = [5, 6, 7, 8]"
   ]
  },
  {
   "cell_type": "code",
   "execution_count": 18,
   "id": "57230cbb",
   "metadata": {},
   "outputs": [
    {
     "data": {
      "text/plain": [
       "[6, 8, 10, 12]"
      ]
     },
     "execution_count": 18,
     "metadata": {},
     "output_type": "execute_result"
    }
   ],
   "source": [
    "list(map(lambda x,y:x+y, a, b))"
   ]
  },
  {
   "cell_type": "code",
   "execution_count": 19,
   "id": "a0338443",
   "metadata": {},
   "outputs": [],
   "source": [
    "# Somando 3 listas\n",
    "a = [1, 2, 3, 4]\n",
    "b = [5, 6, 7, 8]\n",
    "c = [9,10,11,12]\n"
   ]
  },
  {
   "cell_type": "code",
   "execution_count": 20,
   "id": "2c1edb6f",
   "metadata": {},
   "outputs": [
    {
     "data": {
      "text/plain": [
       "[15, 18, 21, 24]"
      ]
     },
     "execution_count": 20,
     "metadata": {},
     "output_type": "execute_result"
    }
   ],
   "source": [
    "list(map(lambda x, y, z:x + y + z, a, b, c))"
   ]
  },
  {
   "cell_type": "markdown",
   "id": "a77eb809",
   "metadata": {},
   "source": [
    "## Fim"
   ]
  },
  {
   "cell_type": "code",
   "execution_count": null,
   "id": "9894e097",
   "metadata": {},
   "outputs": [],
   "source": []
  }
 ],
 "metadata": {
  "kernelspec": {
   "display_name": "Python 3 (ipykernel)",
   "language": "python",
   "name": "python3"
  },
  "language_info": {
   "codemirror_mode": {
    "name": "ipython",
    "version": 3
   },
   "file_extension": ".py",
   "mimetype": "text/x-python",
   "name": "python",
   "nbconvert_exporter": "python",
   "pygments_lexer": "ipython3",
   "version": "3.10.9"
  }
 },
 "nbformat": 4,
 "nbformat_minor": 5
}
