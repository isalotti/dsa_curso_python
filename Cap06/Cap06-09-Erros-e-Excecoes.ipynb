{
 "cells": [
  {
   "cell_type": "markdown",
   "id": "47bfa3aa",
   "metadata": {},
   "source": [
    "## Erros e Exceções"
   ]
  },
  {
   "cell_type": "code",
   "execution_count": 1,
   "id": "ffb2fd14",
   "metadata": {},
   "outputs": [
    {
     "ename": "TypeError",
     "evalue": "unsupported operand type(s) for +: 'int' and 'str'",
     "output_type": "error",
     "traceback": [
      "\u001b[0;31m---------------------------------------------------------------------------\u001b[0m",
      "\u001b[0;31mTypeError\u001b[0m                                 Traceback (most recent call last)",
      "Cell \u001b[0;32mIn[1], line 1\u001b[0m\n\u001b[0;32m----> 1\u001b[0m \u001b[38;5;241;43m8\u001b[39;49m\u001b[43m \u001b[49m\u001b[38;5;241;43m+\u001b[39;49m\u001b[43m \u001b[49m\u001b[38;5;124;43m'\u001b[39;49m\u001b[38;5;124;43ms\u001b[39;49m\u001b[38;5;124;43m'\u001b[39;49m\n",
      "\u001b[0;31mTypeError\u001b[0m: unsupported operand type(s) for +: 'int' and 'str'"
     ]
    }
   ],
   "source": [
    "8 + 's'"
   ]
  },
  {
   "cell_type": "code",
   "execution_count": 2,
   "id": "5f6d51be",
   "metadata": {},
   "outputs": [],
   "source": [
    "# Função s/ tratamento\n",
    "def numDiv(num1, num2):\n",
    "    resultado = num1 / num2\n",
    "    print(resultado)"
   ]
  },
  {
   "cell_type": "code",
   "execution_count": 3,
   "id": "b0c1f207",
   "metadata": {},
   "outputs": [
    {
     "name": "stdout",
     "output_type": "stream",
     "text": [
      "2.0\n"
     ]
    }
   ],
   "source": [
    "# Execução normal\n",
    "numDiv(4,2)"
   ]
  },
  {
   "cell_type": "code",
   "execution_count": 4,
   "id": "a2b9d83f",
   "metadata": {},
   "outputs": [
    {
     "ename": "ZeroDivisionError",
     "evalue": "division by zero",
     "output_type": "error",
     "traceback": [
      "\u001b[0;31m---------------------------------------------------------------------------\u001b[0m",
      "\u001b[0;31mZeroDivisionError\u001b[0m                         Traceback (most recent call last)",
      "Cell \u001b[0;32mIn[4], line 2\u001b[0m\n\u001b[1;32m      1\u001b[0m \u001b[38;5;66;03m# Com erro\u001b[39;00m\n\u001b[0;32m----> 2\u001b[0m \u001b[43mnumDiv\u001b[49m\u001b[43m(\u001b[49m\u001b[38;5;241;43m4\u001b[39;49m\u001b[43m,\u001b[49m\u001b[38;5;241;43m0\u001b[39;49m\u001b[43m)\u001b[49m\n",
      "Cell \u001b[0;32mIn[2], line 3\u001b[0m, in \u001b[0;36mnumDiv\u001b[0;34m(num1, num2)\u001b[0m\n\u001b[1;32m      2\u001b[0m \u001b[38;5;28;01mdef\u001b[39;00m \u001b[38;5;21mnumDiv\u001b[39m(num1, num2):\n\u001b[0;32m----> 3\u001b[0m     resultado \u001b[38;5;241m=\u001b[39m \u001b[43mnum1\u001b[49m\u001b[43m \u001b[49m\u001b[38;5;241;43m/\u001b[39;49m\u001b[43m \u001b[49m\u001b[43mnum2\u001b[49m\n\u001b[1;32m      4\u001b[0m     \u001b[38;5;28mprint\u001b[39m(resultado)\n",
      "\u001b[0;31mZeroDivisionError\u001b[0m: division by zero"
     ]
    }
   ],
   "source": [
    "# Com erro   - ZeroDivisionError: division by zero\n",
    "numDiv(4,0)"
   ]
  },
  {
   "cell_type": "markdown",
   "id": "cefe2343",
   "metadata": {},
   "source": [
    "## Try, Except, Finally"
   ]
  },
  {
   "cell_type": "code",
   "execution_count": 5,
   "id": "a22f518d",
   "metadata": {},
   "outputs": [
    {
     "name": "stdout",
     "output_type": "stream",
     "text": [
      "Operação não permitida!\n"
     ]
    }
   ],
   "source": [
    "try:\n",
    "    8 + 's'\n",
    "except TypeError:         # Tipo da exceção a ser tratada : erro de tipo\n",
    "    print(\"Operação não permitida!\")"
   ]
  },
  {
   "cell_type": "code",
   "execution_count": 6,
   "id": "68ff5c42",
   "metadata": {},
   "outputs": [
    {
     "name": "stdout",
     "output_type": "stream",
     "text": [
      "Conteúdo gravado com sucesso!\n"
     ]
    }
   ],
   "source": [
    "# try, except e else\n",
    "try:\n",
    "    f = open('Arquivos/testandoerros.txt','w')\n",
    "    f.write('Gravando no arquivo')\n",
    "except IOError:   # Tipo da exceção a ser tratada : erro de entrada/saida\n",
    "    print(\"Erro: arquivo não encontrado ou não pode ser salvo.\")\n",
    "else:\n",
    "    print(\"Conteúdo gravado com sucesso!\")\n",
    "    f.close()"
   ]
  },
  {
   "cell_type": "code",
   "execution_count": 8,
   "id": "71da36e9",
   "metadata": {},
   "outputs": [
    {
     "name": "stdout",
     "output_type": "stream",
     "text": [
      "Erro: arquivo não encontrado ou não pode ser lido.\n"
     ]
    }
   ],
   "source": [
    "# try, except e else\n",
    "try:\n",
    "    f = open('Arquivos/testandoerros','r')   #omitindo a extensão, não conseguirá abrir o arquivo\n",
    "    f.write('Gravando no arquivo')\n",
    "except IOError:   # Tipo da exceção a ser tratada : erro de entrada/saida\n",
    "    print(\"Erro: arquivo não encontrado ou não pode ser lido.\")\n",
    "else:\n",
    "    print(\"Conteúdo lido com sucesso!\")\n",
    "    f.close()"
   ]
  },
  {
   "cell_type": "code",
   "execution_count": 9,
   "id": "6f4e842b",
   "metadata": {},
   "outputs": [
    {
     "name": "stdout",
     "output_type": "stream",
     "text": [
      "Conteúdo gravado com sucesso!\n",
      "Comandos no bloco finally sempre serão executados!!\n"
     ]
    }
   ],
   "source": [
    "# try, except, else e finally\n",
    "try:\n",
    "    f = open('Arquivos/testandoerros.txt','w')\n",
    "    f.write('Gravando no arquivo')\n",
    "except IOError:   # Tipo da exceção a ser tratada : erro de entrada/saida\n",
    "    print(\"Erro: arquivo não encontrado ou não pode ser salvo.\")\n",
    "else:\n",
    "    print(\"Conteúdo gravado com sucesso!\")\n",
    "    f.close()\n",
    "finally:\n",
    "    print(\"Comandos no bloco finally sempre serão executados!!\")"
   ]
  },
  {
   "cell_type": "code",
   "execution_count": 10,
   "id": "c0cfcad6",
   "metadata": {},
   "outputs": [],
   "source": [
    "def askint():\n",
    "    try:\n",
    "        val = int(input(\"Digite um número: \"))\n",
    "    except:        # aceita qq classe de erro\n",
    "        print(\"Você não digitou um número!\")\n",
    "    finally:\n",
    "        print(\"Obrigado!\")"
   ]
  },
  {
   "cell_type": "code",
   "execution_count": 11,
   "id": "49126815",
   "metadata": {},
   "outputs": [
    {
     "name": "stdout",
     "output_type": "stream",
     "text": [
      "Digite um número: o\n",
      "Você não digitou um número!\n",
      "Obrigado!\n"
     ]
    }
   ],
   "source": [
    "askint()"
   ]
  },
  {
   "cell_type": "code",
   "execution_count": 12,
   "id": "59537cbc",
   "metadata": {},
   "outputs": [],
   "source": [
    "# Dando uma chance a mais para digitar um número\n",
    "def askint():\n",
    "    try:\n",
    "        val = int(input(\"Digite um número: \"))\n",
    "    except:        # aceita qq classe de erro\n",
    "        print(\"Você não digitou um número!\")\n",
    "        val = int(input(\"Tente novamente.Digite um número: \"))\n",
    "    finally:\n",
    "        print(\"Obrigado!\")"
   ]
  },
  {
   "cell_type": "code",
   "execution_count": 13,
   "id": "617b60d8",
   "metadata": {},
   "outputs": [
    {
     "name": "stdout",
     "output_type": "stream",
     "text": [
      "Digite um número: i\n",
      "Você não digitou um número!\n",
      "Tente novamente.Digite um número: 8\n",
      "Obrigado!\n"
     ]
    }
   ],
   "source": [
    "askint()"
   ]
  },
  {
   "cell_type": "code",
   "execution_count": 14,
   "id": "775e47ec",
   "metadata": {},
   "outputs": [],
   "source": [
    "# Versão melhorada : valida por erro todas as tentativas de digitação, até que se digite um número.\n",
    "def askint():\n",
    "    while True:\n",
    "        try:\n",
    "            val = int(input(\"Digite um número: \"))\n",
    "        except:        # aceita qq classe de erro\n",
    "            print(\"Você não digitou um número!\")\n",
    "            continue\n",
    "        else:\n",
    "            print(\"Obrigado por digitar um número!\")\n",
    "            break\n",
    "        finally:\n",
    "            print(\"Fim da execução!\")\n",
    "        print(val)"
   ]
  },
  {
   "cell_type": "code",
   "execution_count": 15,
   "id": "6e49a9b8",
   "metadata": {},
   "outputs": [
    {
     "name": "stdout",
     "output_type": "stream",
     "text": [
      "Digite um número: i\n",
      "Você não digitou um número!\n",
      "Fim da execução!\n",
      "Digite um número: i\n",
      "Você não digitou um número!\n",
      "Fim da execução!\n",
      "Digite um número: i\n",
      "Você não digitou um número!\n",
      "Fim da execução!\n",
      "Digite um número: 9\n",
      "Obrigado por digitar um número!\n",
      "Fim da execução!\n"
     ]
    }
   ],
   "source": [
    "askint()"
   ]
  },
  {
   "cell_type": "code",
   "execution_count": null,
   "id": "8c6477db",
   "metadata": {},
   "outputs": [],
   "source": []
  }
 ],
 "metadata": {
  "kernelspec": {
   "display_name": "Python 3 (ipykernel)",
   "language": "python",
   "name": "python3"
  },
  "language_info": {
   "codemirror_mode": {
    "name": "ipython",
    "version": 3
   },
   "file_extension": ".py",
   "mimetype": "text/x-python",
   "name": "python",
   "nbconvert_exporter": "python",
   "pygments_lexer": "ipython3",
   "version": "3.10.9"
  }
 },
 "nbformat": 4,
 "nbformat_minor": 5
}
