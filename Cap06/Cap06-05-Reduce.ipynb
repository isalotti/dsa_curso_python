{
 "cells": [
  {
   "cell_type": "markdown",
   "id": "7f86b959",
   "metadata": {},
   "source": [
    "## Função Reduce"
   ]
  },
  {
   "cell_type": "markdown",
   "id": "b05eab0c",
   "metadata": {},
   "source": [
    "A função reduce() é da biblioteca functools que aplica determinada função binária a pares consecutivos de elementos em uma estrutura de dados iterável (como uma lista, tupla ou outro objeto iterável), reduzindo-a a um único valor."
   ]
  },
  {
   "cell_type": "code",
   "execution_count": 1,
   "id": "da19bf55",
   "metadata": {},
   "outputs": [],
   "source": [
    "# Importando a função reduce\n",
    "from functools import reduce"
   ]
  },
  {
   "cell_type": "code",
   "execution_count": 3,
   "id": "238668b8",
   "metadata": {},
   "outputs": [
    {
     "data": {
      "text/plain": [
       "[47, 11, 42, 13]"
      ]
     },
     "execution_count": 3,
     "metadata": {},
     "output_type": "execute_result"
    }
   ],
   "source": [
    "# Criando a lista\n",
    "lista = [47, 11, 42, 13]\n",
    "lista"
   ]
  },
  {
   "cell_type": "code",
   "execution_count": 4,
   "id": "baef2e5f",
   "metadata": {},
   "outputs": [],
   "source": [
    "# Função\n",
    "def soma(a, b):\n",
    "    x = a + b\n",
    "    return x"
   ]
  },
  {
   "cell_type": "code",
   "execution_count": 5,
   "id": "3106cc71",
   "metadata": {},
   "outputs": [
    {
     "data": {
      "text/plain": [
       "113"
      ]
     },
     "execution_count": 5,
     "metadata": {},
     "output_type": "execute_result"
    }
   ],
   "source": [
    "# Reduce como função em uma lista. Função vai retornar o valor máximo\n",
    "# Soma o primeiro com o segundo, soma o resultado anterior com o terceiro número e assim por diante.\n",
    "reduce(soma, lista)"
   ]
  },
  {
   "cell_type": "code",
   "execution_count": 6,
   "id": "16f7c5e2",
   "metadata": {},
   "outputs": [],
   "source": [
    "# Nova lista\n",
    "lst = [47, 11, 42, 13]"
   ]
  },
  {
   "cell_type": "code",
   "execution_count": 7,
   "id": "a5c2b3e4",
   "metadata": {},
   "outputs": [
    {
     "data": {
      "text/plain": [
       "113"
      ]
     },
     "execution_count": 7,
     "metadata": {},
     "output_type": "execute_result"
    }
   ],
   "source": [
    "# Usando reduce() com lambda\n",
    "reduce(lambda x, y: x + y, lst)"
   ]
  },
  {
   "cell_type": "code",
   "execution_count": 8,
   "id": "75d3e9ca",
   "metadata": {},
   "outputs": [],
   "source": [
    "# Atribuindo a função lambda `a variável\n",
    "max_find2 = lambda a,b: a if (a > b) else b"
   ]
  },
  {
   "cell_type": "code",
   "execution_count": 9,
   "id": "9f012165",
   "metadata": {},
   "outputs": [
    {
     "data": {
      "text/plain": [
       "function"
      ]
     },
     "execution_count": 9,
     "metadata": {},
     "output_type": "execute_result"
    }
   ],
   "source": [
    "type(max_find2)"
   ]
  },
  {
   "cell_type": "code",
   "execution_count": 10,
   "id": "07b1b2b8",
   "metadata": {},
   "outputs": [
    {
     "data": {
      "text/plain": [
       "47"
      ]
     },
     "execution_count": 10,
     "metadata": {},
     "output_type": "execute_result"
    }
   ],
   "source": [
    "# Reduzindo a lista até achar o valor máximo, através da função lambda\n",
    "reduce(max_find2, lst)"
   ]
  },
  {
   "cell_type": "markdown",
   "id": "09ab7503",
   "metadata": {},
   "source": [
    "## Fim"
   ]
  },
  {
   "cell_type": "code",
   "execution_count": null,
   "id": "6d633e53",
   "metadata": {},
   "outputs": [],
   "source": []
  }
 ],
 "metadata": {
  "kernelspec": {
   "display_name": "Python 3 (ipykernel)",
   "language": "python",
   "name": "python3"
  },
  "language_info": {
   "codemirror_mode": {
    "name": "ipython",
    "version": 3
   },
   "file_extension": ".py",
   "mimetype": "text/x-python",
   "name": "python",
   "nbconvert_exporter": "python",
   "pygments_lexer": "ipython3",
   "version": "3.10.9"
  }
 },
 "nbformat": 4,
 "nbformat_minor": 5
}
