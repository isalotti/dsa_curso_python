{
 "cells": [
  {
   "cell_type": "markdown",
   "id": "b132e43f",
   "metadata": {},
   "source": [
    "## Função Zip"
   ]
  },
  {
   "cell_type": "markdown",
   "id": "c825aad0",
   "metadata": {},
   "source": [
    "A função zip() agrupa elementos de múltiplas estruturas de dados iteráveis juntos em pares. Retorna objeto que pode ser convertido em outra estrutura de lista ou dicionário.\n"
   ]
  },
  {
   "cell_type": "code",
   "execution_count": 1,
   "id": "c6568cd4",
   "metadata": {},
   "outputs": [],
   "source": [
    "# Criando 2 listas\n",
    "x = [1,2,3]\n",
    "y = [4,5,6]"
   ]
  },
  {
   "cell_type": "code",
   "execution_count": 2,
   "id": "82f30b1d",
   "metadata": {},
   "outputs": [
    {
     "data": {
      "text/plain": [
       "<zip at 0x7fe8e8cf0b80>"
      ]
     },
     "execution_count": 2,
     "metadata": {},
     "output_type": "execute_result"
    }
   ],
   "source": [
    "# Unindo as listas\n",
    "zip(x,y)"
   ]
  },
  {
   "cell_type": "code",
   "execution_count": 3,
   "id": "2cbea082",
   "metadata": {},
   "outputs": [
    {
     "data": {
      "text/plain": [
       "[(1, 4), (2, 5), (3, 6)]"
      ]
     },
     "execution_count": 3,
     "metadata": {},
     "output_type": "execute_result"
    }
   ],
   "source": [
    "# Zip retorna tuplas, neste caso uma lista de tuplas\n",
    "list(zip(x,y))"
   ]
  },
  {
   "cell_type": "code",
   "execution_count": 4,
   "id": "6ab6ff91",
   "metadata": {},
   "outputs": [
    {
     "data": {
      "text/plain": [
       "[('A', 'X'), ('B', 'Y')]"
      ]
     },
     "execution_count": 4,
     "metadata": {},
     "output_type": "execute_result"
    }
   ],
   "source": [
    "# Anção quando as sequências tiverem número diferente de elementos\n",
    "list(zip('ABCD','XY'))    # Vai unir só 2 pares, indo pelo menor (descarta o terceiro)"
   ]
  },
  {
   "cell_type": "code",
   "execution_count": 5,
   "id": "bb60214d",
   "metadata": {},
   "outputs": [
    {
     "data": {
      "text/plain": [
       "[(1, 4), (2, 5), (3, 6)]"
      ]
     },
     "execution_count": 5,
     "metadata": {},
     "output_type": "execute_result"
    }
   ],
   "source": [
    "# Novas listas\n",
    "a = [1, 2, 3]\n",
    "b = [4, 5, 6, 7, 8]\n",
    "list(zip(a,b))        # Mesma coisa.. 7 e 8 descartados"
   ]
  },
  {
   "cell_type": "code",
   "execution_count": 6,
   "id": "5ad14aa9",
   "metadata": {},
   "outputs": [],
   "source": [
    "# Criando dicionários\n",
    "d1 = {'a':1, 'b':2}\n",
    "d2 = {'c':4, 'd':5}"
   ]
  },
  {
   "cell_type": "code",
   "execution_count": 7,
   "id": "1d774582",
   "metadata": {},
   "outputs": [
    {
     "data": {
      "text/plain": [
       "[('a', 'c'), ('b', 'd')]"
      ]
     },
     "execution_count": 7,
     "metadata": {},
     "output_type": "execute_result"
    }
   ],
   "source": [
    "# Zip vai unir as chaves\n",
    "list(zip(d1,d2))"
   ]
  },
  {
   "cell_type": "code",
   "execution_count": 8,
   "id": "fb17f1d5",
   "metadata": {},
   "outputs": [
    {
     "data": {
      "text/plain": [
       "[('a', 4), ('b', 5)]"
      ]
     },
     "execution_count": 8,
     "metadata": {},
     "output_type": "execute_result"
    }
   ],
   "source": [
    "# Zip unindo chave de d1 e  valores de d2\n",
    "list(zip(d1,d2.values()))"
   ]
  },
  {
   "cell_type": "code",
   "execution_count": 13,
   "id": "dd7a5a84",
   "metadata": {},
   "outputs": [],
   "source": [
    "# Função para trocar valores entre 2 dicionários\n",
    "def trocaValores(d1,d2):\n",
    "    dicTemp = {}\n",
    "    for d1key, d2val in zip(d1, d2.values()):\n",
    "        dicTemp[d1key] = d2val\n",
    "        \n",
    "    return dicTemp"
   ]
  },
  {
   "cell_type": "code",
   "execution_count": 14,
   "id": "f7deacaf",
   "metadata": {},
   "outputs": [
    {
     "data": {
      "text/plain": [
       "{'a': 4, 'b': 5}"
      ]
     },
     "execution_count": 14,
     "metadata": {},
     "output_type": "execute_result"
    }
   ],
   "source": [
    "trocaValores(d1,d2)"
   ]
  }
 ],
 "metadata": {
  "kernelspec": {
   "display_name": "Python 3 (ipykernel)",
   "language": "python",
   "name": "python3"
  },
  "language_info": {
   "codemirror_mode": {
    "name": "ipython",
    "version": 3
   },
   "file_extension": ".py",
   "mimetype": "text/x-python",
   "name": "python",
   "nbconvert_exporter": "python",
   "pygments_lexer": "ipython3",
   "version": "3.10.9"
  }
 },
 "nbformat": 4,
 "nbformat_minor": 5
}
