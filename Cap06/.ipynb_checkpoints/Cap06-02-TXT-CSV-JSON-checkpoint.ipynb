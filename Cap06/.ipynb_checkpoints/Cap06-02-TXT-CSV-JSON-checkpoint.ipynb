{
 "cells": [
  {
   "cell_type": "markdown",
   "id": "dcaad7c2",
   "metadata": {},
   "source": [
    "## Manipulando arquivos TXT"
   ]
  },
  {
   "cell_type": "code",
   "execution_count": 1,
   "id": "d0ad4ffd",
   "metadata": {},
   "outputs": [],
   "source": [
    "texto = \"Cientista de Dados pode ser uma excelente alternativa de carreira.\\n\"\n",
    "texto = texto + \"Esses profissionais precisam saber como progarmar em Python.\\n\"\n",
    "texto += \"E, claro, devem ser proficientes em Data Science.\""
   ]
  },
  {
   "cell_type": "code",
   "execution_count": 2,
   "id": "f2f72f23",
   "metadata": {},
   "outputs": [
    {
     "name": "stdout",
     "output_type": "stream",
     "text": [
      "Cientista de Dados pode ser uma excelente alternativa de carreira.\n",
      "Esses profissionais precisam saber como progarmar em Python.\n",
      "E, claro, devem ser proficientes em Data Science.\n"
     ]
    }
   ],
   "source": [
    "print(texto)"
   ]
  },
  {
   "cell_type": "code",
   "execution_count": 3,
   "id": "1ab031b4",
   "metadata": {},
   "outputs": [],
   "source": [
    "# Importando módulo os - interagir com o sistema operacional\n",
    "import os"
   ]
  },
  {
   "cell_type": "code",
   "execution_count": 4,
   "id": "bbcdb7dd",
   "metadata": {},
   "outputs": [],
   "source": [
    "# Criando o arquivo\n",
    "arquivo = open(os.path.join('Arquivos/cientista.txt'),'w')   #write"
   ]
  },
  {
   "cell_type": "code",
   "execution_count": 6,
   "id": "40bcda0e",
   "metadata": {},
   "outputs": [],
   "source": [
    "# Gravando os dados\n",
    "for palavra in texto.split():\n",
    "    arquivo.write(palavra + ' ')"
   ]
  },
  {
   "cell_type": "code",
   "execution_count": 7,
   "id": "3096e991",
   "metadata": {},
   "outputs": [],
   "source": [
    "arquivo.close()"
   ]
  },
  {
   "cell_type": "code",
   "execution_count": 8,
   "id": "b751dc6e",
   "metadata": {},
   "outputs": [
    {
     "name": "stdout",
     "output_type": "stream",
     "text": [
      "Cientista de Dados pode ser uma excelente alternativa de carreira. Esses profissionais precisam saber como progarmar em Python. E, claro, devem ser proficientes em Data Science. \n"
     ]
    }
   ],
   "source": [
    "# Leitura\n",
    "arquivo = open('Arquivos/cientista.txt','r')\n",
    "conteudo = arquivo.read()\n",
    "arquivo.close()\n",
    "print(conteudo)"
   ]
  },
  {
   "cell_type": "markdown",
   "id": "bce28e05",
   "metadata": {},
   "source": [
    "## Usando expressão with"
   ]
  },
  {
   "cell_type": "markdown",
   "id": "b7365d3e",
   "metadata": {},
   "source": [
    "#### Método close() é executado automaticamente"
   ]
  },
  {
   "cell_type": "code",
   "execution_count": 9,
   "id": "856c9dae",
   "metadata": {},
   "outputs": [],
   "source": [
    "with open('Arquivos/cientista.txt','r') as arquivo:\n",
    "    conteudo = arquivo.read()"
   ]
  },
  {
   "cell_type": "code",
   "execution_count": 10,
   "id": "94cc7eb1",
   "metadata": {},
   "outputs": [
    {
     "name": "stdout",
     "output_type": "stream",
     "text": [
      "178\n"
     ]
    }
   ],
   "source": [
    "print(len(conteudo))"
   ]
  },
  {
   "cell_type": "code",
   "execution_count": 11,
   "id": "4654fd03",
   "metadata": {},
   "outputs": [
    {
     "name": "stdout",
     "output_type": "stream",
     "text": [
      "Cientista de Dados pode ser uma excelente alternativa de carreira. Esses profissionais precisam saber como progarmar em Python. E, claro, devem ser proficientes em Data Science. \n"
     ]
    }
   ],
   "source": [
    "print(conteudo)"
   ]
  },
  {
   "cell_type": "code",
   "execution_count": 13,
   "id": "becbd7e9",
   "metadata": {},
   "outputs": [],
   "source": [
    "with open('Arquivos/cientista.txt','w') as arquivo:\n",
    "    arquivo.write(texto[:19])\n",
    "    arquivo.write('\\n')\n",
    "    arquivo.write(texto[28:66])"
   ]
  },
  {
   "cell_type": "code",
   "execution_count": 14,
   "id": "d2d4792a",
   "metadata": {},
   "outputs": [
    {
     "name": "stdout",
     "output_type": "stream",
     "text": [
      "Cientista de Dados \n",
      "uma excelente alternativa de carreira.\n"
     ]
    }
   ],
   "source": [
    "arquivo = open('Arquivos/cientista.txt','r')\n",
    "conteudo = arquivo.read()\n",
    "arquivo.close()\n",
    "print(conteudo)"
   ]
  },
  {
   "cell_type": "markdown",
   "id": "b9c298a5",
   "metadata": {},
   "source": [
    "## Manipulando Arquivos CSV"
   ]
  },
  {
   "cell_type": "code",
   "execution_count": 15,
   "id": "cbe0f048",
   "metadata": {},
   "outputs": [],
   "source": [
    "# Importando o módulo CSV\n",
    "import csv"
   ]
  },
  {
   "cell_type": "code",
   "execution_count": 16,
   "id": "6ba34344",
   "metadata": {},
   "outputs": [],
   "source": [
    "with open('Arquivos/numeros.csv','w') as arquivo:\n",
    "    writer = csv.writer(arquivo)\n",
    "    writer.writerow(('nota1','nota2','nota3'))  #usando uma tupla\n",
    "    writer.writerow((63,87,92))\n",
    "    writer.writerow((61,79,76))\n",
    "    writer.writerow((72,64,91))"
   ]
  },
  {
   "cell_type": "code",
   "execution_count": 17,
   "id": "90d7b5b8",
   "metadata": {},
   "outputs": [
    {
     "name": "stdout",
     "output_type": "stream",
     "text": [
      "['nota1', 'nota2', 'nota3']\n",
      "['63', '87', '92']\n",
      "['61', '79', '76']\n",
      "['72', '64', '91']\n"
     ]
    }
   ],
   "source": [
    "# Leitura\n",
    "with open('Arquivos/numeros.csv','r', encoding='utf8', newline = '\\r\\n') as arquivo:\n",
    "    leitor = csv.reader(arquivo)\n",
    "    for x in leitor:\n",
    "        print(x)"
   ]
  },
  {
   "cell_type": "code",
   "execution_count": 18,
   "id": "0f82d427",
   "metadata": {},
   "outputs": [],
   "source": [
    "# Gerando uma lista com os dados do csv\n",
    "with open('Arquivos/numeros.csv','r') as arquivo:\n",
    "    leitor = csv.reader(arquivo)   #objeto de leitura\n",
    "    dados = list(leitor)"
   ]
  },
  {
   "cell_type": "code",
   "execution_count": 19,
   "id": "8f81b524",
   "metadata": {},
   "outputs": [
    {
     "name": "stdout",
     "output_type": "stream",
     "text": [
      "[['nota1', 'nota2', 'nota3'], ['63', '87', '92'], ['61', '79', '76'], ['72', '64', '91']]\n"
     ]
    }
   ],
   "source": [
    "print(dados)"
   ]
  },
  {
   "cell_type": "code",
   "execution_count": 20,
   "id": "b4f441f4",
   "metadata": {},
   "outputs": [
    {
     "name": "stdout",
     "output_type": "stream",
     "text": [
      "['63', '87', '92']\n",
      "['61', '79', '76']\n",
      "['72', '64', '91']\n"
     ]
    }
   ],
   "source": [
    "# Imprime info a partir da segunda linha (excluir o cabeçalho)\n",
    "for linha in dados [1:]:   #dados é lista, inicia em indice 0 -> cabeçalho\n",
    "    print(linha)"
   ]
  },
  {
   "cell_type": "code",
   "execution_count": null,
   "id": "a6cedc76",
   "metadata": {},
   "outputs": [],
   "source": []
  }
 ],
 "metadata": {
  "kernelspec": {
   "display_name": "Python 3 (ipykernel)",
   "language": "python",
   "name": "python3"
  },
  "language_info": {
   "codemirror_mode": {
    "name": "ipython",
    "version": 3
   },
   "file_extension": ".py",
   "mimetype": "text/x-python",
   "name": "python",
   "nbconvert_exporter": "python",
   "pygments_lexer": "ipython3",
   "version": "3.10.9"
  }
 },
 "nbformat": 4,
 "nbformat_minor": 5
}
