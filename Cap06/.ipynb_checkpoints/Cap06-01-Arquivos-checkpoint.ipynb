{
 "cells": [
  {
   "cell_type": "markdown",
   "id": "13b90c13",
   "metadata": {},
   "source": [
    "## Manipulação de Arquivos"
   ]
  },
  {
   "cell_type": "code",
   "execution_count": 1,
   "id": "42a26588",
   "metadata": {},
   "outputs": [
    {
     "ename": "NameError",
     "evalue": "name 'python_version' is not defined",
     "output_type": "error",
     "traceback": [
      "\u001b[0;31m---------------------------------------------------------------------------\u001b[0m",
      "\u001b[0;31mNameError\u001b[0m                                 Traceback (most recent call last)",
      "Cell \u001b[0;32mIn[1], line 1\u001b[0m\n\u001b[0;32m----> 1\u001b[0m \u001b[43mpython_version\u001b[49m()\n",
      "\u001b[0;31mNameError\u001b[0m: name 'python_version' is not defined"
     ]
    }
   ],
   "source": []
  },
  {
   "cell_type": "markdown",
   "id": "6090e95f",
   "metadata": {},
   "source": [
    "#### Lendo Arquivos"
   ]
  },
  {
   "cell_type": "code",
   "execution_count": 2,
   "id": "b2ee180c",
   "metadata": {},
   "outputs": [],
   "source": [
    "# Abrindo o arquivo\n",
    "arq1 = open(\"Arquivos/arquivo1.txt\",\"r\")  # r = read"
   ]
  },
  {
   "cell_type": "code",
   "execution_count": 3,
   "id": "a2769e0e",
   "metadata": {},
   "outputs": [
    {
     "data": {
      "text/plain": [
       "_io.TextIOWrapper"
      ]
     },
     "execution_count": 3,
     "metadata": {},
     "output_type": "execute_result"
    }
   ],
   "source": [
    "type(arq1)"
   ]
  },
  {
   "cell_type": "code",
   "execution_count": 4,
   "id": "4a9d2f5c",
   "metadata": {},
   "outputs": [
    {
     "name": "stdout",
     "output_type": "stream",
     "text": [
      "A Data Science Academy fornece cursos de alta qualidade e que transmitem muito conhecimento.\n"
     ]
    }
   ],
   "source": [
    "# Lendo o arquivo\n",
    "print(arq1.read())"
   ]
  },
  {
   "cell_type": "code",
   "execution_count": 5,
   "id": "b29e2372",
   "metadata": {},
   "outputs": [
    {
     "name": "stdout",
     "output_type": "stream",
     "text": [
      "92\n"
     ]
    }
   ],
   "source": [
    "# Contar caracters\n",
    "print(arq1.tell())"
   ]
  },
  {
   "cell_type": "code",
   "execution_count": 6,
   "id": "50e58ee9",
   "metadata": {},
   "outputs": [
    {
     "name": "stdout",
     "output_type": "stream",
     "text": [
      "\n",
      "0\n"
     ]
    }
   ],
   "source": [
    "print(arq1.read())  # o arquivo já está no final, não vai ler nada!\n",
    "# Retornar para o início do arquivo\n",
    "print(arq1.seek(0,0))"
   ]
  },
  {
   "cell_type": "code",
   "execution_count": 7,
   "id": "6d927dde",
   "metadata": {},
   "outputs": [
    {
     "name": "stdout",
     "output_type": "stream",
     "text": [
      "A Data Science Academy \n"
     ]
    }
   ],
   "source": [
    "# Lendo os 23 primeiros caracters\n",
    "print(arq1.read(23))"
   ]
  },
  {
   "cell_type": "markdown",
   "id": "43fca89f",
   "metadata": {},
   "source": [
    "#### Gravando Arquivos"
   ]
  },
  {
   "cell_type": "code",
   "execution_count": 8,
   "id": "e74af788",
   "metadata": {},
   "outputs": [],
   "source": [
    "# Abrindo para gravação  (sem arquivo existente na pasta, vai criar um arquivo novo)\n",
    "arq2 = open(\"Arquivos/arquivo2.txt\", \"w\")  # W = write  - sempre sobrescreve todo o arquivo"
   ]
  },
  {
   "cell_type": "code",
   "execution_count": 10,
   "id": "9784bb96",
   "metadata": {},
   "outputs": [
    {
     "ename": "UnsupportedOperation",
     "evalue": "not readable",
     "output_type": "error",
     "traceback": [
      "\u001b[0;31m---------------------------------------------------------------------------\u001b[0m",
      "\u001b[0;31mUnsupportedOperation\u001b[0m                      Traceback (most recent call last)",
      "Cell \u001b[0;32mIn[10], line 2\u001b[0m\n\u001b[1;32m      1\u001b[0m \u001b[38;5;66;03m# Como abriu como gravação, não pode usar comandos de leitura! (vai dar erro)\u001b[39;00m\n\u001b[0;32m----> 2\u001b[0m \u001b[38;5;28mprint\u001b[39m(\u001b[43marq2\u001b[49m\u001b[38;5;241;43m.\u001b[39;49m\u001b[43mread\u001b[49m\u001b[43m(\u001b[49m\u001b[43m)\u001b[49m)\n",
      "\u001b[0;31mUnsupportedOperation\u001b[0m: not readable"
     ]
    }
   ],
   "source": [
    "# Como abriu como gravação, não pode usar comandos de leitura! (vai dar erro)\n",
    "print(arq2.read())"
   ]
  },
  {
   "cell_type": "code",
   "execution_count": 11,
   "id": "dced928d",
   "metadata": {},
   "outputs": [
    {
     "data": {
      "text/plain": [
       "33"
      ]
     },
     "execution_count": 11,
     "metadata": {},
     "output_type": "execute_result"
    }
   ],
   "source": [
    "# Gravando no arquivo\n",
    "arq2.write(\"Aprendendo a programar em Python.\")"
   ]
  },
  {
   "cell_type": "code",
   "execution_count": 13,
   "id": "43b98b45",
   "metadata": {},
   "outputs": [],
   "source": [
    "arq2.close()   # finaliza a gravação"
   ]
  },
  {
   "cell_type": "code",
   "execution_count": 14,
   "id": "3f611f9a",
   "metadata": {},
   "outputs": [
    {
     "name": "stdout",
     "output_type": "stream",
     "text": [
      "Aprendendo a programar em Python.\n"
     ]
    }
   ],
   "source": [
    "# Abrindo para leitura e verificando o conteúdo\n",
    "arq2 = open(\"Arquivos/arquivo2.txt\", \"r\") \n",
    "print(arq2.read())"
   ]
  },
  {
   "cell_type": "code",
   "execution_count": 15,
   "id": "850d9901",
   "metadata": {},
   "outputs": [],
   "source": [
    "# Acrescentando texto ao fim do arquivo\n",
    "arq2 = open(\"Arquivos/arquivo2.txt\", \"a\")  # a = append   - acrescentar ao fim sem sobrescrever o arquivo."
   ]
  },
  {
   "cell_type": "code",
   "execution_count": 16,
   "id": "d763e74e",
   "metadata": {},
   "outputs": [
    {
     "data": {
      "text/plain": [
       "57"
      ]
     },
     "execution_count": 16,
     "metadata": {},
     "output_type": "execute_result"
    }
   ],
   "source": [
    "arq2.write(\" E a metodologia de ensino da DSA facilita o aprendizado.\")"
   ]
  },
  {
   "cell_type": "code",
   "execution_count": 17,
   "id": "1de24f39",
   "metadata": {},
   "outputs": [],
   "source": [
    "arq2.close()   #fechando a gravação"
   ]
  },
  {
   "cell_type": "code",
   "execution_count": 19,
   "id": "d8c7922b",
   "metadata": {},
   "outputs": [],
   "source": [
    "arq2 = open(\"Arquivos/arquivo2.txt\", \"r\") "
   ]
  },
  {
   "cell_type": "code",
   "execution_count": 20,
   "id": "9501c03e",
   "metadata": {},
   "outputs": [
    {
     "name": "stdout",
     "output_type": "stream",
     "text": [
      "Aprendendo a programar em Python. E a metodologia de ensino da DSA facilita o aprendizado.\n"
     ]
    }
   ],
   "source": [
    "print(arq2.read())"
   ]
  },
  {
   "cell_type": "code",
   "execution_count": 21,
   "id": "dbb3a3ea",
   "metadata": {},
   "outputs": [
    {
     "name": "stdout",
     "output_type": "stream",
     "text": [
      "Aprendendo a programar em Python. E a metodologia de ensino da DSA facilita o aprendizado.\n"
     ]
    }
   ],
   "source": [
    "#Voltando o cursor para o inicio do arquivo\n",
    "arq2.seek(0,0)\n",
    "print(arq2.read())"
   ]
  },
  {
   "cell_type": "code",
   "execution_count": null,
   "id": "0cca4942",
   "metadata": {},
   "outputs": [],
   "source": []
  }
 ],
 "metadata": {
  "kernelspec": {
   "display_name": "Python 3 (ipykernel)",
   "language": "python",
   "name": "python3"
  },
  "language_info": {
   "codemirror_mode": {
    "name": "ipython",
    "version": 3
   },
   "file_extension": ".py",
   "mimetype": "text/x-python",
   "name": "python",
   "nbconvert_exporter": "python",
   "pygments_lexer": "ipython3",
   "version": "3.10.9"
  }
 },
 "nbformat": 4,
 "nbformat_minor": 5
}
