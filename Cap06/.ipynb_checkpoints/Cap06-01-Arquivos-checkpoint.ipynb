{
 "cells": [
  {
   "cell_type": "markdown",
   "id": "13b90c13",
   "metadata": {},
   "source": [
    "## Manipulação de Arquivos"
   ]
  },
  {
   "cell_type": "code",
   "execution_count": 1,
   "id": "42a26588",
   "metadata": {},
   "outputs": [
    {
     "ename": "NameError",
     "evalue": "name 'python_version' is not defined",
     "output_type": "error",
     "traceback": [
      "\u001b[0;31m---------------------------------------------------------------------------\u001b[0m",
      "\u001b[0;31mNameError\u001b[0m                                 Traceback (most recent call last)",
      "Cell \u001b[0;32mIn[1], line 1\u001b[0m\n\u001b[0;32m----> 1\u001b[0m \u001b[43mpython_version\u001b[49m()\n",
      "\u001b[0;31mNameError\u001b[0m: name 'python_version' is not defined"
     ]
    }
   ],
   "source": []
  },
  {
   "cell_type": "markdown",
   "id": "6090e95f",
   "metadata": {},
   "source": [
    "#### Lendo Arquivos"
   ]
  },
  {
   "cell_type": "code",
   "execution_count": 2,
   "id": "b2ee180c",
   "metadata": {},
   "outputs": [],
   "source": [
    "# Abrindo o arquivo\n",
    "arq1 = open(\"Arquivos/arquivo1.txt\",\"r\")  # r = read"
   ]
  },
  {
   "cell_type": "code",
   "execution_count": 3,
   "id": "a2769e0e",
   "metadata": {},
   "outputs": [
    {
     "data": {
      "text/plain": [
       "_io.TextIOWrapper"
      ]
     },
     "execution_count": 3,
     "metadata": {},
     "output_type": "execute_result"
    }
   ],
   "source": [
    "type(arq1)"
   ]
  },
  {
   "cell_type": "code",
   "execution_count": 4,
   "id": "4a9d2f5c",
   "metadata": {},
   "outputs": [
    {
     "name": "stdout",
     "output_type": "stream",
     "text": [
      "A Data Science Academy fornece cursos de alta qualidade e que transmitem muito conhecimento.\n"
     ]
    }
   ],
   "source": [
    "# Lendo o arquivo\n",
    "print(arq1.read())"
   ]
  },
  {
   "cell_type": "code",
   "execution_count": 5,
   "id": "b29e2372",
   "metadata": {},
   "outputs": [
    {
     "name": "stdout",
     "output_type": "stream",
     "text": [
      "92\n"
     ]
    }
   ],
   "source": [
    "# Contar caracters\n",
    "print(arq1.tell())"
   ]
  },
  {
   "cell_type": "code",
   "execution_count": 6,
   "id": "50e58ee9",
   "metadata": {},
   "outputs": [
    {
     "name": "stdout",
     "output_type": "stream",
     "text": [
      "\n",
      "0\n"
     ]
    }
   ],
   "source": [
    "print(arq1.read())  # o arquivo já está no final, não vai ler nada!\n",
    "# Retornar para o início do arquivo\n",
    "print(arq1.seek(0,0))"
   ]
  },
  {
   "cell_type": "code",
   "execution_count": 7,
   "id": "6d927dde",
   "metadata": {},
   "outputs": [
    {
     "name": "stdout",
     "output_type": "stream",
     "text": [
      "A Data Science Academy \n"
     ]
    }
   ],
   "source": [
    "# Lendo os 23 primeiros caracters\n",
    "print(arq1.read(23))"
   ]
  },
  {
   "cell_type": "markdown",
   "id": "43fca89f",
   "metadata": {},
   "source": [
    "#### Gravando Arquivos"
   ]
  },
  {
   "cell_type": "code",
   "execution_count": 8,
   "id": "e74af788",
   "metadata": {},
   "outputs": [],
   "source": [
    "# Abrindo para gravação  (sem arquivo existente na pasta, vai criar um arquivo novo)\n",
    "arq2 = open(\"Arquivos/arquivo2.txt\", \"w\")  # W = write  - sempre sobrescreve todo o arquivo"
   ]
  },
  {
   "cell_type": "code",
   "execution_count": 10,
   "id": "9784bb96",
   "metadata": {},
   "outputs": [
    {
     "ename": "UnsupportedOperation",
     "evalue": "not readable",
     "output_type": "error",
     "traceback": [
      "\u001b[0;31m---------------------------------------------------------------------------\u001b[0m",
      "\u001b[0;31mUnsupportedOperation\u001b[0m                      Traceback (most recent call last)",
      "Cell \u001b[0;32mIn[10], line 2\u001b[0m\n\u001b[1;32m      1\u001b[0m \u001b[38;5;66;03m# Como abriu como gravação, não pode usar comandos de leitura! (vai dar erro)\u001b[39;00m\n\u001b[0;32m----> 2\u001b[0m \u001b[38;5;28mprint\u001b[39m(\u001b[43marq2\u001b[49m\u001b[38;5;241;43m.\u001b[39;49m\u001b[43mread\u001b[49m\u001b[43m(\u001b[49m\u001b[43m)\u001b[49m)\n",
      "\u001b[0;31mUnsupportedOperation\u001b[0m: not readable"
     ]
    }
   ],
   "source": [
    "# Como abriu como gravação, não pode usar comandos de leitura! (vai dar erro)\n",
    "print(arq2.read())"
   ]
  },
  {
   "cell_type": "code",
   "execution_count": 11,
   "id": "dced928d",
   "metadata": {},
   "outputs": [
    {
     "data": {
      "text/plain": [
       "33"
      ]
     },
     "execution_count": 11,
     "metadata": {},
     "output_type": "execute_result"
    }
   ],
   "source": [
    "# Gravando no arquivo\n",
    "arq2.write(\"Aprendendo a programar em Python.\")"
   ]
  },
  {
   "cell_type": "code",
   "execution_count": 13,
   "id": "43b98b45",
   "metadata": {},
   "outputs": [],
   "source": [
    "arq2.close()   # finaliza a gravação"
   ]
  },
  {
   "cell_type": "code",
   "execution_count": 14,
   "id": "3f611f9a",
   "metadata": {},
   "outputs": [
    {
     "name": "stdout",
     "output_type": "stream",
     "text": [
      "Aprendendo a programar em Python.\n"
     ]
    }
   ],
   "source": [
    "# Abrindo para leitura e verificando o conteúdo\n",
    "arq2 = open(\"Arquivos/arquivo2.txt\", \"r\") \n",
    "print(arq2.read())"
   ]
  },
  {
   "cell_type": "code",
   "execution_count": 15,
   "id": "850d9901",
   "metadata": {},
   "outputs": [],
   "source": [
    "# Acrescentando texto ao fim do arquivo\n",
    "arq2 = open(\"Arquivos/arquivo2.txt\", \"a\")  # a = append   - acrescentar ao fim sem sobrescrever o arquivo."
   ]
  },
  {
   "cell_type": "code",
   "execution_count": 16,
   "id": "d763e74e",
   "metadata": {},
   "outputs": [
    {
     "data": {
      "text/plain": [
       "57"
      ]
     },
     "execution_count": 16,
     "metadata": {},
     "output_type": "execute_result"
    }
   ],
   "source": [
    "arq2.write(\" E a metodologia de ensino da DSA facilita o aprendizado.\")"
   ]
  },
  {
   "cell_type": "code",
   "execution_count": 17,
   "id": "1de24f39",
   "metadata": {},
   "outputs": [],
   "source": [
    "arq2.close()   #fechando a gravação"
   ]
  },
  {
   "cell_type": "code",
   "execution_count": 19,
   "id": "d8c7922b",
   "metadata": {},
   "outputs": [],
   "source": [
    "arq2 = open(\"Arquivos/arquivo2.txt\", \"r\") "
   ]
  },
  {
   "cell_type": "code",
   "execution_count": 20,
   "id": "9501c03e",
   "metadata": {},
   "outputs": [
    {
     "name": "stdout",
     "output_type": "stream",
     "text": [
      "Aprendendo a programar em Python. E a metodologia de ensino da DSA facilita o aprendizado.\n"
     ]
    }
   ],
   "source": [
    "print(arq2.read())"
   ]
  },
  {
   "cell_type": "code",
   "execution_count": 21,
   "id": "dbb3a3ea",
   "metadata": {},
   "outputs": [
    {
     "name": "stdout",
     "output_type": "stream",
     "text": [
      "Aprendendo a programar em Python. E a metodologia de ensino da DSA facilita o aprendizado.\n"
     ]
    }
   ],
   "source": [
    "#Voltando o cursor para o inicio do arquivo\n",
    "arq2.seek(0,0)\n",
    "print(arq2.read())"
   ]
  },
  {
   "cell_type": "markdown",
   "id": "b967946a",
   "metadata": {},
   "source": [
    "## Abrindo Dataset em Linha Única"
   ]
  },
  {
   "cell_type": "markdown",
   "id": "bdedb172",
   "metadata": {},
   "source": [
    "##### Arquivo obtido no site de dados abertos do governo da cidade de chicago, nos EUA:\n",
    "\n",
    "https://data.cityofchicago.org/"
   ]
  },
  {
   "cell_type": "code",
   "execution_count": 4,
   "id": "e9a5f12d",
   "metadata": {},
   "outputs": [],
   "source": [
    "f = open(\"Arquivos/salarios.csv\",\"r\")"
   ]
  },
  {
   "cell_type": "code",
   "execution_count": 5,
   "id": "6c7f7982",
   "metadata": {},
   "outputs": [],
   "source": [
    "data = f.read()"
   ]
  },
  {
   "cell_type": "code",
   "execution_count": 6,
   "id": "2e31d860",
   "metadata": {},
   "outputs": [],
   "source": [
    "rows = data.split('\\n')"
   ]
  },
  {
   "cell_type": "code",
   "execution_count": 7,
   "id": "9455e63a",
   "metadata": {},
   "outputs": [],
   "source": [
    "full_data = []"
   ]
  },
  {
   "cell_type": "code",
   "execution_count": 10,
   "id": "8a9ce552",
   "metadata": {},
   "outputs": [
    {
     "data": {
      "text/plain": [
       "list"
      ]
     },
     "execution_count": 10,
     "metadata": {},
     "output_type": "execute_result"
    }
   ],
   "source": [
    "type(rows)"
   ]
  },
  {
   "cell_type": "code",
   "execution_count": 8,
   "id": "39447ec1",
   "metadata": {},
   "outputs": [],
   "source": [
    "for row in rows:\n",
    "    split_row = row.split(\",\")\n",
    "    full_data.append(split_row)"
   ]
  },
  {
   "cell_type": "code",
   "execution_count": 9,
   "id": "a752456e",
   "metadata": {},
   "outputs": [
    {
     "name": "stdout",
     "output_type": "stream",
     "text": [
      "[['“Nome”', ' “Salario” ', ' “Cidade” '], ['“Izabela”', ' “10.000”', ' “Magé” '], ['“Leonardo”', '”34.000”', '”Santo Aleixo”'], ['“João”', '”5.000”', '”Rio de Janeiro”'], ['“Catarina”', '”12.000”', '”São Paulo”']]\n"
     ]
    }
   ],
   "source": [
    "print(full_data)"
   ]
  },
  {
   "cell_type": "markdown",
   "id": "cdbd5947",
   "metadata": {},
   "source": [
    "## Contando as Linhas de um arquivo"
   ]
  },
  {
   "cell_type": "code",
   "execution_count": 13,
   "id": "68fdcba5",
   "metadata": {},
   "outputs": [
    {
     "name": "stdout",
     "output_type": "stream",
     "text": [
      "5\n"
     ]
    }
   ],
   "source": [
    "count = 0\n",
    "for row in full_data:\n",
    "    count += 1\n",
    "    \n",
    "print(count)"
   ]
  },
  {
   "cell_type": "markdown",
   "id": "e27b68f9",
   "metadata": {},
   "source": [
    "## Contando o número de colunas de um arquivo"
   ]
  },
  {
   "cell_type": "code",
   "execution_count": 14,
   "id": "cf87a2e2",
   "metadata": {},
   "outputs": [],
   "source": [
    "for row in rows:\n",
    "    split_row = row.split(\",\")\n",
    "    full_data.append(split_row)\n",
    "    first_row = full_data[0]\n",
    "count = 0"
   ]
  },
  {
   "cell_type": "code",
   "execution_count": 16,
   "id": "49a1fe29",
   "metadata": {},
   "outputs": [],
   "source": [
    "for column in first_row:\n",
    "    count = count + 1\n",
    "    \n",
    "# Outra solução:\n",
    "# for column in full_data[0]:\n",
    "#    count += 1"
   ]
  },
  {
   "cell_type": "code",
   "execution_count": 17,
   "id": "984d6392",
   "metadata": {},
   "outputs": [
    {
     "name": "stdout",
     "output_type": "stream",
     "text": [
      "6\n"
     ]
    }
   ],
   "source": [
    "print(count)"
   ]
  },
  {
   "cell_type": "markdown",
   "id": "e6d25e70",
   "metadata": {},
   "source": [
    "## Gravando Arquivo pelo Jupyter Notebook"
   ]
  },
  {
   "cell_type": "code",
   "execution_count": 22,
   "id": "8fd131f9",
   "metadata": {},
   "outputs": [
    {
     "name": "stdout",
     "output_type": "stream",
     "text": [
      "Writing Arquivos/arquivo3.txt\n"
     ]
    }
   ],
   "source": [
    "%%writefile Arquivos/arquivo3.txt\n",
    "Este arquivo foi gerado pelo Jupyter Notebook.\n",
    "Podemos gerar várias linhas."
   ]
  },
  {
   "cell_type": "code",
   "execution_count": 23,
   "id": "b76ea995",
   "metadata": {},
   "outputs": [],
   "source": [
    "# Operador do jupyter notebook : %%writefile"
   ]
  },
  {
   "cell_type": "code",
   "execution_count": 24,
   "id": "b5022002",
   "metadata": {},
   "outputs": [
    {
     "data": {
      "text/plain": [
       "'Este arquivo foi gerado pelo Jupyter Notebook.\\nPodemos gerar várias linhas.\\n'"
      ]
     },
     "execution_count": 24,
     "metadata": {},
     "output_type": "execute_result"
    }
   ],
   "source": [
    "arq3 = open(\"Arquivos/arquivo3.txt\",\"r\")\n",
    "arq3.read()"
   ]
  },
  {
   "cell_type": "code",
   "execution_count": 26,
   "id": "2d0782d1",
   "metadata": {},
   "outputs": [
    {
     "data": {
      "text/plain": [
       "0"
      ]
     },
     "execution_count": 26,
     "metadata": {},
     "output_type": "execute_result"
    }
   ],
   "source": [
    "#retornando para o inicio\n",
    "arq3.seek(0)"
   ]
  },
  {
   "cell_type": "code",
   "execution_count": 27,
   "id": "f6a9b4f7",
   "metadata": {},
   "outputs": [
    {
     "data": {
      "text/plain": [
       "['Este arquivo foi gerado pelo Jupyter Notebook.\\n',\n",
       " 'Podemos gerar várias linhas.\\n']"
      ]
     },
     "execution_count": 27,
     "metadata": {},
     "output_type": "execute_result"
    }
   ],
   "source": [
    "arq3.readlines()"
   ]
  },
  {
   "cell_type": "code",
   "execution_count": 28,
   "id": "ebbe197f",
   "metadata": {},
   "outputs": [
    {
     "name": "stdout",
     "output_type": "stream",
     "text": [
      "Este arquivo foi gerado pelo Jupyter Notebook.\n",
      "\n",
      "Podemos gerar várias linhas.\n",
      "\n"
     ]
    }
   ],
   "source": [
    "# Loop for para ler o arquivo\n",
    "for line in open('Arquivos/arquivo3.txt'):\n",
    "    print(line)"
   ]
  },
  {
   "cell_type": "markdown",
   "id": "04a65448",
   "metadata": {},
   "source": [
    "## Importando um DataSet com Pandas"
   ]
  },
  {
   "cell_type": "code",
   "execution_count": 29,
   "id": "7131beeb",
   "metadata": {},
   "outputs": [],
   "source": [
    "import pandas as pd"
   ]
  },
  {
   "cell_type": "code",
   "execution_count": 30,
   "id": "8d79473d",
   "metadata": {},
   "outputs": [
    {
     "data": {
      "text/plain": [
       "'1.5.3'"
      ]
     },
     "execution_count": 30,
     "metadata": {},
     "output_type": "execute_result"
    }
   ],
   "source": [
    "pd.__version__"
   ]
  },
  {
   "cell_type": "code",
   "execution_count": 38,
   "id": "9c24a295",
   "metadata": {},
   "outputs": [],
   "source": [
    "arquivo = \"Arquivos/salarios.csv\""
   ]
  },
  {
   "cell_type": "code",
   "execution_count": 39,
   "id": "93df5607",
   "metadata": {},
   "outputs": [],
   "source": [
    "df = pd.read_csv(arquivo)"
   ]
  },
  {
   "cell_type": "code",
   "execution_count": 40,
   "id": "7b3a8c58",
   "metadata": {},
   "outputs": [
    {
     "data": {
      "text/html": [
       "<div>\n",
       "<style scoped>\n",
       "    .dataframe tbody tr th:only-of-type {\n",
       "        vertical-align: middle;\n",
       "    }\n",
       "\n",
       "    .dataframe tbody tr th {\n",
       "        vertical-align: top;\n",
       "    }\n",
       "\n",
       "    .dataframe thead th {\n",
       "        text-align: right;\n",
       "    }\n",
       "</style>\n",
       "<table border=\"1\" class=\"dataframe\">\n",
       "  <thead>\n",
       "    <tr style=\"text-align: right;\">\n",
       "      <th></th>\n",
       "      <th>Nome</th>\n",
       "      <th>Salario</th>\n",
       "      <th>Cidade</th>\n",
       "    </tr>\n",
       "  </thead>\n",
       "  <tbody>\n",
       "    <tr>\n",
       "      <th>0</th>\n",
       "      <td>Izabela</td>\n",
       "      <td>10.0</td>\n",
       "      <td>Magé</td>\n",
       "    </tr>\n",
       "    <tr>\n",
       "      <th>1</th>\n",
       "      <td>Leonardo</td>\n",
       "      <td>34.0</td>\n",
       "      <td>Santo Aleixo</td>\n",
       "    </tr>\n",
       "    <tr>\n",
       "      <th>2</th>\n",
       "      <td>João</td>\n",
       "      <td>5.0</td>\n",
       "      <td>Rio de Janeiro</td>\n",
       "    </tr>\n",
       "    <tr>\n",
       "      <th>3</th>\n",
       "      <td>Catarina</td>\n",
       "      <td>12.0</td>\n",
       "      <td>São Paulo</td>\n",
       "    </tr>\n",
       "  </tbody>\n",
       "</table>\n",
       "</div>"
      ],
      "text/plain": [
       "       Nome   Salario         Cidade \n",
       "0   Izabela      10.0            Magé\n",
       "1  Leonardo      34.0    Santo Aleixo\n",
       "2      João       5.0  Rio de Janeiro\n",
       "3  Catarina      12.0       São Paulo"
      ]
     },
     "execution_count": 40,
     "metadata": {},
     "output_type": "execute_result"
    }
   ],
   "source": [
    "df.head()"
   ]
  },
  {
   "cell_type": "code",
   "execution_count": 43,
   "id": "3942004a",
   "metadata": {},
   "outputs": [
    {
     "data": {
      "text/plain": [
       "Izabela     1\n",
       "Leonardo    1\n",
       "João        1\n",
       "Catarina    1\n",
       "Name: Nome, dtype: int64"
      ]
     },
     "execution_count": 43,
     "metadata": {},
     "output_type": "execute_result"
    }
   ],
   "source": [
    "df['Nome'].value_counts()   #colocar o nome da coluna"
   ]
  },
  {
   "cell_type": "code",
   "execution_count": null,
   "id": "43d38551",
   "metadata": {},
   "outputs": [],
   "source": []
  }
 ],
 "metadata": {
  "kernelspec": {
   "display_name": "Python 3 (ipykernel)",
   "language": "python",
   "name": "python3"
  },
  "language_info": {
   "codemirror_mode": {
    "name": "ipython",
    "version": 3
   },
   "file_extension": ".py",
   "mimetype": "text/x-python",
   "name": "python",
   "nbconvert_exporter": "python",
   "pygments_lexer": "ipython3",
   "version": "3.10.9"
  }
 },
 "nbformat": 4,
 "nbformat_minor": 5
}
