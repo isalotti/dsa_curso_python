{
 "cells": [
  {
   "cell_type": "markdown",
   "id": "100a451f",
   "metadata": {},
   "source": [
    "## Expressões Regulares"
   ]
  },
  {
   "cell_type": "code",
   "execution_count": 1,
   "id": "2402d1e4",
   "metadata": {},
   "outputs": [],
   "source": [
    "import re     "
   ]
  },
  {
   "cell_type": "code",
   "execution_count": 2,
   "id": "e1ed87c2",
   "metadata": {},
   "outputs": [],
   "source": [
    "texto = \"Meu e-mail é exemplo@yahoo.com e você pode me contatar em outro@gmail.com.\""
   ]
  },
  {
   "cell_type": "code",
   "execution_count": 3,
   "id": "20ce925b",
   "metadata": {},
   "outputs": [],
   "source": [
    "#Quantas vezes @ aparece no texto\n",
    "resultado = len(re.findall(\"@\",texto))"
   ]
  },
  {
   "cell_type": "code",
   "execution_count": 4,
   "id": "3b6c5d5c",
   "metadata": {},
   "outputs": [
    {
     "name": "stdout",
     "output_type": "stream",
     "text": [
      "@ apareceu  2  vezes no texto.\n"
     ]
    }
   ],
   "source": [
    "print(\"@ apareceu \", resultado,\" vezes no texto.\")"
   ]
  },
  {
   "cell_type": "code",
   "execution_count": 9,
   "id": "51091f8f",
   "metadata": {},
   "outputs": [],
   "source": [
    "#Extrair a palavra que aparece após \"você\"\n",
    "resultado = re.findall(r'você (\\w+)', texto)   # você <um caractere espaco> <qualquer n. de letras depois>\n",
    "#r em python é usado para indicar que a string é \"crua\" (raw) , assim barra \n",
    "# invertida vai ser considerada sem ser caractere de scape."
   ]
  },
  {
   "cell_type": "code",
   "execution_count": 7,
   "id": "6a8841d2",
   "metadata": {},
   "outputs": [
    {
     "name": "stdout",
     "output_type": "stream",
     "text": [
      "A palavra após 'você' é: pode\n"
     ]
    }
   ],
   "source": [
    "print(\"A palavra após 'você' é:\",resultado[0])"
   ]
  },
  {
   "cell_type": "code",
   "execution_count": 10,
   "id": "17b7d9b0",
   "metadata": {},
   "outputs": [],
   "source": [
    "# RE para extrair endereços de e-mail de uma string\n",
    "emails = re.findall(r'\\b[A-Za-z0-9._%+-]+@[A-Za-z0-9.-]+\\.[A-Z|a-z]{2,}\\b', texto)  #vide documentação na biblioteca re"
   ]
  },
  {
   "cell_type": "code",
   "execution_count": 11,
   "id": "9c9480d1",
   "metadata": {},
   "outputs": [
    {
     "name": "stdout",
     "output_type": "stream",
     "text": [
      "['exemplo@yahoo.com', 'outro@gmail.com']\n"
     ]
    }
   ],
   "source": [
    "print(emails)"
   ]
  },
  {
   "cell_type": "code",
   "execution_count": 19,
   "id": "bd230a49",
   "metadata": {},
   "outputs": [],
   "source": [
    "text = \"O aluno estava incrivelmente perdido, mas encontrou a DSA e rapidadamente começou a aprender.\""
   ]
  },
  {
   "cell_type": "code",
   "execution_count": 20,
   "id": "8f9e2362",
   "metadata": {},
   "outputs": [
    {
     "name": "stdout",
     "output_type": "stream",
     "text": [
      "15-28: incrivelmente\n",
      "60-73: rapidadamente\n"
     ]
    }
   ],
   "source": [
    "# Extraindo os advérbios\n",
    "for m in re.finditer(r'\\w+mente\\b' ,text):   # palavras terminadas em 'mente'\n",
    "    print('%02d-%02d: %s' % (m.start(), m.end(), m.group(0)))  #start = indice de inicio... "
   ]
  },
  {
   "cell_type": "code",
   "execution_count": 24,
   "id": "8229c1d9",
   "metadata": {},
   "outputs": [
    {
     "name": "stdout",
     "output_type": "stream",
     "text": [
      "A vogal 'a' apareceu 6 vezes.\n"
     ]
    }
   ],
   "source": [
    "# Quantas vezes aparece 'a' no texto\n",
    "texto1 = \"Este é um texto de exemplo que conta as ocorrências da vogal 'a'.\"\n",
    "resultado1 = len(re.findall(r\"a\",texto1))\n",
    "print(\"A vogal 'a' apareceu\", resultado1,\"vezes.\")"
   ]
  },
  {
   "cell_type": "code",
   "execution_count": 25,
   "id": "2aa10736",
   "metadata": {},
   "outputs": [
    {
     "name": "stdout",
     "output_type": "stream",
     "text": [
      "A palavra 'conta' apareceu 1 vezes.\n"
     ]
    }
   ],
   "source": [
    "# Quantas vezes aparece 'conta' no texto\n",
    "texto1 = \"Este é um texto de exemplo que conta as ocorrências da vogal 'a'.\"\n",
    "resultado1 = len(re.findall(r\"\\bconta\\b\",texto1))\n",
    "print(\"A palavra 'conta' apareceu\", resultado1,\"vezes.\")"
   ]
  },
  {
   "cell_type": "code",
   "execution_count": 28,
   "id": "2fba5fa5",
   "metadata": {},
   "outputs": [
    {
     "name": "stdout",
     "output_type": "stream",
     "text": [
      "Palavras seguidas de exclamação: ['exemplo!', 'exclamação!']\n"
     ]
    }
   ],
   "source": [
    "# Quantas vezes aparece palavras que tenham exclamação no texto\n",
    "texto2 = \"Este é um texto de exemplo!Para retornar as ocorrências de palavras com exclamação!\"\n",
    "resultado2 = re.findall(r'\\b\\w+!',texto2)\n",
    "print(\"Palavras seguidas de exclamação:\", resultado2)"
   ]
  },
  {
   "cell_type": "code",
   "execution_count": 33,
   "id": "3bda941b",
   "metadata": {},
   "outputs": [
    {
     "name": "stdout",
     "output_type": "stream",
     "text": [
      "Palavras entre 'esse' e 'amargo':  ['gosto']\n"
     ]
    }
   ],
   "source": [
    "# Palavras cujo antecessor seja a palavra 'esse' e o sucessor 'amargo'.\n",
    "texto3 = \"esse gosto amargo.\"\n",
    "resultado3 = re.findall(r'\\besse\\s(\\w+)\\samargo',texto3)      #\\b = string vazia\n",
    "print(\"Palavras entre 'esse' e 'amargo': \", resultado3)"
   ]
  },
  {
   "cell_type": "code",
   "execution_count": 36,
   "id": "0d964d9f",
   "metadata": {},
   "outputs": [
    {
     "name": "stdout",
     "output_type": "stream",
     "text": [
      "Palavras com acento:  ['açú', 'café']\n"
     ]
    }
   ],
   "source": [
    "# Palavras com acento, somente retornar caracteres na palavra anteriores ao caractere com acento\n",
    "texto4 = \"Esse exemplo é composto de palavras com acento, como açúcar e café.\"\n",
    "resultado4 = re.findall(r'\\b[\\wÀ-ÿ]+[áéíóúãõç]',texto4)      #[\\wÀ-ÿ]traz todas as letras\n",
    "print(\"Palavras com acento: \", resultado4)"
   ]
  },
  {
   "cell_type": "code",
   "execution_count": null,
   "id": "8681e694",
   "metadata": {},
   "outputs": [],
   "source": []
  }
 ],
 "metadata": {
  "kernelspec": {
   "display_name": "Python 3 (ipykernel)",
   "language": "python",
   "name": "python3"
  },
  "language_info": {
   "codemirror_mode": {
    "name": "ipython",
    "version": 3
   },
   "file_extension": ".py",
   "mimetype": "text/x-python",
   "name": "python",
   "nbconvert_exporter": "python",
   "pygments_lexer": "ipython3",
   "version": "3.10.9"
  }
 },
 "nbformat": 4,
 "nbformat_minor": 5
}
