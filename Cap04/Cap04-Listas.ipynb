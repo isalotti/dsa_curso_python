{
 "cells": [
  {
   "cell_type": "markdown",
   "id": "f9d88342",
   "metadata": {},
   "source": [
    "# Listas"
   ]
  },
  {
   "cell_type": "code",
   "execution_count": 1,
   "id": "5bc0573e",
   "metadata": {},
   "outputs": [],
   "source": [
    "# Criando uma lista\n",
    "lista_1 = [ \"arroz, frango, tomate, leite\"]"
   ]
  },
  {
   "cell_type": "code",
   "execution_count": 2,
   "id": "36f6ed85",
   "metadata": {},
   "outputs": [
    {
     "data": {
      "text/plain": [
       "list"
      ]
     },
     "execution_count": 2,
     "metadata": {},
     "output_type": "execute_result"
    }
   ],
   "source": [
    "type(lista_1)"
   ]
  },
  {
   "cell_type": "code",
   "execution_count": 3,
   "id": "efa0b415",
   "metadata": {},
   "outputs": [
    {
     "name": "stdout",
     "output_type": "stream",
     "text": [
      "['arroz, frango, tomate, leite']\n"
     ]
    }
   ],
   "source": [
    "# Imprimindo a lista\n",
    "print(lista_1)"
   ]
  },
  {
   "cell_type": "code",
   "execution_count": 4,
   "id": "9ce2e029",
   "metadata": {},
   "outputs": [],
   "source": [
    "# Criando outra lista\n",
    "lista_2 = [\"arroz\", \"frango\", \"tomate\", \"leite\"]"
   ]
  },
  {
   "cell_type": "code",
   "execution_count": 5,
   "id": "8e243572",
   "metadata": {},
   "outputs": [
    {
     "data": {
      "text/plain": [
       "list"
      ]
     },
     "execution_count": 5,
     "metadata": {},
     "output_type": "execute_result"
    }
   ],
   "source": [
    "type(lista_2)"
   ]
  },
  {
   "cell_type": "code",
   "execution_count": 6,
   "id": "d8f71979",
   "metadata": {},
   "outputs": [
    {
     "name": "stdout",
     "output_type": "stream",
     "text": [
      "['arroz', 'frango', 'tomate', 'leite']\n"
     ]
    }
   ],
   "source": [
    "print(lista_2)"
   ]
  },
  {
   "cell_type": "code",
   "execution_count": 7,
   "id": "b00ce0b9",
   "metadata": {},
   "outputs": [],
   "source": [
    "# Lista misturada\n",
    "lista_3 = [ 23, 100, \"Cientista de dados\"]"
   ]
  },
  {
   "cell_type": "code",
   "execution_count": 8,
   "id": "2f8316e2",
   "metadata": {},
   "outputs": [
    {
     "name": "stdout",
     "output_type": "stream",
     "text": [
      "[23, 100, 'Cientista de dados']\n"
     ]
    }
   ],
   "source": [
    "print(lista_3)"
   ]
  },
  {
   "cell_type": "code",
   "execution_count": 9,
   "id": "b589cabc",
   "metadata": {},
   "outputs": [],
   "source": [
    "# atribuindo valor a lista variavel\n",
    "item1 = lista_3[0]\n",
    "item2 = lista_3[1]\n",
    "item3 = lista_3[2]"
   ]
  },
  {
   "cell_type": "code",
   "execution_count": 10,
   "id": "20b99e3a",
   "metadata": {},
   "outputs": [
    {
     "name": "stdout",
     "output_type": "stream",
     "text": [
      "23 100 Cientista de dados\n"
     ]
    }
   ],
   "source": [
    "print(item1, item2, item3)"
   ]
  },
  {
   "cell_type": "markdown",
   "id": "8c44cf14",
   "metadata": {},
   "source": [
    "# Atualizando item na lista"
   ]
  },
  {
   "cell_type": "code",
   "execution_count": 11,
   "id": "8ce3a85d",
   "metadata": {},
   "outputs": [
    {
     "data": {
      "text/plain": [
       "'tomate'"
      ]
     },
     "execution_count": 11,
     "metadata": {},
     "output_type": "execute_result"
    }
   ],
   "source": [
    "# Imprimindo valor\n",
    "lista_2[2]"
   ]
  },
  {
   "cell_type": "code",
   "execution_count": 12,
   "id": "250659c6",
   "metadata": {},
   "outputs": [],
   "source": [
    "# atualizando lista\n",
    "lista_2[2] = \"chocolate\""
   ]
  },
  {
   "cell_type": "code",
   "execution_count": 13,
   "id": "e0349bbf",
   "metadata": {},
   "outputs": [
    {
     "data": {
      "text/plain": [
       "['arroz', 'frango', 'chocolate', 'leite']"
      ]
     },
     "execution_count": 13,
     "metadata": {},
     "output_type": "execute_result"
    }
   ],
   "source": [
    "lista_2"
   ]
  },
  {
   "cell_type": "markdown",
   "id": "6231432f",
   "metadata": {},
   "source": [
    "# Deletando item da lista"
   ]
  },
  {
   "cell_type": "code",
   "execution_count": 14,
   "id": "bc3a191c",
   "metadata": {},
   "outputs": [
    {
     "ename": "IndexError",
     "evalue": "list assignment index out of range",
     "output_type": "error",
     "traceback": [
      "\u001b[0;31m---------------------------------------------------------------------------\u001b[0m",
      "\u001b[0;31mIndexError\u001b[0m                                Traceback (most recent call last)",
      "Cell \u001b[0;32mIn[14], line 2\u001b[0m\n\u001b[1;32m      1\u001b[0m \u001b[38;5;66;03m# Não pode deletar o que não está na lista\u001b[39;00m\n\u001b[0;32m----> 2\u001b[0m \u001b[38;5;28;01mdel\u001b[39;00m lista_2[\u001b[38;5;241m4\u001b[39m]\n",
      "\u001b[0;31mIndexError\u001b[0m: list assignment index out of range"
     ]
    }
   ],
   "source": [
    "# Não pode deletar o que não está na lista\n",
    "del lista_2[4]   # out of range"
   ]
  },
  {
   "cell_type": "code",
   "execution_count": 15,
   "id": "2d25442b",
   "metadata": {},
   "outputs": [
    {
     "data": {
      "text/plain": [
       "['arroz', 'frango', 'leite']"
      ]
     },
     "execution_count": 15,
     "metadata": {},
     "output_type": "execute_result"
    }
   ],
   "source": [
    "# Deletando indice 3\n",
    "del lista_2[2]\n",
    "lista_2"
   ]
  },
  {
   "cell_type": "markdown",
   "id": "80c7af2e",
   "metadata": {},
   "source": [
    "# Listas aninhadas"
   ]
  },
  {
   "cell_type": "code",
   "execution_count": 16,
   "id": "e771b7a4",
   "metadata": {},
   "outputs": [],
   "source": [
    "# Aninhando listas\n",
    "listas = [[1,2,3], [10,15,14],[40.1,50.5,60.9]]"
   ]
  },
  {
   "cell_type": "code",
   "execution_count": 17,
   "id": "f99569d0",
   "metadata": {},
   "outputs": [
    {
     "name": "stdout",
     "output_type": "stream",
     "text": [
      "[[1, 2, 3], [10, 15, 14], [40.1, 50.5, 60.9]]\n"
     ]
    }
   ],
   "source": [
    "print(listas)"
   ]
  },
  {
   "cell_type": "code",
   "execution_count": 18,
   "id": "9091959b",
   "metadata": {},
   "outputs": [
    {
     "data": {
      "text/plain": [
       "[1, 2, 3]"
      ]
     },
     "execution_count": 18,
     "metadata": {},
     "output_type": "execute_result"
    }
   ],
   "source": [
    "a = listas[0]\n",
    "a"
   ]
  },
  {
   "cell_type": "code",
   "execution_count": 19,
   "id": "a7dc648e",
   "metadata": {},
   "outputs": [
    {
     "data": {
      "text/plain": [
       "1"
      ]
     },
     "execution_count": 19,
     "metadata": {},
     "output_type": "execute_result"
    }
   ],
   "source": [
    "b = a[0]\n",
    "b"
   ]
  },
  {
   "cell_type": "code",
   "execution_count": 20,
   "id": "89a0bc1a",
   "metadata": {},
   "outputs": [
    {
     "data": {
      "text/plain": [
       "[10, 15, 14]"
      ]
     },
     "execution_count": 20,
     "metadata": {},
     "output_type": "execute_result"
    }
   ],
   "source": [
    "list1 = listas[1]\n",
    "list1"
   ]
  },
  {
   "cell_type": "code",
   "execution_count": 21,
   "id": "6df27ae6",
   "metadata": {},
   "outputs": [],
   "source": [
    "valor_1_0 = list1[0]"
   ]
  },
  {
   "cell_type": "code",
   "execution_count": 22,
   "id": "7404d5c9",
   "metadata": {},
   "outputs": [
    {
     "data": {
      "text/plain": [
       "10"
      ]
     },
     "execution_count": 22,
     "metadata": {},
     "output_type": "execute_result"
    }
   ],
   "source": [
    "valor_1_0"
   ]
  },
  {
   "cell_type": "markdown",
   "id": "4d9df77d",
   "metadata": {},
   "source": [
    "# Operações com listas"
   ]
  },
  {
   "cell_type": "code",
   "execution_count": 23,
   "id": "9d440369",
   "metadata": {},
   "outputs": [
    {
     "data": {
      "text/plain": [
       "1"
      ]
     },
     "execution_count": 23,
     "metadata": {},
     "output_type": "execute_result"
    }
   ],
   "source": [
    "listas = [[1,2,3], [10,15,14],[40.1,50.5,60.9]]\n",
    "a = listas[0][0]\n",
    "a\n"
   ]
  },
  {
   "cell_type": "code",
   "execution_count": 24,
   "id": "3e6b7b4f",
   "metadata": {},
   "outputs": [
    {
     "data": {
      "text/plain": [
       "2"
      ]
     },
     "execution_count": 24,
     "metadata": {},
     "output_type": "execute_result"
    }
   ],
   "source": [
    "b = listas[0][1]\n",
    "b"
   ]
  },
  {
   "cell_type": "markdown",
   "id": "3d061aea",
   "metadata": {},
   "source": [
    "# Concatenando listas"
   ]
  },
  {
   "cell_type": "code",
   "execution_count": 25,
   "id": "d2c77bb7",
   "metadata": {},
   "outputs": [
    {
     "data": {
      "text/plain": [
       "[34, 32, 56, 21, 90, 51]"
      ]
     },
     "execution_count": 25,
     "metadata": {},
     "output_type": "execute_result"
    }
   ],
   "source": [
    "lista_s1 = [34, 32, 56]\n",
    "lista_s2 = [21, 90, 51]\n",
    "\n",
    "lista_total = lista_s1 + lista_s2\n",
    "lista_total"
   ]
  },
  {
   "cell_type": "markdown",
   "id": "891e99f8",
   "metadata": {},
   "source": [
    "# Operador in"
   ]
  },
  {
   "cell_type": "code",
   "execution_count": 26,
   "id": "b63cac78",
   "metadata": {},
   "outputs": [],
   "source": [
    "# Clriando a lista\n",
    "lista_teste_op = [100, 2, -5, 3.4]"
   ]
  },
  {
   "cell_type": "code",
   "execution_count": 27,
   "id": "9eb4a318",
   "metadata": {},
   "outputs": [
    {
     "name": "stdout",
     "output_type": "stream",
     "text": [
      "False\n"
     ]
    }
   ],
   "source": [
    "print(10 in lista_teste_op)"
   ]
  },
  {
   "cell_type": "markdown",
   "id": "a2f752b9",
   "metadata": {},
   "source": [
    "# Funções built-in"
   ]
  },
  {
   "cell_type": "code",
   "execution_count": 28,
   "id": "ea599f51",
   "metadata": {},
   "outputs": [],
   "source": [
    "lista_numeros = [10, 20, 50, -3.4]"
   ]
  },
  {
   "cell_type": "code",
   "execution_count": 29,
   "id": "694df8fd",
   "metadata": {},
   "outputs": [
    {
     "data": {
      "text/plain": [
       "4"
      ]
     },
     "execution_count": 29,
     "metadata": {},
     "output_type": "execute_result"
    }
   ],
   "source": [
    "# tamanho\n",
    "len(lista_numeros)"
   ]
  },
  {
   "cell_type": "code",
   "execution_count": 30,
   "id": "354e7b1e",
   "metadata": {},
   "outputs": [
    {
     "data": {
      "text/plain": [
       "50"
      ]
     },
     "execution_count": 30,
     "metadata": {},
     "output_type": "execute_result"
    }
   ],
   "source": [
    "# valor maximo da lista\n",
    "max(lista_numeros)"
   ]
  },
  {
   "cell_type": "code",
   "execution_count": 31,
   "id": "fdaa95ab",
   "metadata": {},
   "outputs": [
    {
     "data": {
      "text/plain": [
       "-3.4"
      ]
     },
     "execution_count": 31,
     "metadata": {},
     "output_type": "execute_result"
    }
   ],
   "source": [
    "# valor minimo da lista\n",
    "min(lista_numeros)"
   ]
  },
  {
   "cell_type": "code",
   "execution_count": 32,
   "id": "46b401b6",
   "metadata": {},
   "outputs": [],
   "source": [
    "# adicionando valor a uma lista\n",
    "lista_formacoes_dsa = [\"Analista de Dados\", \"Cientista de Dados\", \"Engenheiro de Dados\"]"
   ]
  },
  {
   "cell_type": "code",
   "execution_count": 33,
   "id": "d8bebe76",
   "metadata": {},
   "outputs": [
    {
     "data": {
      "text/plain": [
       "['Analista de Dados', 'Cientista de Dados', 'Engenheiro de Dados']"
      ]
     },
     "execution_count": 33,
     "metadata": {},
     "output_type": "execute_result"
    }
   ],
   "source": [
    "lista_formacoes_dsa"
   ]
  },
  {
   "cell_type": "code",
   "execution_count": 34,
   "id": "dc10d149",
   "metadata": {},
   "outputs": [
    {
     "data": {
      "text/plain": [
       "['Analista de Dados',\n",
       " 'Cientista de Dados',\n",
       " 'Engenheiro de Dados',\n",
       " 'Engenheiro de IA']"
      ]
     },
     "execution_count": 34,
     "metadata": {},
     "output_type": "execute_result"
    }
   ],
   "source": [
    "lista_formacoes_dsa.append(\"Engenheiro de IA\")\n",
    "lista_formacoes_dsa"
   ]
  },
  {
   "cell_type": "code",
   "execution_count": 36,
   "id": "19dd1883",
   "metadata": {},
   "outputs": [
    {
     "data": {
      "text/plain": [
       "['Analista de Dados',\n",
       " 'Cientista de Dados',\n",
       " 'Engenheiro de Dados',\n",
       " 'Engenheiro de IA',\n",
       " 'Analista de Dados',\n",
       " 'Analista de Dados']"
      ]
     },
     "execution_count": 36,
     "metadata": {},
     "output_type": "execute_result"
    }
   ],
   "source": [
    "# Pode inserir valor repetido!\n",
    "lista_formacoes_dsa.append(\"Analista de Dados\")\n",
    "lista_formacoes_dsa"
   ]
  },
  {
   "cell_type": "code",
   "execution_count": 37,
   "id": "ab2b1e41",
   "metadata": {},
   "outputs": [
    {
     "data": {
      "text/plain": [
       "3"
      ]
     },
     "execution_count": 37,
     "metadata": {},
     "output_type": "execute_result"
    }
   ],
   "source": [
    "lista_formacoes_dsa.count(\"Analista de Dados\")"
   ]
  },
  {
   "cell_type": "code",
   "execution_count": 38,
   "id": "8f0e0ed9",
   "metadata": {},
   "outputs": [
    {
     "name": "stdout",
     "output_type": "stream",
     "text": [
      "[]\n"
     ]
    },
    {
     "data": {
      "text/plain": [
       "list"
      ]
     },
     "execution_count": 38,
     "metadata": {},
     "output_type": "execute_result"
    }
   ],
   "source": [
    "# Lista vazia\n",
    "a = []\n",
    "print(a)\n",
    "type(a)"
   ]
  },
  {
   "cell_type": "code",
   "execution_count": 39,
   "id": "35ac558c",
   "metadata": {},
   "outputs": [
    {
     "data": {
      "text/plain": [
       "[10]"
      ]
     },
     "execution_count": 39,
     "metadata": {},
     "output_type": "execute_result"
    }
   ],
   "source": [
    "a.append(10)\n",
    "a"
   ]
  },
  {
   "cell_type": "code",
   "execution_count": 40,
   "id": "57bd2e81",
   "metadata": {},
   "outputs": [],
   "source": [
    "old_list = [1, 2, 3, 5, 10]\n",
    "new_list = []"
   ]
  },
  {
   "cell_type": "code",
   "execution_count": 41,
   "id": "e57d6021",
   "metadata": {},
   "outputs": [
    {
     "data": {
      "text/plain": [
       "[1, 2, 3, 5, 10]"
      ]
     },
     "execution_count": 41,
     "metadata": {},
     "output_type": "execute_result"
    }
   ],
   "source": [
    "# Copiando os itens de uma lista para outra\n",
    "for item in old_list:\n",
    "    new_list.append(item)\n",
    "new_list"
   ]
  },
  {
   "cell_type": "code",
   "execution_count": 42,
   "id": "f7ec781d",
   "metadata": {},
   "outputs": [
    {
     "name": "stdout",
     "output_type": "stream",
     "text": [
      "['Recife', 'Manaus', 'Salvador']\n",
      "['Recife', 'Manaus', 'Salvador', 'Fortaleza', 'Palmas']\n"
     ]
    }
   ],
   "source": [
    "cidades = ['Recife', 'Manaus', 'Salvador']\n",
    "print(cidades)\n",
    "cidades.extend(['Fortaleza','Palmas'])  #inclui no fim da lista\n",
    "print(cidades)"
   ]
  },
  {
   "cell_type": "code",
   "execution_count": 43,
   "id": "83c25afe",
   "metadata": {},
   "outputs": [
    {
     "data": {
      "text/plain": [
       "2"
      ]
     },
     "execution_count": 43,
     "metadata": {},
     "output_type": "execute_result"
    }
   ],
   "source": [
    "cidades.index('Salvador')"
   ]
  },
  {
   "cell_type": "code",
   "execution_count": 44,
   "id": "05bf2136",
   "metadata": {},
   "outputs": [
    {
     "ename": "ValueError",
     "evalue": "'Rio de Janeiro' is not in list",
     "output_type": "error",
     "traceback": [
      "\u001b[0;31m---------------------------------------------------------------------------\u001b[0m",
      "\u001b[0;31mValueError\u001b[0m                                Traceback (most recent call last)",
      "Cell \u001b[0;32mIn[44], line 1\u001b[0m\n\u001b[0;32m----> 1\u001b[0m \u001b[43mcidades\u001b[49m\u001b[38;5;241;43m.\u001b[39;49m\u001b[43mindex\u001b[49m\u001b[43m(\u001b[49m\u001b[38;5;124;43m'\u001b[39;49m\u001b[38;5;124;43mRio de Janeiro\u001b[39;49m\u001b[38;5;124;43m'\u001b[39;49m\u001b[43m)\u001b[49m\n",
      "\u001b[0;31mValueError\u001b[0m: 'Rio de Janeiro' is not in list"
     ]
    }
   ],
   "source": [
    "cidades.index('Rio de Janeiro')"
   ]
  },
  {
   "cell_type": "code",
   "execution_count": 45,
   "id": "8b16c26e",
   "metadata": {},
   "outputs": [
    {
     "data": {
      "text/plain": [
       "['Recife', 'Manaus', 110, 'Salvador', 'Fortaleza', 'Palmas']"
      ]
     },
     "execution_count": 45,
     "metadata": {},
     "output_type": "execute_result"
    }
   ],
   "source": [
    "#inserir em indice especifico\n",
    "cidades.insert(2,110)   # acomoda no indice 2 e joga para frente os demais\n",
    "cidades"
   ]
  },
  {
   "cell_type": "code",
   "execution_count": 46,
   "id": "57f9f755",
   "metadata": {},
   "outputs": [
    {
     "data": {
      "text/plain": [
       "['Recife', 'Manaus', 'Salvador', 'Fortaleza', 'Palmas']"
      ]
     },
     "execution_count": 46,
     "metadata": {},
     "output_type": "execute_result"
    }
   ],
   "source": [
    "# removendo por valor\n",
    "cidades.remove(110)   #retira e move os demais\n",
    "cidades"
   ]
  },
  {
   "cell_type": "code",
   "execution_count": 47,
   "id": "07f98ab6",
   "metadata": {},
   "outputs": [
    {
     "data": {
      "text/plain": [
       "[1, 2, 3, 4]"
      ]
     },
     "execution_count": 47,
     "metadata": {},
     "output_type": "execute_result"
    }
   ],
   "source": [
    "# Ordenar a lista\n",
    "x = [3, 4, 2, 1]\n",
    "x.sort()\n",
    "x"
   ]
  },
  {
   "cell_type": "code",
   "execution_count": null,
   "id": "86a0aa83",
   "metadata": {},
   "outputs": [],
   "source": []
  }
 ],
 "metadata": {
  "kernelspec": {
   "display_name": "Python 3 (ipykernel)",
   "language": "python",
   "name": "python3"
  },
  "language_info": {
   "codemirror_mode": {
    "name": "ipython",
    "version": 3
   },
   "file_extension": ".py",
   "mimetype": "text/x-python",
   "name": "python",
   "nbconvert_exporter": "python",
   "pygments_lexer": "ipython3",
   "version": "3.10.9"
  }
 },
 "nbformat": 4,
 "nbformat_minor": 5
}
