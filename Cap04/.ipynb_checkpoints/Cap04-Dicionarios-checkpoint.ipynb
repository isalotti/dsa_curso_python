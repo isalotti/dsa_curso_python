{
 "cells": [
  {
   "cell_type": "markdown",
   "id": "609e644a",
   "metadata": {},
   "source": [
    "# Dicionários"
   ]
  },
  {
   "cell_type": "code",
   "execution_count": 1,
   "id": "3694fcdc",
   "metadata": {},
   "outputs": [
    {
     "data": {
      "text/plain": [
       "['Pedro', 24, 'Ana', 22, 'Iza', 38, 'Janaína', 25]"
      ]
     },
     "execution_count": 1,
     "metadata": {},
     "output_type": "execute_result"
    }
   ],
   "source": [
    "# Lista\n",
    "estudantes_lst = [\"Pedro\", 24, \"Ana\", 22, \"Iza\", 38, \"Janaína\", 25]\n",
    "estudantes_lst"
   ]
  },
  {
   "cell_type": "code",
   "execution_count": 2,
   "id": "2f03807c",
   "metadata": {},
   "outputs": [
    {
     "data": {
      "text/plain": [
       "{'Pedro': 24, 'Ana': 22, 'Iza': 38, 'Janaína': 25}"
      ]
     },
     "execution_count": 2,
     "metadata": {},
     "output_type": "execute_result"
    }
   ],
   "source": [
    "# Estrutura de dicionário é mais adequada para (chave:valor)\n",
    "estudantes_dict = {\"Pedro\": 24, \n",
    "                   \"Ana\": 22, \n",
    "                   \"Iza\": 38, \n",
    "                   \"Janaína\": 25}\n",
    "estudantes_dict"
   ]
  },
  {
   "cell_type": "code",
   "execution_count": 3,
   "id": "52c16473",
   "metadata": {},
   "outputs": [
    {
     "data": {
      "text/plain": [
       "24"
      ]
     },
     "execution_count": 3,
     "metadata": {},
     "output_type": "execute_result"
    }
   ],
   "source": [
    "estudantes_dict[\"Pedro\"]"
   ]
  },
  {
   "cell_type": "code",
   "execution_count": 4,
   "id": "2d0f8f87",
   "metadata": {},
   "outputs": [],
   "source": [
    "estudantes_dict[\"Iza\"] = 36"
   ]
  },
  {
   "cell_type": "code",
   "execution_count": 5,
   "id": "c9504ff6",
   "metadata": {},
   "outputs": [
    {
     "data": {
      "text/plain": [
       "36"
      ]
     },
     "execution_count": 5,
     "metadata": {},
     "output_type": "execute_result"
    }
   ],
   "source": [
    "estudantes_dict[\"Iza\"]"
   ]
  },
  {
   "cell_type": "code",
   "execution_count": 6,
   "id": "dec363b1",
   "metadata": {},
   "outputs": [
    {
     "data": {
      "text/plain": [
       "{}"
      ]
     },
     "execution_count": 6,
     "metadata": {},
     "output_type": "execute_result"
    }
   ],
   "source": [
    "# Limpar todo o dicionario\n",
    "estudantes_dict.clear()\n",
    "estudantes_dict"
   ]
  },
  {
   "cell_type": "code",
   "execution_count": 7,
   "id": "db910280",
   "metadata": {},
   "outputs": [
    {
     "ename": "NameError",
     "evalue": "name 'estudantes_dict' is not defined",
     "output_type": "error",
     "traceback": [
      "\u001b[0;31m---------------------------------------------------------------------------\u001b[0m",
      "\u001b[0;31mNameError\u001b[0m                                 Traceback (most recent call last)",
      "Cell \u001b[0;32mIn[7], line 2\u001b[0m\n\u001b[1;32m      1\u001b[0m \u001b[38;5;28;01mdel\u001b[39;00m estudantes_dict\n\u001b[0;32m----> 2\u001b[0m \u001b[43mestudantes_dict\u001b[49m\n",
      "\u001b[0;31mNameError\u001b[0m: name 'estudantes_dict' is not defined"
     ]
    }
   ],
   "source": [
    "del estudantes_dict  #deleta o dicionario\n",
    "estudantes_dict      #erro"
   ]
  },
  {
   "cell_type": "code",
   "execution_count": 8,
   "id": "dd7d1a8f",
   "metadata": {},
   "outputs": [
    {
     "data": {
      "text/plain": [
       "{'Pedro': 24, 'Ana': 22, 'Iza': 38, 'Janaína': 25}"
      ]
     },
     "execution_count": 8,
     "metadata": {},
     "output_type": "execute_result"
    }
   ],
   "source": [
    "estudantes = {\"Pedro\": 24, \n",
    "                   \"Ana\": 22, \n",
    "                   \"Iza\": 38, \n",
    "                   \"Janaína\": 25}\n",
    "estudantes"
   ]
  },
  {
   "cell_type": "code",
   "execution_count": 9,
   "id": "dc18657b",
   "metadata": {},
   "outputs": [
    {
     "data": {
      "text/plain": [
       "4"
      ]
     },
     "execution_count": 9,
     "metadata": {},
     "output_type": "execute_result"
    }
   ],
   "source": [
    "len(estudantes)"
   ]
  },
  {
   "cell_type": "code",
   "execution_count": 10,
   "id": "4b3c1439",
   "metadata": {},
   "outputs": [
    {
     "data": {
      "text/plain": [
       "dict_keys(['Pedro', 'Ana', 'Iza', 'Janaína'])"
      ]
     },
     "execution_count": 10,
     "metadata": {},
     "output_type": "execute_result"
    }
   ],
   "source": [
    "estudantes.keys()  #traz as chaves"
   ]
  },
  {
   "cell_type": "code",
   "execution_count": 11,
   "id": "d56b22c1",
   "metadata": {},
   "outputs": [
    {
     "data": {
      "text/plain": [
       "dict_values([24, 22, 38, 25])"
      ]
     },
     "execution_count": 11,
     "metadata": {},
     "output_type": "execute_result"
    }
   ],
   "source": [
    "estudantes.values() #traz os valores de cada chave"
   ]
  },
  {
   "cell_type": "code",
   "execution_count": 12,
   "id": "aafe4c5a",
   "metadata": {},
   "outputs": [
    {
     "data": {
      "text/plain": [
       "dict_items([('Pedro', 24), ('Ana', 22), ('Iza', 38), ('Janaína', 25)])"
      ]
     },
     "execution_count": 12,
     "metadata": {},
     "output_type": "execute_result"
    }
   ],
   "source": [
    "estudantes.items() # traz o par (chave, valor) em forma de tupla"
   ]
  },
  {
   "cell_type": "code",
   "execution_count": 14,
   "id": "2217df54",
   "metadata": {},
   "outputs": [],
   "source": [
    "estudantes2 = {\"Leo\": 36, \"Helio\": 74}\n",
    "estudantes.update(estudantes2)    #atualiza o dict com os pares de um outro dict  "
   ]
  },
  {
   "cell_type": "code",
   "execution_count": 15,
   "id": "5a12728f",
   "metadata": {},
   "outputs": [
    {
     "data": {
      "text/plain": [
       "{'Pedro': 24, 'Ana': 22, 'Iza': 38, 'Janaína': 25, 'Leo': 36, 'Helio': 74}"
      ]
     },
     "execution_count": 15,
     "metadata": {},
     "output_type": "execute_result"
    }
   ],
   "source": [
    "estudantes"
   ]
  },
  {
   "cell_type": "code",
   "execution_count": 17,
   "id": "cb7e3a59",
   "metadata": {},
   "outputs": [
    {
     "data": {
      "text/plain": [
       "{}"
      ]
     },
     "execution_count": 17,
     "metadata": {},
     "output_type": "execute_result"
    }
   ],
   "source": [
    "dict1 = {}\n",
    "dict1"
   ]
  },
  {
   "cell_type": "code",
   "execution_count": 19,
   "id": "9fb62270",
   "metadata": {},
   "outputs": [
    {
     "name": "stdout",
     "output_type": "stream",
     "text": [
      "{'chave_um': 2}\n"
     ]
    }
   ],
   "source": [
    "dict1[\"chave_um\"] = 2   #insere um par chave, valor\n",
    "print(dict1)"
   ]
  },
  {
   "cell_type": "code",
   "execution_count": 20,
   "id": "e1376e85",
   "metadata": {},
   "outputs": [
    {
     "name": "stdout",
     "output_type": "stream",
     "text": [
      "{'chave_um': 2, 10: 5}\n"
     ]
    }
   ],
   "source": [
    "dict1[10] = 5\n",
    "print(dict1)"
   ]
  },
  {
   "cell_type": "code",
   "execution_count": 21,
   "id": "45946d03",
   "metadata": {},
   "outputs": [
    {
     "name": "stdout",
     "output_type": "stream",
     "text": [
      "{'chave_um': 2, 10: 5, 9.13: 'Python'}\n"
     ]
    }
   ],
   "source": [
    "dict1[9.13] = \"Python\"\n",
    "print(dict1)"
   ]
  },
  {
   "cell_type": "code",
   "execution_count": 22,
   "id": "a9ced2fb",
   "metadata": {},
   "outputs": [
    {
     "data": {
      "text/plain": [
       "{'teste': 10, 'key': 'teste'}"
      ]
     },
     "execution_count": 22,
     "metadata": {},
     "output_type": "execute_result"
    }
   ],
   "source": [
    "dict1 = {}\n",
    "dict1[\"teste\"] = 10\n",
    "dict1[\"key\"] = \"teste\"\n",
    "dict1   #podem existir chaves e valores com valores iguais, mas cada um se comporta de modo diferente"
   ]
  },
  {
   "cell_type": "code",
   "execution_count": 23,
   "id": "bed80440",
   "metadata": {},
   "outputs": [
    {
     "data": {
      "text/plain": [
       "{'key1': 'Data Science', 'key2': 10, 'key3': 100}"
      ]
     },
     "execution_count": 23,
     "metadata": {},
     "output_type": "execute_result"
    }
   ],
   "source": [
    "dict2 = {}\n",
    "dict2[\"key1\"] = \"Data Science\"\n",
    "dict2[\"key2\"] = 10\n",
    "dict2[\"key3\"] = 100\n",
    "dict2"
   ]
  },
  {
   "cell_type": "code",
   "execution_count": 25,
   "id": "8cacd57e",
   "metadata": {},
   "outputs": [
    {
     "data": {
      "text/plain": [
       "('Data Science', 10, 100)"
      ]
     },
     "execution_count": 25,
     "metadata": {},
     "output_type": "execute_result"
    }
   ],
   "source": [
    "a = dict2[\"key1\"]\n",
    "b = dict2[\"key2\"]\n",
    "c = dict2[\"key3\"]\n",
    "a, b, c"
   ]
  },
  {
   "cell_type": "code",
   "execution_count": 26,
   "id": "ac15fe4b",
   "metadata": {},
   "outputs": [
    {
     "data": {
      "text/plain": [
       "{'chave1': 1230,\n",
       " 'chave2': [22, 435, 73.4],\n",
       " 'chave3': ['picanha', 'fraldinha', 'alcatra']}"
      ]
     },
     "execution_count": 26,
     "metadata": {},
     "output_type": "execute_result"
    }
   ],
   "source": [
    "# Dicionário de listas\n",
    "dict3 = {'chave1':1230, 'chave2':[22,435, 73.4], 'chave3': ['picanha','fraldinha','alcatra']}\n",
    "dict3"
   ]
  },
  {
   "cell_type": "code",
   "execution_count": 28,
   "id": "5f216247",
   "metadata": {},
   "outputs": [
    {
     "data": {
      "text/plain": [
       "[22, 435, 73.4]"
      ]
     },
     "execution_count": 28,
     "metadata": {},
     "output_type": "execute_result"
    }
   ],
   "source": [
    "dict3['chave2']"
   ]
  },
  {
   "cell_type": "code",
   "execution_count": 30,
   "id": "82557d1a",
   "metadata": {},
   "outputs": [
    {
     "data": {
      "text/plain": [
       "'PICANHA'"
      ]
     },
     "execution_count": 30,
     "metadata": {},
     "output_type": "execute_result"
    }
   ],
   "source": [
    "# acessar a lista no dicionario\n",
    "dict3['chave3'][0].upper()"
   ]
  },
  {
   "cell_type": "code",
   "execution_count": 31,
   "id": "c621b9f5",
   "metadata": {},
   "outputs": [
    {
     "data": {
      "text/plain": [
       "20"
      ]
     },
     "execution_count": 31,
     "metadata": {},
     "output_type": "execute_result"
    }
   ],
   "source": [
    "# operações com itens da lista, centro do dicionario\n",
    "var1 = dict3['chave2'][0] - 2\n",
    "var1"
   ]
  },
  {
   "cell_type": "code",
   "execution_count": 32,
   "id": "0444115f",
   "metadata": {},
   "outputs": [
    {
     "data": {
      "text/plain": [
       "{'chave1': 1230,\n",
       " 'chave2': [20, 435, 73.4],\n",
       " 'chave3': ['picanha', 'fraldinha', 'alcatra']}"
      ]
     },
     "execution_count": 32,
     "metadata": {},
     "output_type": "execute_result"
    }
   ],
   "source": [
    "# duas operações no mesmo comando, atualizar um item dentro da lista\n",
    "dict3['chave2'][0] -=2   #subtrai o valor 2 do item 0 da lista na chave2 e grava na lista\n",
    "dict3"
   ]
  },
  {
   "cell_type": "markdown",
   "id": "85a8be0e",
   "metadata": {},
   "source": [
    "# Criando dicionários aninhados"
   ]
  },
  {
   "cell_type": "code",
   "execution_count": 33,
   "id": "e86e7c27",
   "metadata": {},
   "outputs": [
    {
     "data": {
      "text/plain": [
       "{'key1': {'key2_aninhada': {'key3_aninhada': 'Dict aninhado em Python'}}}"
      ]
     },
     "execution_count": 33,
     "metadata": {},
     "output_type": "execute_result"
    }
   ],
   "source": [
    "dict_aninhado = {'key1': {'key2_aninhada':{'key3_aninhada':'Dict aninhado em Python'}}}\n",
    "dict_aninhado"
   ]
  },
  {
   "cell_type": "code",
   "execution_count": 34,
   "id": "0f385e64",
   "metadata": {},
   "outputs": [
    {
     "data": {
      "text/plain": [
       "'Dict aninhado em Python'"
      ]
     },
     "execution_count": 34,
     "metadata": {},
     "output_type": "execute_result"
    }
   ],
   "source": [
    "dict_aninhado['key1']['key2_aninhada']['key3_aninhada']"
   ]
  },
  {
   "cell_type": "code",
   "execution_count": 35,
   "id": "e25c7537",
   "metadata": {},
   "outputs": [],
   "source": [
    "# json são dicionários aninhados..."
   ]
  },
  {
   "cell_type": "code",
   "execution_count": null,
   "id": "193fe566",
   "metadata": {},
   "outputs": [],
   "source": []
  }
 ],
 "metadata": {
  "kernelspec": {
   "display_name": "Python 3 (ipykernel)",
   "language": "python",
   "name": "python3"
  },
  "language_info": {
   "codemirror_mode": {
    "name": "ipython",
    "version": 3
   },
   "file_extension": ".py",
   "mimetype": "text/x-python",
   "name": "python",
   "nbconvert_exporter": "python",
   "pygments_lexer": "ipython3",
   "version": "3.10.9"
  }
 },
 "nbformat": 4,
 "nbformat_minor": 5
}
