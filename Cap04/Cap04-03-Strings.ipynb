{
 "cells": [
  {
   "cell_type": "code",
   "execution_count": 1,
   "id": "e4b7f565",
   "metadata": {},
   "outputs": [
    {
     "data": {
      "text/plain": [
       "'Oi'"
      ]
     },
     "execution_count": 1,
     "metadata": {},
     "output_type": "execute_result"
    }
   ],
   "source": [
    "'Oi'"
   ]
  },
  {
   "cell_type": "code",
   "execution_count": 2,
   "id": "2f98aa0a",
   "metadata": {},
   "outputs": [
    {
     "data": {
      "text/plain": [
       "'Pode ter aspas duplas tb!'"
      ]
     },
     "execution_count": 2,
     "metadata": {},
     "output_type": "execute_result"
    }
   ],
   "source": [
    "\"Pode ter aspas duplas tb!\""
   ]
  },
  {
   "cell_type": "code",
   "execution_count": 3,
   "id": "e591f5be",
   "metadata": {},
   "outputs": [
    {
     "data": {
      "text/plain": [
       "\"Pode usar aspas 'simples' misturando.\""
      ]
     },
     "execution_count": 3,
     "metadata": {},
     "output_type": "execute_result"
    }
   ],
   "source": [
    "\"Pode usar aspas 'simples' misturando.\""
   ]
  },
  {
   "cell_type": "code",
   "execution_count": 4,
   "id": "172d2e7e",
   "metadata": {},
   "outputs": [
    {
     "name": "stdout",
     "output_type": "stream",
     "text": [
      "Testando\n"
     ]
    }
   ],
   "source": [
    "print('Testando')"
   ]
  },
  {
   "cell_type": "code",
   "execution_count": 5,
   "id": "bedf72bf",
   "metadata": {},
   "outputs": [
    {
     "name": "stdout",
     "output_type": "stream",
     "text": [
      "Testanto \n",
      " pulando \n",
      " linhas...\n"
     ]
    }
   ],
   "source": [
    "print('Testanto \\n pulando \\n linhas...')"
   ]
  },
  {
   "cell_type": "code",
   "execution_count": 6,
   "id": "c69e5b51",
   "metadata": {},
   "outputs": [],
   "source": [
    "#Atribuindo a uma variavel"
   ]
  },
  {
   "cell_type": "code",
   "execution_count": 1,
   "id": "aada3ec1",
   "metadata": {},
   "outputs": [],
   "source": [
    "s = 'Izabela Salotti - este é um teste!'"
   ]
  },
  {
   "cell_type": "code",
   "execution_count": 8,
   "id": "a23970fc",
   "metadata": {},
   "outputs": [
    {
     "name": "stdout",
     "output_type": "stream",
     "text": [
      "Iza\n"
     ]
    }
   ],
   "source": [
    "print(s)"
   ]
  },
  {
   "cell_type": "code",
   "execution_count": 9,
   "id": "15f1e63e",
   "metadata": {},
   "outputs": [
    {
     "data": {
      "text/plain": [
       "'I'"
      ]
     },
     "execution_count": 9,
     "metadata": {},
     "output_type": "execute_result"
    }
   ],
   "source": [
    "s[0]  #indexação começa em 0"
   ]
  },
  {
   "cell_type": "code",
   "execution_count": 10,
   "id": "f6c619f1",
   "metadata": {},
   "outputs": [
    {
     "data": {
      "text/plain": [
       "'z'"
      ]
     },
     "execution_count": 10,
     "metadata": {},
     "output_type": "execute_result"
    }
   ],
   "source": [
    "s[1]"
   ]
  },
  {
   "cell_type": "code",
   "execution_count": 11,
   "id": "cfb57400",
   "metadata": {},
   "outputs": [],
   "source": [
    "#Slicing - utilizar : que fatia do indice indicado até o fim da string"
   ]
  },
  {
   "cell_type": "code",
   "execution_count": 12,
   "id": "2df91464",
   "metadata": {},
   "outputs": [
    {
     "data": {
      "text/plain": [
       "'za'"
      ]
     },
     "execution_count": 12,
     "metadata": {},
     "output_type": "execute_result"
    }
   ],
   "source": [
    "s[1:]"
   ]
  },
  {
   "cell_type": "code",
   "execution_count": 13,
   "id": "4ac3b88d",
   "metadata": {},
   "outputs": [
    {
     "data": {
      "text/plain": [
       "'Iz'"
      ]
     },
     "execution_count": 13,
     "metadata": {},
     "output_type": "execute_result"
    }
   ],
   "source": [
    "#Slicing desde o inicio até a posção indicada -> contar a partir de 1 OU o indice indicado EXCLUSIVE\n",
    "s[:2]"
   ]
  },
  {
   "cell_type": "code",
   "execution_count": 14,
   "id": "a9a81534",
   "metadata": {},
   "outputs": [
    {
     "data": {
      "text/plain": [
       "'a'"
      ]
     },
     "execution_count": 14,
     "metadata": {},
     "output_type": "execute_result"
    }
   ],
   "source": [
    "# Indexação negativa : conta a partir do fim da string para frente. Inicia a contagem em -1\n",
    "s[-1]"
   ]
  },
  {
   "cell_type": "code",
   "execution_count": 15,
   "id": "80a5746e",
   "metadata": {},
   "outputs": [
    {
     "data": {
      "text/plain": [
       "'Iz'"
      ]
     },
     "execution_count": 15,
     "metadata": {},
     "output_type": "execute_result"
    }
   ],
   "source": [
    "#Slicing retornando tudo , exceto a última letra\n",
    "s[:-1]"
   ]
  },
  {
   "cell_type": "code",
   "execution_count": 16,
   "id": "6cd8ae40",
   "metadata": {},
   "outputs": [
    {
     "data": {
      "text/plain": [
       "'Iza'"
      ]
     },
     "execution_count": 16,
     "metadata": {},
     "output_type": "execute_result"
    }
   ],
   "source": [
    "#Fatiar em pedaços especificos\n",
    "s[::1]"
   ]
  },
  {
   "cell_type": "code",
   "execution_count": 19,
   "id": "c0136c45",
   "metadata": {},
   "outputs": [
    {
     "data": {
      "text/plain": [
       "'IaeaSlti'"
      ]
     },
     "execution_count": 19,
     "metadata": {},
     "output_type": "execute_result"
    }
   ],
   "source": [
    "s[::2]"
   ]
  },
  {
   "cell_type": "code",
   "execution_count": 20,
   "id": "933a1c50",
   "metadata": {},
   "outputs": [
    {
     "data": {
      "text/plain": [
       "'ittolaS alebazI'"
      ]
     },
     "execution_count": 20,
     "metadata": {},
     "output_type": "execute_result"
    }
   ],
   "source": [
    "s[::-1]"
   ]
  },
  {
   "cell_type": "code",
   "execution_count": 21,
   "id": "e4d78b47",
   "metadata": {},
   "outputs": [],
   "source": [
    "#Propriedades da String"
   ]
  },
  {
   "cell_type": "code",
   "execution_count": 22,
   "id": "dc9a6077",
   "metadata": {},
   "outputs": [
    {
     "ename": "TypeError",
     "evalue": "'str' object does not support item assignment",
     "output_type": "error",
     "traceback": [
      "\u001b[0;31m---------------------------------------------------------------------------\u001b[0m",
      "\u001b[0;31mTypeError\u001b[0m                                 Traceback (most recent call last)",
      "Cell \u001b[0;32mIn[22], line 2\u001b[0m\n\u001b[1;32m      1\u001b[0m \u001b[38;5;66;03m#Alterando um caractere - não é possível alterar elemento da string\u001b[39;00m\n\u001b[0;32m----> 2\u001b[0m s[\u001b[38;5;241m0\u001b[39m] \u001b[38;5;241m=\u001b[39m \u001b[38;5;124m'\u001b[39m\u001b[38;5;124mx\u001b[39m\u001b[38;5;124m'\u001b[39m\n",
      "\u001b[0;31mTypeError\u001b[0m: 'str' object does not support item assignment"
     ]
    }
   ],
   "source": [
    "#Alterando um caractere - não é possível alterar elemento da string\n",
    "s[0] = 'x'"
   ]
  },
  {
   "cell_type": "code",
   "execution_count": 23,
   "id": "04fc2af1",
   "metadata": {},
   "outputs": [
    {
     "data": {
      "text/plain": [
       "'Izabela SalottiOutro'"
      ]
     },
     "execution_count": 23,
     "metadata": {},
     "output_type": "execute_result"
    }
   ],
   "source": [
    "#Concatenando\n",
    "s + 'Outro'"
   ]
  },
  {
   "cell_type": "code",
   "execution_count": 24,
   "id": "fb3f2e6f",
   "metadata": {},
   "outputs": [],
   "source": [
    "s = s + \"outro\""
   ]
  },
  {
   "cell_type": "code",
   "execution_count": 25,
   "id": "cb0dc7ad",
   "metadata": {},
   "outputs": [
    {
     "name": "stdout",
     "output_type": "stream",
     "text": [
      "Izabela Salottioutro\n"
     ]
    }
   ],
   "source": [
    "print(s)"
   ]
  },
  {
   "cell_type": "code",
   "execution_count": 26,
   "id": "7e53d41a",
   "metadata": {},
   "outputs": [],
   "source": [
    "letra = 'w'"
   ]
  },
  {
   "cell_type": "code",
   "execution_count": 27,
   "id": "9480d5a9",
   "metadata": {},
   "outputs": [
    {
     "data": {
      "text/plain": [
       "'www'"
      ]
     },
     "execution_count": 27,
     "metadata": {},
     "output_type": "execute_result"
    }
   ],
   "source": [
    "letra * 3   #Como a variavel é str, ao usar o multiplicador ela entende que vc quer repetir 3 vezes"
   ]
  },
  {
   "cell_type": "markdown",
   "id": "5d1396ee",
   "metadata": {},
   "source": [
    "#Funções built-in"
   ]
  },
  {
   "cell_type": "code",
   "execution_count": 3,
   "id": "5109188b",
   "metadata": {},
   "outputs": [
    {
     "data": {
      "text/plain": [
       "'IZABELA SALOTTI - ESTE É UM TESTE!'"
      ]
     },
     "execution_count": 3,
     "metadata": {},
     "output_type": "execute_result"
    }
   ],
   "source": [
    "#Upper case\n",
    "s.upper()"
   ]
  },
  {
   "cell_type": "code",
   "execution_count": 4,
   "id": "c93be84e",
   "metadata": {},
   "outputs": [
    {
     "data": {
      "text/plain": [
       "'Izabela salotti - este é um teste!'"
      ]
     },
     "execution_count": 4,
     "metadata": {},
     "output_type": "execute_result"
    }
   ],
   "source": [
    "# Primeira palavra primeira letra maiuscula\n",
    "s.capitalize()"
   ]
  },
  {
   "cell_type": "code",
   "execution_count": 5,
   "id": "b4b1d9b0",
   "metadata": {},
   "outputs": [
    {
     "data": {
      "text/plain": [
       "'izabela salotti - este é um teste!'"
      ]
     },
     "execution_count": 5,
     "metadata": {},
     "output_type": "execute_result"
    }
   ],
   "source": [
    "# Lower case\n",
    "s.lower()"
   ]
  },
  {
   "cell_type": "code",
   "execution_count": 6,
   "id": "9f9de120",
   "metadata": {},
   "outputs": [
    {
     "data": {
      "text/plain": [
       "['Izabela', 'Salotti', '-', 'este', 'é', 'um', 'teste!']"
      ]
     },
     "execution_count": 6,
     "metadata": {},
     "output_type": "execute_result"
    }
   ],
   "source": [
    "# Dividir uma string por espaco em branco (padrao)\n",
    "s.split()"
   ]
  },
  {
   "cell_type": "code",
   "execution_count": 10,
   "id": "314b5d70",
   "metadata": {},
   "outputs": [
    {
     "data": {
      "text/plain": [
       "['Izabela Salott', ' - este é um teste!']"
      ]
     },
     "execution_count": 10,
     "metadata": {},
     "output_type": "execute_result"
    }
   ],
   "source": [
    "#Dividir a string com i - quebra quando encontrar este\n",
    "s.split('i')"
   ]
  },
  {
   "cell_type": "markdown",
   "id": "0f8b1d93",
   "metadata": {},
   "source": [
    "#Funções string"
   ]
  },
  {
   "cell_type": "code",
   "execution_count": 12,
   "id": "91aec099",
   "metadata": {},
   "outputs": [
    {
     "data": {
      "text/plain": [
       "3"
      ]
     },
     "execution_count": 12,
     "metadata": {},
     "output_type": "execute_result"
    }
   ],
   "source": [
    "s.count('a')"
   ]
  },
  {
   "cell_type": "code",
   "execution_count": 13,
   "id": "b12bbf56",
   "metadata": {},
   "outputs": [
    {
     "data": {
      "text/plain": [
       "False"
      ]
     },
     "execution_count": 13,
     "metadata": {},
     "output_type": "execute_result"
    }
   ],
   "source": [
    "s.isalnum()"
   ]
  },
  {
   "cell_type": "code",
   "execution_count": 14,
   "id": "3ebcbd14",
   "metadata": {},
   "outputs": [
    {
     "data": {
      "text/plain": [
       "False"
      ]
     },
     "execution_count": 14,
     "metadata": {},
     "output_type": "execute_result"
    }
   ],
   "source": [
    "s.islower()"
   ]
  },
  {
   "cell_type": "code",
   "execution_count": 15,
   "id": "27e68e9b",
   "metadata": {},
   "outputs": [
    {
     "data": {
      "text/plain": [
       "False"
      ]
     },
     "execution_count": 15,
     "metadata": {},
     "output_type": "execute_result"
    }
   ],
   "source": [
    "s.isspace()"
   ]
  },
  {
   "cell_type": "code",
   "execution_count": 16,
   "id": "7513c11b",
   "metadata": {},
   "outputs": [
    {
     "data": {
      "text/plain": [
       "True"
      ]
     },
     "execution_count": 16,
     "metadata": {},
     "output_type": "execute_result"
    }
   ],
   "source": [
    "s.endswith('!')"
   ]
  },
  {
   "cell_type": "markdown",
   "id": "52020f65",
   "metadata": {},
   "source": [
    "#Comparando string"
   ]
  },
  {
   "cell_type": "code",
   "execution_count": 18,
   "id": "7add505d",
   "metadata": {},
   "outputs": [
    {
     "name": "stdout",
     "output_type": "stream",
     "text": [
      "False\n"
     ]
    }
   ],
   "source": [
    "print(\"Python\" == \"R\")"
   ]
  },
  {
   "cell_type": "code",
   "execution_count": 19,
   "id": "0477911f",
   "metadata": {},
   "outputs": [
    {
     "name": "stdout",
     "output_type": "stream",
     "text": [
      "True\n"
     ]
    }
   ],
   "source": [
    "print(\"Python\"==\"Python\")"
   ]
  }
 ],
 "metadata": {
  "kernelspec": {
   "display_name": "Python 3 (ipykernel)",
   "language": "python",
   "name": "python3"
  },
  "language_info": {
   "codemirror_mode": {
    "name": "ipython",
    "version": 3
   },
   "file_extension": ".py",
   "mimetype": "text/x-python",
   "name": "python",
   "nbconvert_exporter": "python",
   "pygments_lexer": "ipython3",
   "version": "3.10.9"
  }
 },
 "nbformat": 4,
 "nbformat_minor": 5
}
