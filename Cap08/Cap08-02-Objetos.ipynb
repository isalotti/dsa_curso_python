{
 "cells": [
  {
   "cell_type": "markdown",
   "id": "53090c8d",
   "metadata": {},
   "source": [
    "## Objetos"
   ]
  },
  {
   "cell_type": "markdown",
   "id": "5a423597",
   "metadata": {},
   "source": [
    "#### Tudo em python é objeto!"
   ]
  },
  {
   "cell_type": "code",
   "execution_count": 1,
   "id": "207167ad",
   "metadata": {},
   "outputs": [],
   "source": [
    "lst_num = [\"Data\", \"Science\", \"Academy\", \"Nota\", 10, 10]"
   ]
  },
  {
   "cell_type": "code",
   "execution_count": 2,
   "id": "e37a93a6",
   "metadata": {},
   "outputs": [
    {
     "data": {
      "text/plain": [
       "list"
      ]
     },
     "execution_count": 2,
     "metadata": {},
     "output_type": "execute_result"
    }
   ],
   "source": [
    "type(lst_num)"
   ]
  },
  {
   "cell_type": "code",
   "execution_count": 4,
   "id": "77e8b3a2",
   "metadata": {},
   "outputs": [
    {
     "name": "stdout",
     "output_type": "stream",
     "text": [
      "<class 'list'>\n"
     ]
    }
   ],
   "source": [
    "print(type(lst_num))"
   ]
  },
  {
   "cell_type": "code",
   "execution_count": 5,
   "id": "fb91d3a3",
   "metadata": {},
   "outputs": [
    {
     "data": {
      "text/plain": [
       "2"
      ]
     },
     "execution_count": 5,
     "metadata": {},
     "output_type": "execute_result"
    }
   ],
   "source": [
    "lst_num.count(10)"
   ]
  },
  {
   "cell_type": "code",
   "execution_count": 6,
   "id": "df3c7a46",
   "metadata": {},
   "outputs": [
    {
     "name": "stdout",
     "output_type": "stream",
     "text": [
      "<class 'int'>\n"
     ]
    }
   ],
   "source": [
    "print(type(10))"
   ]
  },
  {
   "cell_type": "code",
   "execution_count": 9,
   "id": "8a81df38",
   "metadata": {},
   "outputs": [
    {
     "name": "stdout",
     "output_type": "stream",
     "text": [
      "<class 'list'>\n"
     ]
    }
   ],
   "source": [
    "print(type([]))"
   ]
  },
  {
   "cell_type": "code",
   "execution_count": 10,
   "id": "de343b42",
   "metadata": {},
   "outputs": [
    {
     "name": "stdout",
     "output_type": "stream",
     "text": [
      "<class 'dict'>\n"
     ]
    }
   ],
   "source": [
    "print(type({}))"
   ]
  },
  {
   "cell_type": "code",
   "execution_count": 12,
   "id": "7cf46fbd",
   "metadata": {},
   "outputs": [
    {
     "name": "stdout",
     "output_type": "stream",
     "text": [
      "<class 'str'>\n"
     ]
    }
   ],
   "source": [
    "print(type('a'))"
   ]
  },
  {
   "cell_type": "code",
   "execution_count": 13,
   "id": "093082d5",
   "metadata": {},
   "outputs": [],
   "source": [
    "class Carro(object):\n",
    "    pass      # necessário quando um método / classe for vazio"
   ]
  },
  {
   "cell_type": "code",
   "execution_count": 14,
   "id": "ae066217",
   "metadata": {},
   "outputs": [],
   "source": [
    "ferrari = Carro()"
   ]
  },
  {
   "cell_type": "code",
   "execution_count": 15,
   "id": "6ee9117b",
   "metadata": {},
   "outputs": [
    {
     "name": "stdout",
     "output_type": "stream",
     "text": [
      "<class '__main__.Carro'>\n"
     ]
    }
   ],
   "source": [
    "print(type(ferrari))"
   ]
  },
  {
   "cell_type": "code",
   "execution_count": 17,
   "id": "4d59e610",
   "metadata": {},
   "outputs": [],
   "source": [
    "class Estudantes:\n",
    "    def __init__(self,nome, idade, nota):\n",
    "        self.nome = nome\n",
    "        self.idade = idade\n",
    "        self.nota = nota"
   ]
  },
  {
   "cell_type": "code",
   "execution_count": 18,
   "id": "e2d8f124",
   "metadata": {},
   "outputs": [],
   "source": [
    "Estudante1 = Estudantes(\"Bob\", 12, 9.5)"
   ]
  },
  {
   "cell_type": "code",
   "execution_count": 21,
   "id": "a2e9ea7c",
   "metadata": {},
   "outputs": [
    {
     "data": {
      "text/plain": [
       "'Bob'"
      ]
     },
     "execution_count": 21,
     "metadata": {},
     "output_type": "execute_result"
    }
   ],
   "source": [
    "Estudante1.nome"
   ]
  },
  {
   "cell_type": "code",
   "execution_count": 22,
   "id": "c9fde631",
   "metadata": {},
   "outputs": [
    {
     "data": {
      "text/plain": [
       "12"
      ]
     },
     "execution_count": 22,
     "metadata": {},
     "output_type": "execute_result"
    }
   ],
   "source": [
    "Estudante1.idade"
   ]
  },
  {
   "cell_type": "code",
   "execution_count": 23,
   "id": "a1598450",
   "metadata": {},
   "outputs": [
    {
     "data": {
      "text/plain": [
       "9.5"
      ]
     },
     "execution_count": 23,
     "metadata": {},
     "output_type": "execute_result"
    }
   ],
   "source": [
    "Estudante1.nota"
   ]
  },
  {
   "cell_type": "code",
   "execution_count": 24,
   "id": "fd1b4b64",
   "metadata": {},
   "outputs": [],
   "source": [
    "class Funcionarios:\n",
    "    def __init__(self, nome, salario, cargo):\n",
    "        self.nome = nome\n",
    "        self.salario = salario\n",
    "        self.cargo = cargo\n",
    "        \n",
    "    def listFunc(self):\n",
    "        print(\"Funcionário(a) \" + self.nome + \" tem salário de R$\" + str(self.salario) + \" e o cargo é \" + self.cargo)"
   ]
  },
  {
   "cell_type": "code",
   "execution_count": 25,
   "id": "ed3429ef",
   "metadata": {},
   "outputs": [],
   "source": [
    "Func1 = Funcionarios(\"Mary\",200000, \"Cientista de Dados\")"
   ]
  },
  {
   "cell_type": "code",
   "execution_count": 26,
   "id": "6979a753",
   "metadata": {},
   "outputs": [
    {
     "name": "stdout",
     "output_type": "stream",
     "text": [
      "Funcionário(a) Mary tem salário de R$200000 e o cargo é Cientista de Dados\n"
     ]
    }
   ],
   "source": [
    "Func1.listFunc()"
   ]
  },
  {
   "cell_type": "code",
   "execution_count": 27,
   "id": "262799e7",
   "metadata": {},
   "outputs": [
    {
     "name": "stdout",
     "output_type": "stream",
     "text": [
      "**** Usando atributos ****\n"
     ]
    }
   ],
   "source": [
    "print(\"**** Usando atributos ****\")"
   ]
  },
  {
   "cell_type": "code",
   "execution_count": 28,
   "id": "3a706b58",
   "metadata": {},
   "outputs": [
    {
     "data": {
      "text/plain": [
       "True"
      ]
     },
     "execution_count": 28,
     "metadata": {},
     "output_type": "execute_result"
    }
   ],
   "source": [
    "hasattr(Func1,\"nome\")"
   ]
  },
  {
   "cell_type": "code",
   "execution_count": 29,
   "id": "095ff82c",
   "metadata": {},
   "outputs": [
    {
     "data": {
      "text/plain": [
       "True"
      ]
     },
     "execution_count": 29,
     "metadata": {},
     "output_type": "execute_result"
    }
   ],
   "source": [
    "hasattr(Func1, \"salario\")"
   ]
  },
  {
   "cell_type": "code",
   "execution_count": 30,
   "id": "3c7f7b8d",
   "metadata": {},
   "outputs": [],
   "source": [
    "setattr(Func1, \"salario\", 4500)"
   ]
  },
  {
   "cell_type": "code",
   "execution_count": 31,
   "id": "9f47805f",
   "metadata": {},
   "outputs": [
    {
     "data": {
      "text/plain": [
       "4500"
      ]
     },
     "execution_count": 31,
     "metadata": {},
     "output_type": "execute_result"
    }
   ],
   "source": [
    "getattr(Func1,\"salario\")"
   ]
  },
  {
   "cell_type": "code",
   "execution_count": 32,
   "id": "1ae2eda0",
   "metadata": {},
   "outputs": [],
   "source": [
    "delattr(Func1,\"salario\")"
   ]
  },
  {
   "cell_type": "code",
   "execution_count": 33,
   "id": "af152175",
   "metadata": {},
   "outputs": [
    {
     "data": {
      "text/plain": [
       "False"
      ]
     },
     "execution_count": 33,
     "metadata": {},
     "output_type": "execute_result"
    }
   ],
   "source": [
    "hasattr(Func1,\"salario\")"
   ]
  },
  {
   "cell_type": "code",
   "execution_count": null,
   "id": "63c8b573",
   "metadata": {},
   "outputs": [],
   "source": []
  }
 ],
 "metadata": {
  "kernelspec": {
   "display_name": "Python 3 (ipykernel)",
   "language": "python",
   "name": "python3"
  },
  "language_info": {
   "codemirror_mode": {
    "name": "ipython",
    "version": 3
   },
   "file_extension": ".py",
   "mimetype": "text/x-python",
   "name": "python",
   "nbconvert_exporter": "python",
   "pygments_lexer": "ipython3",
   "version": "3.10.9"
  }
 },
 "nbformat": 4,
 "nbformat_minor": 5
}
