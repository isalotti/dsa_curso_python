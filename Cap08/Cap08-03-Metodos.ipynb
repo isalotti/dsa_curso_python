{
 "cells": [
  {
   "cell_type": "markdown",
   "id": "3159046f",
   "metadata": {},
   "source": [
    "## Métodos"
   ]
  },
  {
   "cell_type": "code",
   "execution_count": 1,
   "id": "32afa63f",
   "metadata": {},
   "outputs": [],
   "source": [
    "class Circulo():\n",
    "    pi = 3.14\n",
    "    \n",
    "    def __init__(self, raio = 5):\n",
    "        self.raio = raio\n",
    "    \n",
    "    def area(self):\n",
    "        return (self.raio * self.raio) * Circulo.pi\n",
    "    \n",
    "    def setRaio(self, novo_raio):\n",
    "        self.raio = novo_raio\n",
    "        \n",
    "    def getRaio(self):\n",
    "        return self.raio\n",
    "    "
   ]
  },
  {
   "cell_type": "code",
   "execution_count": 2,
   "id": "05fc0a40",
   "metadata": {},
   "outputs": [],
   "source": [
    "circ = Circulo()"
   ]
  },
  {
   "cell_type": "code",
   "execution_count": 3,
   "id": "06e6da54",
   "metadata": {},
   "outputs": [
    {
     "data": {
      "text/plain": [
       "5"
      ]
     },
     "execution_count": 3,
     "metadata": {},
     "output_type": "execute_result"
    }
   ],
   "source": [
    "circ.getRaio()"
   ]
  },
  {
   "cell_type": "code",
   "execution_count": 4,
   "id": "9126438a",
   "metadata": {},
   "outputs": [],
   "source": [
    "circ1 = Circulo(7)"
   ]
  },
  {
   "cell_type": "code",
   "execution_count": 5,
   "id": "54df33f4",
   "metadata": {},
   "outputs": [
    {
     "data": {
      "text/plain": [
       "7"
      ]
     },
     "execution_count": 5,
     "metadata": {},
     "output_type": "execute_result"
    }
   ],
   "source": [
    "circ1.getRaio()"
   ]
  },
  {
   "cell_type": "code",
   "execution_count": 6,
   "id": "2a7532e3",
   "metadata": {},
   "outputs": [
    {
     "name": "stdout",
     "output_type": "stream",
     "text": [
      "O raio é : 5\n"
     ]
    }
   ],
   "source": [
    "print('O raio é :', circ.getRaio())"
   ]
  },
  {
   "cell_type": "code",
   "execution_count": 7,
   "id": "246298d1",
   "metadata": {},
   "outputs": [
    {
     "name": "stdout",
     "output_type": "stream",
     "text": [
      "Área igual a: 78.5\n"
     ]
    }
   ],
   "source": [
    "print('Área igual a:', circ.area())"
   ]
  },
  {
   "cell_type": "code",
   "execution_count": 8,
   "id": "b44ef8d4",
   "metadata": {},
   "outputs": [],
   "source": [
    "circ.setRaio(8)"
   ]
  },
  {
   "cell_type": "code",
   "execution_count": 9,
   "id": "f099a31d",
   "metadata": {},
   "outputs": [
    {
     "name": "stdout",
     "output_type": "stream",
     "text": [
      "Novo raio igual a: 8\n"
     ]
    }
   ],
   "source": [
    "print('Novo raio igual a:', circ.getRaio())"
   ]
  },
  {
   "cell_type": "code",
   "execution_count": null,
   "id": "3a41db8e",
   "metadata": {},
   "outputs": [],
   "source": []
  }
 ],
 "metadata": {
  "kernelspec": {
   "display_name": "Python 3 (ipykernel)",
   "language": "python",
   "name": "python3"
  },
  "language_info": {
   "codemirror_mode": {
    "name": "ipython",
    "version": 3
   },
   "file_extension": ".py",
   "mimetype": "text/x-python",
   "name": "python",
   "nbconvert_exporter": "python",
   "pygments_lexer": "ipython3",
   "version": "3.10.9"
  }
 },
 "nbformat": 4,
 "nbformat_minor": 5
}
