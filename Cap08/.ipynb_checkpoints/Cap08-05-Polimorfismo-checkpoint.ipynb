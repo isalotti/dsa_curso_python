{
 "cells": [
  {
   "cell_type": "markdown",
   "id": "a707416e",
   "metadata": {},
   "source": [
    "## Polimorfismo"
   ]
  },
  {
   "cell_type": "code",
   "execution_count": 1,
   "id": "a8a1f211",
   "metadata": {},
   "outputs": [],
   "source": [
    "# Superclasse\n",
    "class Veiculo:\n",
    "    def __init__(self, marca, modelo):\n",
    "        self.marca = marca\n",
    "        self.modelo = modelo\n",
    "        \n",
    "    def acelerar(self):\n",
    "        pass\n",
    "    \n",
    "    def frear(self):\n",
    "        pass"
   ]
  },
  {
   "cell_type": "code",
   "execution_count": 2,
   "id": "79638f83",
   "metadata": {},
   "outputs": [],
   "source": [
    "# Subclasse\n",
    "class Carro(Veiculo):\n",
    "    \n",
    "    def acelerar(self):\n",
    "        print(\"O carro está acelerando.\")\n",
    "        \n",
    "    def frear(self):\n",
    "        print(\"O carro está freando.\")"
   ]
  },
  {
   "cell_type": "code",
   "execution_count": 3,
   "id": "83c7aab0",
   "metadata": {},
   "outputs": [],
   "source": [
    "# Subclasse\n",
    "class Moto(Veiculo):\n",
    "    \n",
    "        \n",
    "    def acelerar(self):\n",
    "        print(\"A moto está acelerando.\")\n",
    "        \n",
    "    def frear(self):\n",
    "        print(\"A moto está freando.\")"
   ]
  },
  {
   "cell_type": "code",
   "execution_count": 4,
   "id": "f63bbed2",
   "metadata": {},
   "outputs": [],
   "source": [
    "# Subclasse \n",
    "class Aviao(Veiculo):\n",
    "    \n",
    "        \n",
    "    def acelerar(self):\n",
    "        print(\"O avião está acelerando.\")\n",
    "        \n",
    "    def frear(self):\n",
    "        print(\"O avião está freando.\")\n",
    "        \n",
    "    def decolar(self):\n",
    "        print(\"O avião está decolando.\")"
   ]
  },
  {
   "cell_type": "code",
   "execution_count": 5,
   "id": "c8672b59",
   "metadata": {},
   "outputs": [],
   "source": [
    "lista_veiculos = [Carro(\"Porche\",\"911 Turbo\"), Moto(\"Honda\",\"CB 1000R\"), Aviao(\"Boeing\",\"757\")]"
   ]
  },
  {
   "cell_type": "code",
   "execution_count": 6,
   "id": "6daa1a75",
   "metadata": {},
   "outputs": [
    {
     "name": "stdout",
     "output_type": "stream",
     "text": [
      "O carro está acelerando.\n",
      "O carro está freando.\n",
      "----\n",
      "A moto está acelerando.\n",
      "A moto está freando.\n",
      "----\n",
      "O avião está acelerando.\n",
      "O avião está freando.\n",
      "O avião está decolando.\n",
      "----\n"
     ]
    }
   ],
   "source": [
    "for item in lista_veiculos:\n",
    "    \n",
    "    item.acelerar()\n",
    "    \n",
    "    item.frear()\n",
    "    \n",
    "    if isinstance(item, Aviao):\n",
    "        item.decolar()\n",
    "        \n",
    "    print(\"----\")"
   ]
  },
  {
   "cell_type": "code",
   "execution_count": null,
   "id": "4bbd4671",
   "metadata": {},
   "outputs": [],
   "source": []
  }
 ],
 "metadata": {
  "kernelspec": {
   "display_name": "Python 3 (ipykernel)",
   "language": "python",
   "name": "python3"
  },
  "language_info": {
   "codemirror_mode": {
    "name": "ipython",
    "version": 3
   },
   "file_extension": ".py",
   "mimetype": "text/x-python",
   "name": "python",
   "nbconvert_exporter": "python",
   "pygments_lexer": "ipython3",
   "version": "3.10.9"
  }
 },
 "nbformat": 4,
 "nbformat_minor": 5
}
