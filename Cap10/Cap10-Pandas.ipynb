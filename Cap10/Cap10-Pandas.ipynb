{
 "cells": [
  {
   "cell_type": "markdown",
   "id": "b302fd09",
   "metadata": {},
   "source": [
    "## Pandas"
   ]
  },
  {
   "cell_type": "markdown",
   "id": "9bc64e59",
   "metadata": {},
   "source": [
    "Documentação do Pandas:\n",
    "    https://pandas.pydata.org/docs/user_guide/index.html\n",
    "        "
   ]
  },
  {
   "cell_type": "code",
   "execution_count": 1,
   "id": "a8ee792e",
   "metadata": {},
   "outputs": [],
   "source": [
    "# Instala a versão exata do pacote\n",
    "#!pip instal -q pandas==1.5.3\n",
    "# ! -> vai para o sistema operacional\n",
    "# - q quiet\n",
    "#== versão exata"
   ]
  },
  {
   "cell_type": "code",
   "execution_count": 2,
   "id": "9fbc278e",
   "metadata": {},
   "outputs": [],
   "source": [
    "import pandas as pd"
   ]
  },
  {
   "cell_type": "code",
   "execution_count": 3,
   "id": "f78987ae",
   "metadata": {},
   "outputs": [
    {
     "data": {
      "text/plain": [
       "'1.5.3'"
      ]
     },
     "execution_count": 3,
     "metadata": {},
     "output_type": "execute_result"
    }
   ],
   "source": [
    "pd.__version__"
   ]
  },
  {
   "cell_type": "markdown",
   "id": "b526ec80",
   "metadata": {},
   "source": [
    "## Manipulando Dados em DataFrames do Pandas"
   ]
  },
  {
   "cell_type": "code",
   "execution_count": 4,
   "id": "42e83292",
   "metadata": {},
   "outputs": [],
   "source": [
    "# Cria um dicionário\n",
    "dados = {'Estado': ['Santa Catarina', 'Rio de Janeiro','Tocantins','Bahia', 'Minas Gerais'],\n",
    "        'Ano': [2004, 2005, 2006, 2007, 2008],\n",
    "        'Taxa Desemprego':[1.5, 1.7, 1.6, 2.4, 2.7]}"
   ]
  },
  {
   "cell_type": "code",
   "execution_count": 5,
   "id": "98ca518f",
   "metadata": {},
   "outputs": [
    {
     "name": "stdout",
     "output_type": "stream",
     "text": [
      "{'Estado': ['Santa Catarina', 'Rio de Janeiro', 'Tocantins', 'Bahia', 'Minas Gerais'], 'Ano': [2004, 2005, 2006, 2007, 2008], 'Taxa Desemprego': [1.5, 1.7, 1.6, 2.4, 2.7]}\n"
     ]
    }
   ],
   "source": [
    "print(dados)"
   ]
  },
  {
   "cell_type": "code",
   "execution_count": 6,
   "id": "15650de8",
   "metadata": {},
   "outputs": [
    {
     "data": {
      "text/plain": [
       "dict"
      ]
     },
     "execution_count": 6,
     "metadata": {},
     "output_type": "execute_result"
    }
   ],
   "source": [
    "type(dados)"
   ]
  },
  {
   "cell_type": "code",
   "execution_count": 7,
   "id": "31101c28",
   "metadata": {},
   "outputs": [],
   "source": [
    "# Importar função DataFrame do Pandas\n",
    "from pandas import DataFrame"
   ]
  },
  {
   "cell_type": "code",
   "execution_count": 8,
   "id": "b4abba0e",
   "metadata": {},
   "outputs": [],
   "source": [
    "# Convert o dict em dataframe\n",
    "df = DataFrame(dados)"
   ]
  },
  {
   "cell_type": "code",
   "execution_count": 9,
   "id": "9c1f8972",
   "metadata": {},
   "outputs": [
    {
     "name": "stdout",
     "output_type": "stream",
     "text": [
      "           Estado   Ano  Taxa Desemprego\n",
      "0  Santa Catarina  2004              1.5\n",
      "1  Rio de Janeiro  2005              1.7\n",
      "2       Tocantins  2006              1.6\n",
      "3           Bahia  2007              2.4\n",
      "4    Minas Gerais  2008              2.7\n"
     ]
    }
   ],
   "source": [
    "print(df)"
   ]
  },
  {
   "cell_type": "code",
   "execution_count": 10,
   "id": "9806bf17",
   "metadata": {},
   "outputs": [
    {
     "data": {
      "text/plain": [
       "pandas.core.frame.DataFrame"
      ]
     },
     "execution_count": 10,
     "metadata": {},
     "output_type": "execute_result"
    }
   ],
   "source": [
    "type(df)"
   ]
  },
  {
   "cell_type": "code",
   "execution_count": 11,
   "id": "efb32cde",
   "metadata": {},
   "outputs": [
    {
     "data": {
      "text/html": [
       "<div>\n",
       "<style scoped>\n",
       "    .dataframe tbody tr th:only-of-type {\n",
       "        vertical-align: middle;\n",
       "    }\n",
       "\n",
       "    .dataframe tbody tr th {\n",
       "        vertical-align: top;\n",
       "    }\n",
       "\n",
       "    .dataframe thead th {\n",
       "        text-align: right;\n",
       "    }\n",
       "</style>\n",
       "<table border=\"1\" class=\"dataframe\">\n",
       "  <thead>\n",
       "    <tr style=\"text-align: right;\">\n",
       "      <th></th>\n",
       "      <th>Estado</th>\n",
       "      <th>Ano</th>\n",
       "      <th>Taxa Desemprego</th>\n",
       "    </tr>\n",
       "  </thead>\n",
       "  <tbody>\n",
       "    <tr>\n",
       "      <th>0</th>\n",
       "      <td>Santa Catarina</td>\n",
       "      <td>2004</td>\n",
       "      <td>1.5</td>\n",
       "    </tr>\n",
       "    <tr>\n",
       "      <th>1</th>\n",
       "      <td>Rio de Janeiro</td>\n",
       "      <td>2005</td>\n",
       "      <td>1.7</td>\n",
       "    </tr>\n",
       "    <tr>\n",
       "      <th>2</th>\n",
       "      <td>Tocantins</td>\n",
       "      <td>2006</td>\n",
       "      <td>1.6</td>\n",
       "    </tr>\n",
       "    <tr>\n",
       "      <th>3</th>\n",
       "      <td>Bahia</td>\n",
       "      <td>2007</td>\n",
       "      <td>2.4</td>\n",
       "    </tr>\n",
       "    <tr>\n",
       "      <th>4</th>\n",
       "      <td>Minas Gerais</td>\n",
       "      <td>2008</td>\n",
       "      <td>2.7</td>\n",
       "    </tr>\n",
       "  </tbody>\n",
       "</table>\n",
       "</div>"
      ],
      "text/plain": [
       "           Estado   Ano  Taxa Desemprego\n",
       "0  Santa Catarina  2004              1.5\n",
       "1  Rio de Janeiro  2005              1.7\n",
       "2       Tocantins  2006              1.6\n",
       "3           Bahia  2007              2.4\n",
       "4    Minas Gerais  2008              2.7"
      ]
     },
     "execution_count": 11,
     "metadata": {},
     "output_type": "execute_result"
    }
   ],
   "source": [
    "#Visualiza 5 primeiras linhas (em tabelinha formatada)\n",
    "df.head()"
   ]
  },
  {
   "cell_type": "code",
   "execution_count": 12,
   "id": "1eebfd57",
   "metadata": {},
   "outputs": [
    {
     "data": {
      "text/html": [
       "<div>\n",
       "<style scoped>\n",
       "    .dataframe tbody tr th:only-of-type {\n",
       "        vertical-align: middle;\n",
       "    }\n",
       "\n",
       "    .dataframe tbody tr th {\n",
       "        vertical-align: top;\n",
       "    }\n",
       "\n",
       "    .dataframe thead th {\n",
       "        text-align: right;\n",
       "    }\n",
       "</style>\n",
       "<table border=\"1\" class=\"dataframe\">\n",
       "  <thead>\n",
       "    <tr style=\"text-align: right;\">\n",
       "      <th></th>\n",
       "      <th>Estado</th>\n",
       "      <th>Taxa Desemprego</th>\n",
       "      <th>Ano</th>\n",
       "    </tr>\n",
       "  </thead>\n",
       "  <tbody>\n",
       "    <tr>\n",
       "      <th>0</th>\n",
       "      <td>Santa Catarina</td>\n",
       "      <td>1.5</td>\n",
       "      <td>2004</td>\n",
       "    </tr>\n",
       "    <tr>\n",
       "      <th>1</th>\n",
       "      <td>Rio de Janeiro</td>\n",
       "      <td>1.7</td>\n",
       "      <td>2005</td>\n",
       "    </tr>\n",
       "    <tr>\n",
       "      <th>2</th>\n",
       "      <td>Tocantins</td>\n",
       "      <td>1.6</td>\n",
       "      <td>2006</td>\n",
       "    </tr>\n",
       "    <tr>\n",
       "      <th>3</th>\n",
       "      <td>Bahia</td>\n",
       "      <td>2.4</td>\n",
       "      <td>2007</td>\n",
       "    </tr>\n",
       "    <tr>\n",
       "      <th>4</th>\n",
       "      <td>Minas Gerais</td>\n",
       "      <td>2.7</td>\n",
       "      <td>2008</td>\n",
       "    </tr>\n",
       "  </tbody>\n",
       "</table>\n",
       "</div>"
      ],
      "text/plain": [
       "           Estado  Taxa Desemprego   Ano\n",
       "0  Santa Catarina              1.5  2004\n",
       "1  Rio de Janeiro              1.7  2005\n",
       "2       Tocantins              1.6  2006\n",
       "3           Bahia              2.4  2007\n",
       "4    Minas Gerais              2.7  2008"
      ]
     },
     "execution_count": 12,
     "metadata": {},
     "output_type": "execute_result"
    }
   ],
   "source": [
    "# Reorganizando as colunas\n",
    "DataFrame(dados, columns = ['Estado', 'Taxa Desemprego', 'Ano'])   # inverter a segunda com a 3. coluna!"
   ]
  },
  {
   "cell_type": "code",
   "execution_count": 13,
   "id": "e5ceb113",
   "metadata": {},
   "outputs": [],
   "source": [
    "# Outro dataframe, com mais uma coluna\n",
    "df2 = DataFrame(dados,\n",
    "               columns = ['Estado', 'Taxa Desemprego', 'Taxa crescimento','Ano'],  # nova col: Taxa crescimento\n",
    "               index = ['estado1', 'estado2', 'estado3', 'estado4', 'estado5'])    # nome do indice de cada coluna!"
   ]
  },
  {
   "cell_type": "code",
   "execution_count": 14,
   "id": "47144bd6",
   "metadata": {},
   "outputs": [
    {
     "data": {
      "text/html": [
       "<div>\n",
       "<style scoped>\n",
       "    .dataframe tbody tr th:only-of-type {\n",
       "        vertical-align: middle;\n",
       "    }\n",
       "\n",
       "    .dataframe tbody tr th {\n",
       "        vertical-align: top;\n",
       "    }\n",
       "\n",
       "    .dataframe thead th {\n",
       "        text-align: right;\n",
       "    }\n",
       "</style>\n",
       "<table border=\"1\" class=\"dataframe\">\n",
       "  <thead>\n",
       "    <tr style=\"text-align: right;\">\n",
       "      <th></th>\n",
       "      <th>Estado</th>\n",
       "      <th>Taxa Desemprego</th>\n",
       "      <th>Taxa crescimento</th>\n",
       "      <th>Ano</th>\n",
       "    </tr>\n",
       "  </thead>\n",
       "  <tbody>\n",
       "    <tr>\n",
       "      <th>estado1</th>\n",
       "      <td>Santa Catarina</td>\n",
       "      <td>1.5</td>\n",
       "      <td>NaN</td>\n",
       "      <td>2004</td>\n",
       "    </tr>\n",
       "    <tr>\n",
       "      <th>estado2</th>\n",
       "      <td>Rio de Janeiro</td>\n",
       "      <td>1.7</td>\n",
       "      <td>NaN</td>\n",
       "      <td>2005</td>\n",
       "    </tr>\n",
       "    <tr>\n",
       "      <th>estado3</th>\n",
       "      <td>Tocantins</td>\n",
       "      <td>1.6</td>\n",
       "      <td>NaN</td>\n",
       "      <td>2006</td>\n",
       "    </tr>\n",
       "    <tr>\n",
       "      <th>estado4</th>\n",
       "      <td>Bahia</td>\n",
       "      <td>2.4</td>\n",
       "      <td>NaN</td>\n",
       "      <td>2007</td>\n",
       "    </tr>\n",
       "    <tr>\n",
       "      <th>estado5</th>\n",
       "      <td>Minas Gerais</td>\n",
       "      <td>2.7</td>\n",
       "      <td>NaN</td>\n",
       "      <td>2008</td>\n",
       "    </tr>\n",
       "  </tbody>\n",
       "</table>\n",
       "</div>"
      ],
      "text/plain": [
       "                 Estado  Taxa Desemprego Taxa crescimento   Ano\n",
       "estado1  Santa Catarina              1.5              NaN  2004\n",
       "estado2  Rio de Janeiro              1.7              NaN  2005\n",
       "estado3       Tocantins              1.6              NaN  2006\n",
       "estado4           Bahia              2.4              NaN  2007\n",
       "estado5    Minas Gerais              2.7              NaN  2008"
      ]
     },
     "execution_count": 14,
     "metadata": {},
     "output_type": "execute_result"
    }
   ],
   "source": [
    "df2"
   ]
  },
  {
   "cell_type": "code",
   "execution_count": 15,
   "id": "0b783cda",
   "metadata": {},
   "outputs": [
    {
     "data": {
      "text/plain": [
       "Index(['Estado', 'Taxa Desemprego', 'Taxa crescimento', 'Ano'], dtype='object')"
      ]
     },
     "execution_count": 15,
     "metadata": {},
     "output_type": "execute_result"
    }
   ],
   "source": [
    "df2.columns"
   ]
  },
  {
   "cell_type": "code",
   "execution_count": 16,
   "id": "e45c5656",
   "metadata": {},
   "outputs": [
    {
     "data": {
      "text/plain": [
       "estado1    Santa Catarina\n",
       "estado2    Rio de Janeiro\n",
       "estado3         Tocantins\n",
       "estado4             Bahia\n",
       "estado5      Minas Gerais\n",
       "Name: Estado, dtype: object"
      ]
     },
     "execution_count": 16,
     "metadata": {},
     "output_type": "execute_result"
    }
   ],
   "source": [
    "# Imprimindo apenas a coluna específica\n",
    "df2['Estado']"
   ]
  },
  {
   "cell_type": "code",
   "execution_count": 17,
   "id": "ed3f21ad",
   "metadata": {},
   "outputs": [
    {
     "data": {
      "text/plain": [
       "array([['Santa Catarina', 1.5, nan, 2004],\n",
       "       ['Rio de Janeiro', 1.7, nan, 2005],\n",
       "       ['Tocantins', 1.6, nan, 2006],\n",
       "       ['Bahia', 2.4, nan, 2007],\n",
       "       ['Minas Gerais', 2.7, nan, 2008]], dtype=object)"
      ]
     },
     "execution_count": 17,
     "metadata": {},
     "output_type": "execute_result"
    }
   ],
   "source": [
    "df2.values"
   ]
  },
  {
   "cell_type": "code",
   "execution_count": 18,
   "id": "afa71638",
   "metadata": {},
   "outputs": [
    {
     "data": {
      "text/plain": [
       "Estado               object\n",
       "Taxa Desemprego     float64\n",
       "Taxa crescimento     object\n",
       "Ano                   int64\n",
       "dtype: object"
      ]
     },
     "execution_count": 18,
     "metadata": {},
     "output_type": "execute_result"
    }
   ],
   "source": [
    "df2.dtypes"
   ]
  },
  {
   "cell_type": "code",
   "execution_count": 19,
   "id": "66ca368e",
   "metadata": {},
   "outputs": [
    {
     "data": {
      "text/plain": [
       "Index(['Estado', 'Taxa Desemprego', 'Taxa crescimento', 'Ano'], dtype='object')"
      ]
     },
     "execution_count": 19,
     "metadata": {},
     "output_type": "execute_result"
    }
   ],
   "source": [
    "df2.columns  # título das colunas"
   ]
  },
  {
   "cell_type": "code",
   "execution_count": 20,
   "id": "5272da09",
   "metadata": {},
   "outputs": [
    {
     "data": {
      "text/html": [
       "<div>\n",
       "<style scoped>\n",
       "    .dataframe tbody tr th:only-of-type {\n",
       "        vertical-align: middle;\n",
       "    }\n",
       "\n",
       "    .dataframe tbody tr th {\n",
       "        vertical-align: top;\n",
       "    }\n",
       "\n",
       "    .dataframe thead th {\n",
       "        text-align: right;\n",
       "    }\n",
       "</style>\n",
       "<table border=\"1\" class=\"dataframe\">\n",
       "  <thead>\n",
       "    <tr style=\"text-align: right;\">\n",
       "      <th></th>\n",
       "      <th>Taxa Desemprego</th>\n",
       "      <th>Ano</th>\n",
       "    </tr>\n",
       "  </thead>\n",
       "  <tbody>\n",
       "    <tr>\n",
       "      <th>estado1</th>\n",
       "      <td>1.5</td>\n",
       "      <td>2004</td>\n",
       "    </tr>\n",
       "    <tr>\n",
       "      <th>estado2</th>\n",
       "      <td>1.7</td>\n",
       "      <td>2005</td>\n",
       "    </tr>\n",
       "    <tr>\n",
       "      <th>estado3</th>\n",
       "      <td>1.6</td>\n",
       "      <td>2006</td>\n",
       "    </tr>\n",
       "    <tr>\n",
       "      <th>estado4</th>\n",
       "      <td>2.4</td>\n",
       "      <td>2007</td>\n",
       "    </tr>\n",
       "    <tr>\n",
       "      <th>estado5</th>\n",
       "      <td>2.7</td>\n",
       "      <td>2008</td>\n",
       "    </tr>\n",
       "  </tbody>\n",
       "</table>\n",
       "</div>"
      ],
      "text/plain": [
       "         Taxa Desemprego   Ano\n",
       "estado1              1.5  2004\n",
       "estado2              1.7  2005\n",
       "estado3              1.6  2006\n",
       "estado4              2.4  2007\n",
       "estado5              2.7  2008"
      ]
     },
     "execution_count": 20,
     "metadata": {},
     "output_type": "execute_result"
    }
   ],
   "source": [
    "# Imprimindo apenas uma coluna do DataFrame\n",
    "df2[['Taxa Desemprego', 'Ano']]      #nomes das colunas são case sensitive!"
   ]
  },
  {
   "cell_type": "code",
   "execution_count": 21,
   "id": "356bcf9e",
   "metadata": {},
   "outputs": [
    {
     "data": {
      "text/plain": [
       "Index(['estado1', 'estado2', 'estado3', 'estado4', 'estado5'], dtype='object')"
      ]
     },
     "execution_count": 21,
     "metadata": {},
     "output_type": "execute_result"
    }
   ],
   "source": [
    "df2.index  # nomeou-se os indices (0,1,2...) para outros nomes"
   ]
  },
  {
   "cell_type": "code",
   "execution_count": 22,
   "id": "25d678ff",
   "metadata": {},
   "outputs": [
    {
     "data": {
      "text/html": [
       "<div>\n",
       "<style scoped>\n",
       "    .dataframe tbody tr th:only-of-type {\n",
       "        vertical-align: middle;\n",
       "    }\n",
       "\n",
       "    .dataframe tbody tr th {\n",
       "        vertical-align: top;\n",
       "    }\n",
       "\n",
       "    .dataframe thead th {\n",
       "        text-align: right;\n",
       "    }\n",
       "</style>\n",
       "<table border=\"1\" class=\"dataframe\">\n",
       "  <thead>\n",
       "    <tr style=\"text-align: right;\">\n",
       "      <th></th>\n",
       "      <th>Estado</th>\n",
       "      <th>Taxa Desemprego</th>\n",
       "      <th>Taxa crescimento</th>\n",
       "      <th>Ano</th>\n",
       "    </tr>\n",
       "  </thead>\n",
       "  <tbody>\n",
       "    <tr>\n",
       "      <th>estado3</th>\n",
       "      <td>Tocantins</td>\n",
       "      <td>1.6</td>\n",
       "      <td>NaN</td>\n",
       "      <td>2006</td>\n",
       "    </tr>\n",
       "  </tbody>\n",
       "</table>\n",
       "</div>"
      ],
      "text/plain": [
       "            Estado  Taxa Desemprego Taxa crescimento   Ano\n",
       "estado3  Tocantins              1.6              NaN  2006"
      ]
     },
     "execution_count": 22,
     "metadata": {},
     "output_type": "execute_result"
    }
   ],
   "source": [
    "# Filtrando pelo índice\n",
    "df2.filter(items = ['estado3'],axis = 0)"
   ]
  },
  {
   "cell_type": "markdown",
   "id": "92e3b668",
   "metadata": {},
   "source": [
    "### Usando NumPy e Pandas para Manipulação de Dados"
   ]
  },
  {
   "cell_type": "code",
   "execution_count": 23,
   "id": "922a4167",
   "metadata": {},
   "outputs": [
    {
     "data": {
      "text/html": [
       "<div>\n",
       "<style scoped>\n",
       "    .dataframe tbody tr th:only-of-type {\n",
       "        vertical-align: middle;\n",
       "    }\n",
       "\n",
       "    .dataframe tbody tr th {\n",
       "        vertical-align: top;\n",
       "    }\n",
       "\n",
       "    .dataframe thead th {\n",
       "        text-align: right;\n",
       "    }\n",
       "</style>\n",
       "<table border=\"1\" class=\"dataframe\">\n",
       "  <thead>\n",
       "    <tr style=\"text-align: right;\">\n",
       "      <th></th>\n",
       "      <th>Estado</th>\n",
       "      <th>Taxa Desemprego</th>\n",
       "      <th>Taxa crescimento</th>\n",
       "      <th>Ano</th>\n",
       "    </tr>\n",
       "  </thead>\n",
       "  <tbody>\n",
       "    <tr>\n",
       "      <th>estado1</th>\n",
       "      <td>Santa Catarina</td>\n",
       "      <td>1.5</td>\n",
       "      <td>NaN</td>\n",
       "      <td>2004</td>\n",
       "    </tr>\n",
       "    <tr>\n",
       "      <th>estado2</th>\n",
       "      <td>Rio de Janeiro</td>\n",
       "      <td>1.7</td>\n",
       "      <td>NaN</td>\n",
       "      <td>2005</td>\n",
       "    </tr>\n",
       "    <tr>\n",
       "      <th>estado3</th>\n",
       "      <td>Tocantins</td>\n",
       "      <td>1.6</td>\n",
       "      <td>NaN</td>\n",
       "      <td>2006</td>\n",
       "    </tr>\n",
       "    <tr>\n",
       "      <th>estado4</th>\n",
       "      <td>Bahia</td>\n",
       "      <td>2.4</td>\n",
       "      <td>NaN</td>\n",
       "      <td>2007</td>\n",
       "    </tr>\n",
       "    <tr>\n",
       "      <th>estado5</th>\n",
       "      <td>Minas Gerais</td>\n",
       "      <td>2.7</td>\n",
       "      <td>NaN</td>\n",
       "      <td>2008</td>\n",
       "    </tr>\n",
       "  </tbody>\n",
       "</table>\n",
       "</div>"
      ],
      "text/plain": [
       "                 Estado  Taxa Desemprego Taxa crescimento   Ano\n",
       "estado1  Santa Catarina              1.5              NaN  2004\n",
       "estado2  Rio de Janeiro              1.7              NaN  2005\n",
       "estado3       Tocantins              1.6              NaN  2006\n",
       "estado4           Bahia              2.4              NaN  2007\n",
       "estado5    Minas Gerais              2.7              NaN  2008"
      ]
     },
     "execution_count": 23,
     "metadata": {},
     "output_type": "execute_result"
    }
   ],
   "source": [
    "df2.head()"
   ]
  },
  {
   "cell_type": "code",
   "execution_count": 24,
   "id": "b4e0115b",
   "metadata": {},
   "outputs": [
    {
     "data": {
      "text/plain": [
       "Estado               object\n",
       "Taxa Desemprego     float64\n",
       "Taxa crescimento     object\n",
       "Ano                   int64\n",
       "dtype: object"
      ]
     },
     "execution_count": 24,
     "metadata": {},
     "output_type": "execute_result"
    }
   ],
   "source": [
    "df2.dtypes"
   ]
  },
  {
   "cell_type": "code",
   "execution_count": 25,
   "id": "82ccda1e",
   "metadata": {},
   "outputs": [
    {
     "data": {
      "text/html": [
       "<div>\n",
       "<style scoped>\n",
       "    .dataframe tbody tr th:only-of-type {\n",
       "        vertical-align: middle;\n",
       "    }\n",
       "\n",
       "    .dataframe tbody tr th {\n",
       "        vertical-align: top;\n",
       "    }\n",
       "\n",
       "    .dataframe thead th {\n",
       "        text-align: right;\n",
       "    }\n",
       "</style>\n",
       "<table border=\"1\" class=\"dataframe\">\n",
       "  <thead>\n",
       "    <tr style=\"text-align: right;\">\n",
       "      <th></th>\n",
       "      <th>Taxa Desemprego</th>\n",
       "      <th>Ano</th>\n",
       "    </tr>\n",
       "  </thead>\n",
       "  <tbody>\n",
       "    <tr>\n",
       "      <th>count</th>\n",
       "      <td>5.000000</td>\n",
       "      <td>5.000000</td>\n",
       "    </tr>\n",
       "    <tr>\n",
       "      <th>mean</th>\n",
       "      <td>1.980000</td>\n",
       "      <td>2006.000000</td>\n",
       "    </tr>\n",
       "    <tr>\n",
       "      <th>std</th>\n",
       "      <td>0.535724</td>\n",
       "      <td>1.581139</td>\n",
       "    </tr>\n",
       "    <tr>\n",
       "      <th>min</th>\n",
       "      <td>1.500000</td>\n",
       "      <td>2004.000000</td>\n",
       "    </tr>\n",
       "    <tr>\n",
       "      <th>25%</th>\n",
       "      <td>1.600000</td>\n",
       "      <td>2005.000000</td>\n",
       "    </tr>\n",
       "    <tr>\n",
       "      <th>50%</th>\n",
       "      <td>1.700000</td>\n",
       "      <td>2006.000000</td>\n",
       "    </tr>\n",
       "    <tr>\n",
       "      <th>75%</th>\n",
       "      <td>2.400000</td>\n",
       "      <td>2007.000000</td>\n",
       "    </tr>\n",
       "    <tr>\n",
       "      <th>max</th>\n",
       "      <td>2.700000</td>\n",
       "      <td>2008.000000</td>\n",
       "    </tr>\n",
       "  </tbody>\n",
       "</table>\n",
       "</div>"
      ],
      "text/plain": [
       "       Taxa Desemprego          Ano\n",
       "count         5.000000     5.000000\n",
       "mean          1.980000  2006.000000\n",
       "std           0.535724     1.581139\n",
       "min           1.500000  2004.000000\n",
       "25%           1.600000  2005.000000\n",
       "50%           1.700000  2006.000000\n",
       "75%           2.400000  2007.000000\n",
       "max           2.700000  2008.000000"
      ]
     },
     "execution_count": 25,
     "metadata": {},
     "output_type": "execute_result"
    }
   ],
   "source": [
    "# Resumo estatístico do DataFrame\n",
    "df2.describe()      # Somente calcula categoria de variåvel numérica. Object e outros são ignorados"
   ]
  },
  {
   "cell_type": "code",
   "execution_count": 26,
   "id": "ec6116ab",
   "metadata": {},
   "outputs": [
    {
     "data": {
      "text/html": [
       "<div>\n",
       "<style scoped>\n",
       "    .dataframe tbody tr th:only-of-type {\n",
       "        vertical-align: middle;\n",
       "    }\n",
       "\n",
       "    .dataframe tbody tr th {\n",
       "        vertical-align: top;\n",
       "    }\n",
       "\n",
       "    .dataframe thead th {\n",
       "        text-align: right;\n",
       "    }\n",
       "</style>\n",
       "<table border=\"1\" class=\"dataframe\">\n",
       "  <thead>\n",
       "    <tr style=\"text-align: right;\">\n",
       "      <th></th>\n",
       "      <th>Estado</th>\n",
       "      <th>Taxa Desemprego</th>\n",
       "      <th>Taxa crescimento</th>\n",
       "      <th>Ano</th>\n",
       "    </tr>\n",
       "  </thead>\n",
       "  <tbody>\n",
       "    <tr>\n",
       "      <th>estado1</th>\n",
       "      <td>False</td>\n",
       "      <td>False</td>\n",
       "      <td>True</td>\n",
       "      <td>False</td>\n",
       "    </tr>\n",
       "    <tr>\n",
       "      <th>estado2</th>\n",
       "      <td>False</td>\n",
       "      <td>False</td>\n",
       "      <td>True</td>\n",
       "      <td>False</td>\n",
       "    </tr>\n",
       "    <tr>\n",
       "      <th>estado3</th>\n",
       "      <td>False</td>\n",
       "      <td>False</td>\n",
       "      <td>True</td>\n",
       "      <td>False</td>\n",
       "    </tr>\n",
       "    <tr>\n",
       "      <th>estado4</th>\n",
       "      <td>False</td>\n",
       "      <td>False</td>\n",
       "      <td>True</td>\n",
       "      <td>False</td>\n",
       "    </tr>\n",
       "    <tr>\n",
       "      <th>estado5</th>\n",
       "      <td>False</td>\n",
       "      <td>False</td>\n",
       "      <td>True</td>\n",
       "      <td>False</td>\n",
       "    </tr>\n",
       "  </tbody>\n",
       "</table>\n",
       "</div>"
      ],
      "text/plain": [
       "         Estado  Taxa Desemprego  Taxa crescimento    Ano\n",
       "estado1   False            False              True  False\n",
       "estado2   False            False              True  False\n",
       "estado3   False            False              True  False\n",
       "estado4   False            False              True  False\n",
       "estado5   False            False              True  False"
      ]
     },
     "execution_count": 26,
     "metadata": {},
     "output_type": "execute_result"
    }
   ],
   "source": [
    "df2.isna()  # Retorna se o valor retorna NaN  (=True)"
   ]
  },
  {
   "cell_type": "code",
   "execution_count": 27,
   "id": "c9e387cb",
   "metadata": {},
   "outputs": [
    {
     "data": {
      "text/plain": [
       "estado1    True\n",
       "estado2    True\n",
       "estado3    True\n",
       "estado4    True\n",
       "estado5    True\n",
       "Name: Taxa crescimento, dtype: bool"
      ]
     },
     "execution_count": 27,
     "metadata": {},
     "output_type": "execute_result"
    }
   ],
   "source": [
    "df2['Taxa crescimento'].isna()"
   ]
  },
  {
   "cell_type": "code",
   "execution_count": 28,
   "id": "0fa265f7",
   "metadata": {},
   "outputs": [],
   "source": [
    "# Importar numpy\n",
    "import numpy as np"
   ]
  },
  {
   "cell_type": "code",
   "execution_count": 29,
   "id": "2f99a13c",
   "metadata": {},
   "outputs": [],
   "source": [
    "# Usando o NumPy para alimentar uma das colunas do dataframe\n",
    "df2['Taxa crescimento'] = np.arange(5.)   # vai de .5 em .5"
   ]
  },
  {
   "cell_type": "code",
   "execution_count": 30,
   "id": "7496c542",
   "metadata": {},
   "outputs": [
    {
     "data": {
      "text/html": [
       "<div>\n",
       "<style scoped>\n",
       "    .dataframe tbody tr th:only-of-type {\n",
       "        vertical-align: middle;\n",
       "    }\n",
       "\n",
       "    .dataframe tbody tr th {\n",
       "        vertical-align: top;\n",
       "    }\n",
       "\n",
       "    .dataframe thead th {\n",
       "        text-align: right;\n",
       "    }\n",
       "</style>\n",
       "<table border=\"1\" class=\"dataframe\">\n",
       "  <thead>\n",
       "    <tr style=\"text-align: right;\">\n",
       "      <th></th>\n",
       "      <th>Estado</th>\n",
       "      <th>Taxa Desemprego</th>\n",
       "      <th>Taxa crescimento</th>\n",
       "      <th>Ano</th>\n",
       "    </tr>\n",
       "  </thead>\n",
       "  <tbody>\n",
       "    <tr>\n",
       "      <th>estado1</th>\n",
       "      <td>Santa Catarina</td>\n",
       "      <td>1.5</td>\n",
       "      <td>0.0</td>\n",
       "      <td>2004</td>\n",
       "    </tr>\n",
       "    <tr>\n",
       "      <th>estado2</th>\n",
       "      <td>Rio de Janeiro</td>\n",
       "      <td>1.7</td>\n",
       "      <td>1.0</td>\n",
       "      <td>2005</td>\n",
       "    </tr>\n",
       "    <tr>\n",
       "      <th>estado3</th>\n",
       "      <td>Tocantins</td>\n",
       "      <td>1.6</td>\n",
       "      <td>2.0</td>\n",
       "      <td>2006</td>\n",
       "    </tr>\n",
       "    <tr>\n",
       "      <th>estado4</th>\n",
       "      <td>Bahia</td>\n",
       "      <td>2.4</td>\n",
       "      <td>3.0</td>\n",
       "      <td>2007</td>\n",
       "    </tr>\n",
       "    <tr>\n",
       "      <th>estado5</th>\n",
       "      <td>Minas Gerais</td>\n",
       "      <td>2.7</td>\n",
       "      <td>4.0</td>\n",
       "      <td>2008</td>\n",
       "    </tr>\n",
       "  </tbody>\n",
       "</table>\n",
       "</div>"
      ],
      "text/plain": [
       "                 Estado  Taxa Desemprego  Taxa crescimento   Ano\n",
       "estado1  Santa Catarina              1.5               0.0  2004\n",
       "estado2  Rio de Janeiro              1.7               1.0  2005\n",
       "estado3       Tocantins              1.6               2.0  2006\n",
       "estado4           Bahia              2.4               3.0  2007\n",
       "estado5    Minas Gerais              2.7               4.0  2008"
      ]
     },
     "execution_count": 30,
     "metadata": {},
     "output_type": "execute_result"
    }
   ],
   "source": [
    "df2"
   ]
  },
  {
   "cell_type": "code",
   "execution_count": 31,
   "id": "5535c430",
   "metadata": {},
   "outputs": [
    {
     "data": {
      "text/plain": [
       "estado1    False\n",
       "estado2    False\n",
       "estado3    False\n",
       "estado4    False\n",
       "estado5    False\n",
       "Name: Taxa crescimento, dtype: bool"
      ]
     },
     "execution_count": 31,
     "metadata": {},
     "output_type": "execute_result"
    }
   ],
   "source": [
    "df2['Taxa crescimento'].isna()"
   ]
  },
  {
   "cell_type": "code",
   "execution_count": 32,
   "id": "81bd3825",
   "metadata": {},
   "outputs": [
    {
     "data": {
      "text/plain": [
       "Estado               object\n",
       "Taxa Desemprego     float64\n",
       "Taxa crescimento    float64\n",
       "Ano                   int64\n",
       "dtype: object"
      ]
     },
     "execution_count": 32,
     "metadata": {},
     "output_type": "execute_result"
    }
   ],
   "source": [
    "df2.dtypes"
   ]
  },
  {
   "cell_type": "code",
   "execution_count": 33,
   "id": "7e6dc2a0",
   "metadata": {},
   "outputs": [
    {
     "data": {
      "text/html": [
       "<div>\n",
       "<style scoped>\n",
       "    .dataframe tbody tr th:only-of-type {\n",
       "        vertical-align: middle;\n",
       "    }\n",
       "\n",
       "    .dataframe tbody tr th {\n",
       "        vertical-align: top;\n",
       "    }\n",
       "\n",
       "    .dataframe thead th {\n",
       "        text-align: right;\n",
       "    }\n",
       "</style>\n",
       "<table border=\"1\" class=\"dataframe\">\n",
       "  <thead>\n",
       "    <tr style=\"text-align: right;\">\n",
       "      <th></th>\n",
       "      <th>Taxa Desemprego</th>\n",
       "      <th>Taxa crescimento</th>\n",
       "      <th>Ano</th>\n",
       "    </tr>\n",
       "  </thead>\n",
       "  <tbody>\n",
       "    <tr>\n",
       "      <th>count</th>\n",
       "      <td>5.000000</td>\n",
       "      <td>5.000000</td>\n",
       "      <td>5.000000</td>\n",
       "    </tr>\n",
       "    <tr>\n",
       "      <th>mean</th>\n",
       "      <td>1.980000</td>\n",
       "      <td>2.000000</td>\n",
       "      <td>2006.000000</td>\n",
       "    </tr>\n",
       "    <tr>\n",
       "      <th>std</th>\n",
       "      <td>0.535724</td>\n",
       "      <td>1.581139</td>\n",
       "      <td>1.581139</td>\n",
       "    </tr>\n",
       "    <tr>\n",
       "      <th>min</th>\n",
       "      <td>1.500000</td>\n",
       "      <td>0.000000</td>\n",
       "      <td>2004.000000</td>\n",
       "    </tr>\n",
       "    <tr>\n",
       "      <th>25%</th>\n",
       "      <td>1.600000</td>\n",
       "      <td>1.000000</td>\n",
       "      <td>2005.000000</td>\n",
       "    </tr>\n",
       "    <tr>\n",
       "      <th>50%</th>\n",
       "      <td>1.700000</td>\n",
       "      <td>2.000000</td>\n",
       "      <td>2006.000000</td>\n",
       "    </tr>\n",
       "    <tr>\n",
       "      <th>75%</th>\n",
       "      <td>2.400000</td>\n",
       "      <td>3.000000</td>\n",
       "      <td>2007.000000</td>\n",
       "    </tr>\n",
       "    <tr>\n",
       "      <th>max</th>\n",
       "      <td>2.700000</td>\n",
       "      <td>4.000000</td>\n",
       "      <td>2008.000000</td>\n",
       "    </tr>\n",
       "  </tbody>\n",
       "</table>\n",
       "</div>"
      ],
      "text/plain": [
       "       Taxa Desemprego  Taxa crescimento          Ano\n",
       "count         5.000000          5.000000     5.000000\n",
       "mean          1.980000          2.000000  2006.000000\n",
       "std           0.535724          1.581139     1.581139\n",
       "min           1.500000          0.000000  2004.000000\n",
       "25%           1.600000          1.000000  2005.000000\n",
       "50%           1.700000          2.000000  2006.000000\n",
       "75%           2.400000          3.000000  2007.000000\n",
       "max           2.700000          4.000000  2008.000000"
      ]
     },
     "execution_count": 33,
     "metadata": {},
     "output_type": "execute_result"
    }
   ],
   "source": [
    "# Resumo estatístico\n",
    "df2.describe()  # agora a coluna da taxa crescimento é calculada..."
   ]
  },
  {
   "cell_type": "markdown",
   "id": "9575f0b6",
   "metadata": {},
   "source": [
    "## Slicing de DataFrames no Pandas"
   ]
  },
  {
   "cell_type": "code",
   "execution_count": 34,
   "id": "9e4ecbda",
   "metadata": {},
   "outputs": [
    {
     "data": {
      "text/html": [
       "<div>\n",
       "<style scoped>\n",
       "    .dataframe tbody tr th:only-of-type {\n",
       "        vertical-align: middle;\n",
       "    }\n",
       "\n",
       "    .dataframe tbody tr th {\n",
       "        vertical-align: top;\n",
       "    }\n",
       "\n",
       "    .dataframe thead th {\n",
       "        text-align: right;\n",
       "    }\n",
       "</style>\n",
       "<table border=\"1\" class=\"dataframe\">\n",
       "  <thead>\n",
       "    <tr style=\"text-align: right;\">\n",
       "      <th></th>\n",
       "      <th>Estado</th>\n",
       "      <th>Taxa Desemprego</th>\n",
       "      <th>Taxa crescimento</th>\n",
       "      <th>Ano</th>\n",
       "    </tr>\n",
       "  </thead>\n",
       "  <tbody>\n",
       "    <tr>\n",
       "      <th>estado2</th>\n",
       "      <td>Rio de Janeiro</td>\n",
       "      <td>1.7</td>\n",
       "      <td>1.0</td>\n",
       "      <td>2005</td>\n",
       "    </tr>\n",
       "    <tr>\n",
       "      <th>estado3</th>\n",
       "      <td>Tocantins</td>\n",
       "      <td>1.6</td>\n",
       "      <td>2.0</td>\n",
       "      <td>2006</td>\n",
       "    </tr>\n",
       "    <tr>\n",
       "      <th>estado4</th>\n",
       "      <td>Bahia</td>\n",
       "      <td>2.4</td>\n",
       "      <td>3.0</td>\n",
       "      <td>2007</td>\n",
       "    </tr>\n",
       "  </tbody>\n",
       "</table>\n",
       "</div>"
      ],
      "text/plain": [
       "                 Estado  Taxa Desemprego  Taxa crescimento   Ano\n",
       "estado2  Rio de Janeiro              1.7               1.0  2005\n",
       "estado3       Tocantins              1.6               2.0  2006\n",
       "estado4           Bahia              2.4               3.0  2007"
      ]
     },
     "execution_count": 34,
     "metadata": {},
     "output_type": "execute_result"
    }
   ],
   "source": [
    "df2['estado2':'estado4']   #intervalo com nomes de indices"
   ]
  },
  {
   "cell_type": "code",
   "execution_count": 35,
   "id": "552bc520",
   "metadata": {},
   "outputs": [
    {
     "data": {
      "text/html": [
       "<div>\n",
       "<style scoped>\n",
       "    .dataframe tbody tr th:only-of-type {\n",
       "        vertical-align: middle;\n",
       "    }\n",
       "\n",
       "    .dataframe tbody tr th {\n",
       "        vertical-align: top;\n",
       "    }\n",
       "\n",
       "    .dataframe thead th {\n",
       "        text-align: right;\n",
       "    }\n",
       "</style>\n",
       "<table border=\"1\" class=\"dataframe\">\n",
       "  <thead>\n",
       "    <tr style=\"text-align: right;\">\n",
       "      <th></th>\n",
       "      <th>Estado</th>\n",
       "      <th>Taxa Desemprego</th>\n",
       "      <th>Taxa crescimento</th>\n",
       "      <th>Ano</th>\n",
       "    </tr>\n",
       "  </thead>\n",
       "  <tbody>\n",
       "    <tr>\n",
       "      <th>estado1</th>\n",
       "      <td>Santa Catarina</td>\n",
       "      <td>1.5</td>\n",
       "      <td>0.0</td>\n",
       "      <td>2004</td>\n",
       "    </tr>\n",
       "    <tr>\n",
       "      <th>estado2</th>\n",
       "      <td>Rio de Janeiro</td>\n",
       "      <td>1.7</td>\n",
       "      <td>1.0</td>\n",
       "      <td>2005</td>\n",
       "    </tr>\n",
       "    <tr>\n",
       "      <th>estado3</th>\n",
       "      <td>Tocantins</td>\n",
       "      <td>1.6</td>\n",
       "      <td>2.0</td>\n",
       "      <td>2006</td>\n",
       "    </tr>\n",
       "  </tbody>\n",
       "</table>\n",
       "</div>"
      ],
      "text/plain": [
       "                 Estado  Taxa Desemprego  Taxa crescimento   Ano\n",
       "estado1  Santa Catarina              1.5               0.0  2004\n",
       "estado2  Rio de Janeiro              1.7               1.0  2005\n",
       "estado3       Tocantins              1.6               2.0  2006"
      ]
     },
     "execution_count": 35,
     "metadata": {},
     "output_type": "execute_result"
    }
   ],
   "source": [
    "df2[df2['Taxa Desemprego'] < 2]  # where - listar somente o que satisfizer a cláusula. [] -> fatiar  o DataFrame"
   ]
  },
  {
   "cell_type": "code",
   "execution_count": 36,
   "id": "90213fdd",
   "metadata": {},
   "outputs": [
    {
     "data": {
      "text/html": [
       "<div>\n",
       "<style scoped>\n",
       "    .dataframe tbody tr th:only-of-type {\n",
       "        vertical-align: middle;\n",
       "    }\n",
       "\n",
       "    .dataframe tbody tr th {\n",
       "        vertical-align: top;\n",
       "    }\n",
       "\n",
       "    .dataframe thead th {\n",
       "        text-align: right;\n",
       "    }\n",
       "</style>\n",
       "<table border=\"1\" class=\"dataframe\">\n",
       "  <thead>\n",
       "    <tr style=\"text-align: right;\">\n",
       "      <th></th>\n",
       "      <th>Estado</th>\n",
       "      <th>Taxa crescimento</th>\n",
       "    </tr>\n",
       "  </thead>\n",
       "  <tbody>\n",
       "    <tr>\n",
       "      <th>estado1</th>\n",
       "      <td>Santa Catarina</td>\n",
       "      <td>0.0</td>\n",
       "    </tr>\n",
       "    <tr>\n",
       "      <th>estado2</th>\n",
       "      <td>Rio de Janeiro</td>\n",
       "      <td>1.0</td>\n",
       "    </tr>\n",
       "    <tr>\n",
       "      <th>estado3</th>\n",
       "      <td>Tocantins</td>\n",
       "      <td>2.0</td>\n",
       "    </tr>\n",
       "    <tr>\n",
       "      <th>estado4</th>\n",
       "      <td>Bahia</td>\n",
       "      <td>3.0</td>\n",
       "    </tr>\n",
       "    <tr>\n",
       "      <th>estado5</th>\n",
       "      <td>Minas Gerais</td>\n",
       "      <td>4.0</td>\n",
       "    </tr>\n",
       "  </tbody>\n",
       "</table>\n",
       "</div>"
      ],
      "text/plain": [
       "                 Estado  Taxa crescimento\n",
       "estado1  Santa Catarina               0.0\n",
       "estado2  Rio de Janeiro               1.0\n",
       "estado3       Tocantins               2.0\n",
       "estado4           Bahia               3.0\n",
       "estado5    Minas Gerais               4.0"
      ]
     },
     "execution_count": 36,
     "metadata": {},
     "output_type": "execute_result"
    }
   ],
   "source": [
    "df2[['Estado', 'Taxa crescimento']]  # slice de 2 colunas apenas."
   ]
  },
  {
   "cell_type": "code",
   "execution_count": 37,
   "id": "2b226f7d",
   "metadata": {},
   "outputs": [
    {
     "data": {
      "text/html": [
       "<div>\n",
       "<style scoped>\n",
       "    .dataframe tbody tr th:only-of-type {\n",
       "        vertical-align: middle;\n",
       "    }\n",
       "\n",
       "    .dataframe tbody tr th {\n",
       "        vertical-align: top;\n",
       "    }\n",
       "\n",
       "    .dataframe thead th {\n",
       "        text-align: right;\n",
       "    }\n",
       "</style>\n",
       "<table border=\"1\" class=\"dataframe\">\n",
       "  <thead>\n",
       "    <tr style=\"text-align: right;\">\n",
       "      <th></th>\n",
       "      <th>Estado</th>\n",
       "    </tr>\n",
       "  </thead>\n",
       "  <tbody>\n",
       "    <tr>\n",
       "      <th>estado1</th>\n",
       "      <td>Santa Catarina</td>\n",
       "    </tr>\n",
       "    <tr>\n",
       "      <th>estado2</th>\n",
       "      <td>Rio de Janeiro</td>\n",
       "    </tr>\n",
       "    <tr>\n",
       "      <th>estado3</th>\n",
       "      <td>Tocantins</td>\n",
       "    </tr>\n",
       "    <tr>\n",
       "      <th>estado4</th>\n",
       "      <td>Bahia</td>\n",
       "    </tr>\n",
       "    <tr>\n",
       "      <th>estado5</th>\n",
       "      <td>Minas Gerais</td>\n",
       "    </tr>\n",
       "  </tbody>\n",
       "</table>\n",
       "</div>"
      ],
      "text/plain": [
       "                 Estado\n",
       "estado1  Santa Catarina\n",
       "estado2  Rio de Janeiro\n",
       "estado3       Tocantins\n",
       "estado4           Bahia\n",
       "estado5    Minas Gerais"
      ]
     },
     "execution_count": 37,
     "metadata": {},
     "output_type": "execute_result"
    }
   ],
   "source": [
    "df2[['Estado']]  # somente 1 coluna, precisa colocar entre [] para fazer o slicing"
   ]
  },
  {
   "cell_type": "markdown",
   "id": "e3814ebb",
   "metadata": {},
   "source": [
    "## Preenchendo valores ausentes em DataFrames do Pandas"
   ]
  },
  {
   "cell_type": "code",
   "execution_count": 38,
   "id": "9dd55778",
   "metadata": {},
   "outputs": [],
   "source": [
    "# Importar um dataset\n",
    "dsa_df = pd.read_csv(\"dataset.csv\")"
   ]
  },
  {
   "cell_type": "code",
   "execution_count": 39,
   "id": "1ff6c27c",
   "metadata": {},
   "outputs": [
    {
     "data": {
      "text/html": [
       "<div>\n",
       "<style scoped>\n",
       "    .dataframe tbody tr th:only-of-type {\n",
       "        vertical-align: middle;\n",
       "    }\n",
       "\n",
       "    .dataframe tbody tr th {\n",
       "        vertical-align: top;\n",
       "    }\n",
       "\n",
       "    .dataframe thead th {\n",
       "        text-align: right;\n",
       "    }\n",
       "</style>\n",
       "<table border=\"1\" class=\"dataframe\">\n",
       "  <thead>\n",
       "    <tr style=\"text-align: right;\">\n",
       "      <th></th>\n",
       "      <th>Index</th>\n",
       "      <th>Organization Id</th>\n",
       "      <th>Name</th>\n",
       "      <th>Website</th>\n",
       "      <th>Country</th>\n",
       "      <th>Description</th>\n",
       "      <th>Founded</th>\n",
       "      <th>Industry</th>\n",
       "      <th>Number of employees</th>\n",
       "    </tr>\n",
       "  </thead>\n",
       "  <tbody>\n",
       "    <tr>\n",
       "      <th>0</th>\n",
       "      <td>1</td>\n",
       "      <td>FAB0d41d5b5d22c</td>\n",
       "      <td>Ferrell LLC</td>\n",
       "      <td>https://price.net/</td>\n",
       "      <td>Papua New Guinea</td>\n",
       "      <td>Horizontal empowering knowledgebase</td>\n",
       "      <td>1990</td>\n",
       "      <td>Plastics</td>\n",
       "      <td>3498.0</td>\n",
       "    </tr>\n",
       "    <tr>\n",
       "      <th>1</th>\n",
       "      <td>2</td>\n",
       "      <td>6A7EdDEA9FaDC52</td>\n",
       "      <td>Mckinney, Riley and Day</td>\n",
       "      <td>http://www.hall-buchanan.info/</td>\n",
       "      <td>Finland</td>\n",
       "      <td>User-centric system-worthy leverage</td>\n",
       "      <td>2015</td>\n",
       "      <td>Glass / Ceramics / Concrete</td>\n",
       "      <td>4952.0</td>\n",
       "    </tr>\n",
       "    <tr>\n",
       "      <th>2</th>\n",
       "      <td>3</td>\n",
       "      <td>0bFED1ADAE4bcC1</td>\n",
       "      <td>Hester Ltd</td>\n",
       "      <td>http://sullivan-reed.com/</td>\n",
       "      <td>China</td>\n",
       "      <td>Switchable scalable moratorium</td>\n",
       "      <td>1971</td>\n",
       "      <td>Public Safety</td>\n",
       "      <td>NaN</td>\n",
       "    </tr>\n",
       "    <tr>\n",
       "      <th>3</th>\n",
       "      <td>4</td>\n",
       "      <td>2bFC1Be8a4ce42f</td>\n",
       "      <td>Holder-Sellers</td>\n",
       "      <td>https://becker.com/</td>\n",
       "      <td>Turkmenistan</td>\n",
       "      <td>De-engineered systemic artificial intelligence</td>\n",
       "      <td>2004</td>\n",
       "      <td>Automotive</td>\n",
       "      <td>NaN</td>\n",
       "    </tr>\n",
       "    <tr>\n",
       "      <th>4</th>\n",
       "      <td>5</td>\n",
       "      <td>9eE8A6a4Eb96C24</td>\n",
       "      <td>Mayer Group</td>\n",
       "      <td>http://www.brewer.com/</td>\n",
       "      <td>Mauritius</td>\n",
       "      <td>Synchronized needs-based challenge</td>\n",
       "      <td>1991</td>\n",
       "      <td>Transportation</td>\n",
       "      <td>NaN</td>\n",
       "    </tr>\n",
       "  </tbody>\n",
       "</table>\n",
       "</div>"
      ],
      "text/plain": [
       "   Index  Organization Id                     Name  \\\n",
       "0      1  FAB0d41d5b5d22c              Ferrell LLC   \n",
       "1      2  6A7EdDEA9FaDC52  Mckinney, Riley and Day   \n",
       "2      3  0bFED1ADAE4bcC1               Hester Ltd   \n",
       "3      4  2bFC1Be8a4ce42f           Holder-Sellers   \n",
       "4      5  9eE8A6a4Eb96C24              Mayer Group   \n",
       "\n",
       "                          Website           Country  \\\n",
       "0              https://price.net/  Papua New Guinea   \n",
       "1  http://www.hall-buchanan.info/           Finland   \n",
       "2       http://sullivan-reed.com/             China   \n",
       "3             https://becker.com/      Turkmenistan   \n",
       "4          http://www.brewer.com/         Mauritius   \n",
       "\n",
       "                                      Description  Founded  \\\n",
       "0             Horizontal empowering knowledgebase     1990   \n",
       "1             User-centric system-worthy leverage     2015   \n",
       "2                  Switchable scalable moratorium     1971   \n",
       "3  De-engineered systemic artificial intelligence     2004   \n",
       "4              Synchronized needs-based challenge     1991   \n",
       "\n",
       "                      Industry  Number of employees  \n",
       "0                     Plastics               3498.0  \n",
       "1  Glass / Ceramics / Concrete               4952.0  \n",
       "2                Public Safety                  NaN  \n",
       "3                   Automotive                  NaN  \n",
       "4               Transportation                  NaN  "
      ]
     },
     "execution_count": 39,
     "metadata": {},
     "output_type": "execute_result"
    }
   ],
   "source": [
    "dsa_df.head(5)  # 5 é o n. padrão, não precisa colocar!"
   ]
  },
  {
   "cell_type": "code",
   "execution_count": 40,
   "id": "b0f48b7b",
   "metadata": {},
   "outputs": [
    {
     "data": {
      "text/plain": [
       "Index                  0\n",
       "Organization Id        0\n",
       "Name                   0\n",
       "Website                0\n",
       "Country                0\n",
       "Description            0\n",
       "Founded                0\n",
       "Industry               0\n",
       "Number of employees    4\n",
       "dtype: int64"
      ]
     },
     "execution_count": 40,
     "metadata": {},
     "output_type": "execute_result"
    }
   ],
   "source": [
    "dsa_df.isna().sum()"
   ]
  },
  {
   "cell_type": "code",
   "execution_count": 41,
   "id": "6994c2da",
   "metadata": {},
   "outputs": [],
   "source": [
    "# Extraímos a moda da coluna Quantity\n",
    "moda = dsa_df['Number of employees'].value_counts().index[0]"
   ]
  },
  {
   "cell_type": "code",
   "execution_count": 42,
   "id": "7d0e5c8d",
   "metadata": {},
   "outputs": [
    {
     "name": "stdout",
     "output_type": "stream",
     "text": [
      "3498.0\n"
     ]
    }
   ],
   "source": [
    "print(moda)"
   ]
  },
  {
   "cell_type": "code",
   "execution_count": 43,
   "id": "68b5efb3",
   "metadata": {},
   "outputs": [],
   "source": [
    "# Preencher os valores NA com a moda\n",
    "dsa_df['Number of employees'].fillna(value = moda, inplace = True)   #interpolação, usando a moda. \n",
    "# inplace = True -> salva no próprio dataframe. Se não for usado, salva em uma cópia"
   ]
  },
  {
   "cell_type": "code",
   "execution_count": 44,
   "id": "4e59471d",
   "metadata": {},
   "outputs": [
    {
     "data": {
      "text/plain": [
       "Index                  0\n",
       "Organization Id        0\n",
       "Name                   0\n",
       "Website                0\n",
       "Country                0\n",
       "Description            0\n",
       "Founded                0\n",
       "Industry               0\n",
       "Number of employees    0\n",
       "dtype: int64"
      ]
     },
     "execution_count": 44,
     "metadata": {},
     "output_type": "execute_result"
    }
   ],
   "source": [
    "dsa_df.isna().sum()"
   ]
  },
  {
   "cell_type": "markdown",
   "id": "859893df",
   "metadata": {},
   "source": [
    "## Query de Dados no DataFrame do Pandas"
   ]
  },
  {
   "cell_type": "code",
   "execution_count": 45,
   "id": "9544c287",
   "metadata": {},
   "outputs": [
    {
     "data": {
      "text/html": [
       "<div>\n",
       "<style scoped>\n",
       "    .dataframe tbody tr th:only-of-type {\n",
       "        vertical-align: middle;\n",
       "    }\n",
       "\n",
       "    .dataframe tbody tr th {\n",
       "        vertical-align: top;\n",
       "    }\n",
       "\n",
       "    .dataframe thead th {\n",
       "        text-align: right;\n",
       "    }\n",
       "</style>\n",
       "<table border=\"1\" class=\"dataframe\">\n",
       "  <thead>\n",
       "    <tr style=\"text-align: right;\">\n",
       "      <th></th>\n",
       "      <th>Index</th>\n",
       "      <th>Organization Id</th>\n",
       "      <th>Name</th>\n",
       "      <th>Website</th>\n",
       "      <th>Country</th>\n",
       "      <th>Description</th>\n",
       "      <th>Founded</th>\n",
       "      <th>Industry</th>\n",
       "      <th>Number of employees</th>\n",
       "    </tr>\n",
       "  </thead>\n",
       "  <tbody>\n",
       "    <tr>\n",
       "      <th>0</th>\n",
       "      <td>1</td>\n",
       "      <td>FAB0d41d5b5d22c</td>\n",
       "      <td>Ferrell LLC</td>\n",
       "      <td>https://price.net/</td>\n",
       "      <td>Papua New Guinea</td>\n",
       "      <td>Horizontal empowering knowledgebase</td>\n",
       "      <td>1990</td>\n",
       "      <td>Plastics</td>\n",
       "      <td>3498.0</td>\n",
       "    </tr>\n",
       "    <tr>\n",
       "      <th>1</th>\n",
       "      <td>2</td>\n",
       "      <td>6A7EdDEA9FaDC52</td>\n",
       "      <td>Mckinney, Riley and Day</td>\n",
       "      <td>http://www.hall-buchanan.info/</td>\n",
       "      <td>Finland</td>\n",
       "      <td>User-centric system-worthy leverage</td>\n",
       "      <td>2015</td>\n",
       "      <td>Glass / Ceramics / Concrete</td>\n",
       "      <td>4952.0</td>\n",
       "    </tr>\n",
       "    <tr>\n",
       "      <th>2</th>\n",
       "      <td>3</td>\n",
       "      <td>0bFED1ADAE4bcC1</td>\n",
       "      <td>Hester Ltd</td>\n",
       "      <td>http://sullivan-reed.com/</td>\n",
       "      <td>China</td>\n",
       "      <td>Switchable scalable moratorium</td>\n",
       "      <td>1971</td>\n",
       "      <td>Public Safety</td>\n",
       "      <td>3498.0</td>\n",
       "    </tr>\n",
       "    <tr>\n",
       "      <th>3</th>\n",
       "      <td>4</td>\n",
       "      <td>2bFC1Be8a4ce42f</td>\n",
       "      <td>Holder-Sellers</td>\n",
       "      <td>https://becker.com/</td>\n",
       "      <td>Turkmenistan</td>\n",
       "      <td>De-engineered systemic artificial intelligence</td>\n",
       "      <td>2004</td>\n",
       "      <td>Automotive</td>\n",
       "      <td>3498.0</td>\n",
       "    </tr>\n",
       "    <tr>\n",
       "      <th>4</th>\n",
       "      <td>5</td>\n",
       "      <td>9eE8A6a4Eb96C24</td>\n",
       "      <td>Mayer Group</td>\n",
       "      <td>http://www.brewer.com/</td>\n",
       "      <td>Mauritius</td>\n",
       "      <td>Synchronized needs-based challenge</td>\n",
       "      <td>1991</td>\n",
       "      <td>Transportation</td>\n",
       "      <td>3498.0</td>\n",
       "    </tr>\n",
       "  </tbody>\n",
       "</table>\n",
       "</div>"
      ],
      "text/plain": [
       "   Index  Organization Id                     Name  \\\n",
       "0      1  FAB0d41d5b5d22c              Ferrell LLC   \n",
       "1      2  6A7EdDEA9FaDC52  Mckinney, Riley and Day   \n",
       "2      3  0bFED1ADAE4bcC1               Hester Ltd   \n",
       "3      4  2bFC1Be8a4ce42f           Holder-Sellers   \n",
       "4      5  9eE8A6a4Eb96C24              Mayer Group   \n",
       "\n",
       "                          Website           Country  \\\n",
       "0              https://price.net/  Papua New Guinea   \n",
       "1  http://www.hall-buchanan.info/           Finland   \n",
       "2       http://sullivan-reed.com/             China   \n",
       "3             https://becker.com/      Turkmenistan   \n",
       "4          http://www.brewer.com/         Mauritius   \n",
       "\n",
       "                                      Description  Founded  \\\n",
       "0             Horizontal empowering knowledgebase     1990   \n",
       "1             User-centric system-worthy leverage     2015   \n",
       "2                  Switchable scalable moratorium     1971   \n",
       "3  De-engineered systemic artificial intelligence     2004   \n",
       "4              Synchronized needs-based challenge     1991   \n",
       "\n",
       "                      Industry  Number of employees  \n",
       "0                     Plastics               3498.0  \n",
       "1  Glass / Ceramics / Concrete               4952.0  \n",
       "2                Public Safety               3498.0  \n",
       "3                   Automotive               3498.0  \n",
       "4               Transportation               3498.0  "
      ]
     },
     "execution_count": 45,
     "metadata": {},
     "output_type": "execute_result"
    }
   ],
   "source": [
    "dsa_df.head()"
   ]
  },
  {
   "cell_type": "code",
   "execution_count": 46,
   "id": "1c5bd41a",
   "metadata": {},
   "outputs": [
    {
     "data": {
      "text/plain": [
       "count     100.000000\n",
       "mean     4914.860000\n",
       "std      2821.401736\n",
       "min       236.000000\n",
       "25%      2842.750000\n",
       "50%      4731.000000\n",
       "75%      7495.250000\n",
       "max      9995.000000\n",
       "Name: Number of employees, dtype: float64"
      ]
     },
     "execution_count": 46,
     "metadata": {},
     "output_type": "execute_result"
    }
   ],
   "source": [
    "# Checando valores máximos e mínimos  da coluna Number of employees\n",
    "dsa_df['Number of employees'].describe()"
   ]
  },
  {
   "cell_type": "code",
   "execution_count": 47,
   "id": "edd85e9e",
   "metadata": {},
   "outputs": [],
   "source": [
    "# Novo dataframe apenas com o intervalo entre 4914 e 7495\n",
    "df2 = dsa_df.query('4914 < `Number of employees` < 7495')"
   ]
  },
  {
   "cell_type": "code",
   "execution_count": 48,
   "id": "0a265bbc",
   "metadata": {},
   "outputs": [
    {
     "data": {
      "text/plain": [
       "count      24.000000\n",
       "mean     6184.708333\n",
       "std       935.118848\n",
       "min      4941.000000\n",
       "25%      5107.000000\n",
       "50%      6157.000000\n",
       "75%      7012.250000\n",
       "max      7484.000000\n",
       "Name: Number of employees, dtype: float64"
      ]
     },
     "execution_count": 48,
     "metadata": {},
     "output_type": "execute_result"
    }
   ],
   "source": [
    "df2['Number of employees'].describe()"
   ]
  },
  {
   "cell_type": "code",
   "execution_count": 49,
   "id": "0dfc3e34",
   "metadata": {},
   "outputs": [],
   "source": [
    "# Novo dataframe apenas com valores acima da média\n",
    "df3 = df2.query('`Number of employees` > 6184')"
   ]
  },
  {
   "cell_type": "code",
   "execution_count": 50,
   "id": "73c25b6a",
   "metadata": {},
   "outputs": [
    {
     "data": {
      "text/html": [
       "<div>\n",
       "<style scoped>\n",
       "    .dataframe tbody tr th:only-of-type {\n",
       "        vertical-align: middle;\n",
       "    }\n",
       "\n",
       "    .dataframe tbody tr th {\n",
       "        vertical-align: top;\n",
       "    }\n",
       "\n",
       "    .dataframe thead th {\n",
       "        text-align: right;\n",
       "    }\n",
       "</style>\n",
       "<table border=\"1\" class=\"dataframe\">\n",
       "  <thead>\n",
       "    <tr style=\"text-align: right;\">\n",
       "      <th></th>\n",
       "      <th>Index</th>\n",
       "      <th>Organization Id</th>\n",
       "      <th>Name</th>\n",
       "      <th>Website</th>\n",
       "      <th>Country</th>\n",
       "      <th>Description</th>\n",
       "      <th>Founded</th>\n",
       "      <th>Industry</th>\n",
       "      <th>Number of employees</th>\n",
       "    </tr>\n",
       "  </thead>\n",
       "  <tbody>\n",
       "    <tr>\n",
       "      <th>10</th>\n",
       "      <td>11</td>\n",
       "      <td>AE61b8Ffebbc476</td>\n",
       "      <td>Kidd Group</td>\n",
       "      <td>http://www.lyons.com/</td>\n",
       "      <td>Bouvet Island (Bouvetoya)</td>\n",
       "      <td>Proactive foreground paradigm</td>\n",
       "      <td>2001</td>\n",
       "      <td>Primary / Secondary Education</td>\n",
       "      <td>7473.0</td>\n",
       "    </tr>\n",
       "    <tr>\n",
       "      <th>16</th>\n",
       "      <td>17</td>\n",
       "      <td>68139b5C4De03B4</td>\n",
       "      <td>Bowers, Guerra and Krause</td>\n",
       "      <td>http://www.carrillo-nicholson.com/</td>\n",
       "      <td>Uganda</td>\n",
       "      <td>De-engineered transitional strategy</td>\n",
       "      <td>1972</td>\n",
       "      <td>Primary / Secondary Education</td>\n",
       "      <td>6986.0</td>\n",
       "    </tr>\n",
       "    <tr>\n",
       "      <th>33</th>\n",
       "      <td>34</td>\n",
       "      <td>5Cd7efccCcba38f</td>\n",
       "      <td>Burch-Ewing</td>\n",
       "      <td>http://cline.net/</td>\n",
       "      <td>Taiwan</td>\n",
       "      <td>User-centric 4thgeneration system engine</td>\n",
       "      <td>1981</td>\n",
       "      <td>Venture Capital / VC</td>\n",
       "      <td>7443.0</td>\n",
       "    </tr>\n",
       "    <tr>\n",
       "      <th>44</th>\n",
       "      <td>45</td>\n",
       "      <td>235fdEFE2cfDa5F</td>\n",
       "      <td>Brock-Blackwell</td>\n",
       "      <td>http://www.small.com/</td>\n",
       "      <td>Benin</td>\n",
       "      <td>Secured foreground emulation</td>\n",
       "      <td>1986</td>\n",
       "      <td>Online Publishing</td>\n",
       "      <td>7034.0</td>\n",
       "    </tr>\n",
       "    <tr>\n",
       "      <th>56</th>\n",
       "      <td>57</td>\n",
       "      <td>2a74D6f3D3B268e</td>\n",
       "      <td>Cherry, Le and Callahan</td>\n",
       "      <td>https://waller-delacruz.biz/</td>\n",
       "      <td>Nigeria</td>\n",
       "      <td>Universal human-resource collaboration</td>\n",
       "      <td>2017</td>\n",
       "      <td>Entertainment / Movie Production</td>\n",
       "      <td>7202.0</td>\n",
       "    </tr>\n",
       "  </tbody>\n",
       "</table>\n",
       "</div>"
      ],
      "text/plain": [
       "    Index  Organization Id                       Name  \\\n",
       "10     11  AE61b8Ffebbc476                 Kidd Group   \n",
       "16     17  68139b5C4De03B4  Bowers, Guerra and Krause   \n",
       "33     34  5Cd7efccCcba38f                Burch-Ewing   \n",
       "44     45  235fdEFE2cfDa5F            Brock-Blackwell   \n",
       "56     57  2a74D6f3D3B268e    Cherry, Le and Callahan   \n",
       "\n",
       "                               Website                    Country  \\\n",
       "10               http://www.lyons.com/  Bouvet Island (Bouvetoya)   \n",
       "16  http://www.carrillo-nicholson.com/                     Uganda   \n",
       "33                   http://cline.net/                     Taiwan   \n",
       "44               http://www.small.com/                      Benin   \n",
       "56        https://waller-delacruz.biz/                    Nigeria   \n",
       "\n",
       "                                 Description  Founded  \\\n",
       "10             Proactive foreground paradigm     2001   \n",
       "16       De-engineered transitional strategy     1972   \n",
       "33  User-centric 4thgeneration system engine     1981   \n",
       "44              Secured foreground emulation     1986   \n",
       "56    Universal human-resource collaboration     2017   \n",
       "\n",
       "                            Industry  Number of employees  \n",
       "10     Primary / Secondary Education               7473.0  \n",
       "16     Primary / Secondary Education               6986.0  \n",
       "33              Venture Capital / VC               7443.0  \n",
       "44                 Online Publishing               7034.0  \n",
       "56  Entertainment / Movie Production               7202.0  "
      ]
     },
     "execution_count": 50,
     "metadata": {},
     "output_type": "execute_result"
    }
   ],
   "source": [
    "df3.head()"
   ]
  },
  {
   "cell_type": "markdown",
   "id": "d0ae635f",
   "metadata": {},
   "source": [
    "## Verificando a ocorrência de diversos valores em uma coluna"
   ]
  },
  {
   "cell_type": "code",
   "execution_count": 51,
   "id": "1f1f17e4",
   "metadata": {},
   "outputs": [
    {
     "data": {
      "text/plain": [
       "(100, 9)"
      ]
     },
     "execution_count": 51,
     "metadata": {},
     "output_type": "execute_result"
    }
   ],
   "source": [
    "dsa_df.shape  # n. de linhas, n. de colunas"
   ]
  },
  {
   "cell_type": "code",
   "execution_count": 52,
   "id": "0b99eb08",
   "metadata": {},
   "outputs": [
    {
     "data": {
      "text/html": [
       "<div>\n",
       "<style scoped>\n",
       "    .dataframe tbody tr th:only-of-type {\n",
       "        vertical-align: middle;\n",
       "    }\n",
       "\n",
       "    .dataframe tbody tr th {\n",
       "        vertical-align: top;\n",
       "    }\n",
       "\n",
       "    .dataframe thead th {\n",
       "        text-align: right;\n",
       "    }\n",
       "</style>\n",
       "<table border=\"1\" class=\"dataframe\">\n",
       "  <thead>\n",
       "    <tr style=\"text-align: right;\">\n",
       "      <th></th>\n",
       "      <th>Index</th>\n",
       "      <th>Organization Id</th>\n",
       "      <th>Name</th>\n",
       "      <th>Website</th>\n",
       "      <th>Country</th>\n",
       "      <th>Description</th>\n",
       "      <th>Founded</th>\n",
       "      <th>Industry</th>\n",
       "      <th>Number of employees</th>\n",
       "    </tr>\n",
       "  </thead>\n",
       "  <tbody>\n",
       "    <tr>\n",
       "      <th>10</th>\n",
       "      <td>11</td>\n",
       "      <td>AE61b8Ffebbc476</td>\n",
       "      <td>Kidd Group</td>\n",
       "      <td>http://www.lyons.com/</td>\n",
       "      <td>Bouvet Island (Bouvetoya)</td>\n",
       "      <td>Proactive foreground paradigm</td>\n",
       "      <td>2001</td>\n",
       "      <td>Primary / Secondary Education</td>\n",
       "      <td>7473.0</td>\n",
       "    </tr>\n",
       "    <tr>\n",
       "      <th>33</th>\n",
       "      <td>34</td>\n",
       "      <td>5Cd7efccCcba38f</td>\n",
       "      <td>Burch-Ewing</td>\n",
       "      <td>http://cline.net/</td>\n",
       "      <td>Taiwan</td>\n",
       "      <td>User-centric 4thgeneration system engine</td>\n",
       "      <td>1981</td>\n",
       "      <td>Venture Capital / VC</td>\n",
       "      <td>7443.0</td>\n",
       "    </tr>\n",
       "  </tbody>\n",
       "</table>\n",
       "</div>"
      ],
      "text/plain": [
       "    Index  Organization Id         Name                Website  \\\n",
       "10     11  AE61b8Ffebbc476   Kidd Group  http://www.lyons.com/   \n",
       "33     34  5Cd7efccCcba38f  Burch-Ewing      http://cline.net/   \n",
       "\n",
       "                      Country                               Description  \\\n",
       "10  Bouvet Island (Bouvetoya)             Proactive foreground paradigm   \n",
       "33                     Taiwan  User-centric 4thgeneration system engine   \n",
       "\n",
       "    Founded                       Industry  Number of employees  \n",
       "10     2001  Primary / Secondary Education               7473.0  \n",
       "33     1981           Venture Capital / VC               7443.0  "
      ]
     },
     "execution_count": 52,
     "metadata": {},
     "output_type": "execute_result"
    }
   ],
   "source": [
    "#Filtro isin(), verificar por valores específicos\n",
    "dsa_df[dsa_df['Number of employees'].isin([7473,7443])]"
   ]
  },
  {
   "cell_type": "code",
   "execution_count": 53,
   "id": "0332dd19",
   "metadata": {},
   "outputs": [
    {
     "data": {
      "text/plain": [
       "(2, 9)"
      ]
     },
     "execution_count": 53,
     "metadata": {},
     "output_type": "execute_result"
    }
   ],
   "source": [
    "# Shape do filtro - mostra o resultado do fatiamento\n",
    "dsa_df[dsa_df['Number of employees'].isin([7473,7443])].shape\n"
   ]
  },
  {
   "cell_type": "code",
   "execution_count": 55,
   "id": "3b5d8b1b",
   "metadata": {},
   "outputs": [
    {
     "data": {
      "text/html": [
       "<div>\n",
       "<style scoped>\n",
       "    .dataframe tbody tr th:only-of-type {\n",
       "        vertical-align: middle;\n",
       "    }\n",
       "\n",
       "    .dataframe tbody tr th {\n",
       "        vertical-align: top;\n",
       "    }\n",
       "\n",
       "    .dataframe thead th {\n",
       "        text-align: right;\n",
       "    }\n",
       "</style>\n",
       "<table border=\"1\" class=\"dataframe\">\n",
       "  <thead>\n",
       "    <tr style=\"text-align: right;\">\n",
       "      <th></th>\n",
       "      <th>Index</th>\n",
       "      <th>Organization Id</th>\n",
       "      <th>Name</th>\n",
       "      <th>Website</th>\n",
       "      <th>Country</th>\n",
       "      <th>Description</th>\n",
       "      <th>Founded</th>\n",
       "      <th>Industry</th>\n",
       "      <th>Number of employees</th>\n",
       "    </tr>\n",
       "  </thead>\n",
       "  <tbody>\n",
       "    <tr>\n",
       "      <th>10</th>\n",
       "      <td>11</td>\n",
       "      <td>AE61b8Ffebbc476</td>\n",
       "      <td>Kidd Group</td>\n",
       "      <td>http://www.lyons.com/</td>\n",
       "      <td>Bouvet Island (Bouvetoya)</td>\n",
       "      <td>Proactive foreground paradigm</td>\n",
       "      <td>2001</td>\n",
       "      <td>Primary / Secondary Education</td>\n",
       "      <td>7473.0</td>\n",
       "    </tr>\n",
       "  </tbody>\n",
       "</table>\n",
       "</div>"
      ],
      "text/plain": [
       "    Index  Organization Id        Name                Website  \\\n",
       "10     11  AE61b8Ffebbc476  Kidd Group  http://www.lyons.com/   \n",
       "\n",
       "                      Country                    Description  Founded  \\\n",
       "10  Bouvet Island (Bouvetoya)  Proactive foreground paradigm     2001   \n",
       "\n",
       "                         Industry  Number of employees  \n",
       "10  Primary / Secondary Education               7473.0  "
      ]
     },
     "execution_count": 55,
     "metadata": {},
     "output_type": "execute_result"
    }
   ],
   "source": [
    "#Filtra e exibe apenas a primeira linha\n",
    "dsa_df[dsa_df['Number of employees'].isin([7473,7443])][:1]"
   ]
  },
  {
   "cell_type": "markdown",
   "id": "dea166f0",
   "metadata": {},
   "source": [
    "## Operadores Lógicos para manipulação de dados com Pandas"
   ]
  },
  {
   "cell_type": "code",
   "execution_count": 56,
   "id": "960add99",
   "metadata": {},
   "outputs": [
    {
     "data": {
      "text/html": [
       "<div>\n",
       "<style scoped>\n",
       "    .dataframe tbody tr th:only-of-type {\n",
       "        vertical-align: middle;\n",
       "    }\n",
       "\n",
       "    .dataframe tbody tr th {\n",
       "        vertical-align: top;\n",
       "    }\n",
       "\n",
       "    .dataframe thead th {\n",
       "        text-align: right;\n",
       "    }\n",
       "</style>\n",
       "<table border=\"1\" class=\"dataframe\">\n",
       "  <thead>\n",
       "    <tr style=\"text-align: right;\">\n",
       "      <th></th>\n",
       "      <th>Index</th>\n",
       "      <th>Organization Id</th>\n",
       "      <th>Name</th>\n",
       "      <th>Website</th>\n",
       "      <th>Country</th>\n",
       "      <th>Description</th>\n",
       "      <th>Founded</th>\n",
       "      <th>Industry</th>\n",
       "      <th>Number of employees</th>\n",
       "    </tr>\n",
       "  </thead>\n",
       "  <tbody>\n",
       "    <tr>\n",
       "      <th>33</th>\n",
       "      <td>34</td>\n",
       "      <td>5Cd7efccCcba38f</td>\n",
       "      <td>Burch-Ewing</td>\n",
       "      <td>http://cline.net/</td>\n",
       "      <td>Taiwan</td>\n",
       "      <td>User-centric 4thgeneration system engine</td>\n",
       "      <td>1981</td>\n",
       "      <td>Venture Capital / VC</td>\n",
       "      <td>7443.0</td>\n",
       "    </tr>\n",
       "  </tbody>\n",
       "</table>\n",
       "</div>"
      ],
      "text/plain": [
       "    Index  Organization Id         Name            Website Country  \\\n",
       "33     34  5Cd7efccCcba38f  Burch-Ewing  http://cline.net/  Taiwan   \n",
       "\n",
       "                                 Description  Founded              Industry  \\\n",
       "33  User-centric 4thgeneration system engine     1981  Venture Capital / VC   \n",
       "\n",
       "    Number of employees  \n",
       "33               7443.0  "
      ]
     },
     "execution_count": 56,
     "metadata": {},
     "output_type": "execute_result"
    }
   ],
   "source": [
    "#Filtrando / slicing  - regras entre (), utilizando AND (&)\n",
    "dsa_df[ (dsa_df.Country == 'Taiwan') & (dsa_df.Founded == 1981)].head()"
   ]
  },
  {
   "cell_type": "code",
   "execution_count": 59,
   "id": "da26d867",
   "metadata": {},
   "outputs": [
    {
     "data": {
      "text/html": [
       "<div>\n",
       "<style scoped>\n",
       "    .dataframe tbody tr th:only-of-type {\n",
       "        vertical-align: middle;\n",
       "    }\n",
       "\n",
       "    .dataframe tbody tr th {\n",
       "        vertical-align: top;\n",
       "    }\n",
       "\n",
       "    .dataframe thead th {\n",
       "        text-align: right;\n",
       "    }\n",
       "</style>\n",
       "<table border=\"1\" class=\"dataframe\">\n",
       "  <thead>\n",
       "    <tr style=\"text-align: right;\">\n",
       "      <th></th>\n",
       "      <th>Index</th>\n",
       "      <th>Organization Id</th>\n",
       "      <th>Name</th>\n",
       "      <th>Website</th>\n",
       "      <th>Country</th>\n",
       "      <th>Description</th>\n",
       "      <th>Founded</th>\n",
       "      <th>Industry</th>\n",
       "      <th>Number of employees</th>\n",
       "    </tr>\n",
       "  </thead>\n",
       "  <tbody>\n",
       "    <tr>\n",
       "      <th>33</th>\n",
       "      <td>34</td>\n",
       "      <td>5Cd7efccCcba38f</td>\n",
       "      <td>Burch-Ewing</td>\n",
       "      <td>http://cline.net/</td>\n",
       "      <td>Taiwan</td>\n",
       "      <td>User-centric 4thgeneration system engine</td>\n",
       "      <td>1981</td>\n",
       "      <td>Venture Capital / VC</td>\n",
       "      <td>7443.0</td>\n",
       "    </tr>\n",
       "    <tr>\n",
       "      <th>88</th>\n",
       "      <td>89</td>\n",
       "      <td>ED889CB2FE9cbd3</td>\n",
       "      <td>Huang and Sons</td>\n",
       "      <td>https://www.bolton.com/</td>\n",
       "      <td>Eritrea</td>\n",
       "      <td>Re-contextualized dynamic hierarchy</td>\n",
       "      <td>1981</td>\n",
       "      <td>Semiconductors</td>\n",
       "      <td>7484.0</td>\n",
       "    </tr>\n",
       "    <tr>\n",
       "      <th>93</th>\n",
       "      <td>94</td>\n",
       "      <td>61BDeCfeFD0cEF5</td>\n",
       "      <td>Valenzuela, Holmes and Rowland</td>\n",
       "      <td>https://www.dorsey.net/</td>\n",
       "      <td>Taiwan</td>\n",
       "      <td>Persistent tertiary focus group</td>\n",
       "      <td>1999</td>\n",
       "      <td>Transportation</td>\n",
       "      <td>1483.0</td>\n",
       "    </tr>\n",
       "  </tbody>\n",
       "</table>\n",
       "</div>"
      ],
      "text/plain": [
       "    Index  Organization Id                            Name  \\\n",
       "33     34  5Cd7efccCcba38f                     Burch-Ewing   \n",
       "88     89  ED889CB2FE9cbd3                  Huang and Sons   \n",
       "93     94  61BDeCfeFD0cEF5  Valenzuela, Holmes and Rowland   \n",
       "\n",
       "                    Website  Country  \\\n",
       "33        http://cline.net/   Taiwan   \n",
       "88  https://www.bolton.com/  Eritrea   \n",
       "93  https://www.dorsey.net/   Taiwan   \n",
       "\n",
       "                                 Description  Founded              Industry  \\\n",
       "33  User-centric 4thgeneration system engine     1981  Venture Capital / VC   \n",
       "88       Re-contextualized dynamic hierarchy     1981        Semiconductors   \n",
       "93           Persistent tertiary focus group     1999        Transportation   \n",
       "\n",
       "    Number of employees  \n",
       "33               7443.0  \n",
       "88               7484.0  \n",
       "93               1483.0  "
      ]
     },
     "execution_count": 59,
     "metadata": {},
     "output_type": "execute_result"
    }
   ],
   "source": [
    "#Filtrando / slicing  - regras entre (), utilizando OR (|) , tail (traz o final)\n",
    "dsa_df[ (dsa_df.Country == 'Taiwan') | (dsa_df.Founded == 1981)].tail()"
   ]
  },
  {
   "cell_type": "code",
   "execution_count": 61,
   "id": "9d1d9c69",
   "metadata": {},
   "outputs": [
    {
     "data": {
      "text/html": [
       "<div>\n",
       "<style scoped>\n",
       "    .dataframe tbody tr th:only-of-type {\n",
       "        vertical-align: middle;\n",
       "    }\n",
       "\n",
       "    .dataframe tbody tr th {\n",
       "        vertical-align: top;\n",
       "    }\n",
       "\n",
       "    .dataframe thead th {\n",
       "        text-align: right;\n",
       "    }\n",
       "</style>\n",
       "<table border=\"1\" class=\"dataframe\">\n",
       "  <thead>\n",
       "    <tr style=\"text-align: right;\">\n",
       "      <th></th>\n",
       "      <th>Index</th>\n",
       "      <th>Organization Id</th>\n",
       "      <th>Name</th>\n",
       "      <th>Website</th>\n",
       "      <th>Country</th>\n",
       "      <th>Description</th>\n",
       "      <th>Founded</th>\n",
       "      <th>Industry</th>\n",
       "      <th>Number of employees</th>\n",
       "    </tr>\n",
       "  </thead>\n",
       "  <tbody>\n",
       "    <tr>\n",
       "      <th>91</th>\n",
       "      <td>92</td>\n",
       "      <td>4e0719FBE38e0aB</td>\n",
       "      <td>Miles-Dominguez</td>\n",
       "      <td>http://www.turner.com/</td>\n",
       "      <td>Gibraltar</td>\n",
       "      <td>Organized empowering forecast</td>\n",
       "      <td>1996</td>\n",
       "      <td>Civic / Social Organization</td>\n",
       "      <td>897.0</td>\n",
       "    </tr>\n",
       "    <tr>\n",
       "      <th>25</th>\n",
       "      <td>26</td>\n",
       "      <td>dFfD6a6F9AC2d9C</td>\n",
       "      <td>Greene, Benjamin and Novak</td>\n",
       "      <td>http://www.kent.net/</td>\n",
       "      <td>Romania</td>\n",
       "      <td>Centralized leadingedge moratorium</td>\n",
       "      <td>2012</td>\n",
       "      <td>Museums / Institutions</td>\n",
       "      <td>4941.0</td>\n",
       "    </tr>\n",
       "    <tr>\n",
       "      <th>95</th>\n",
       "      <td>96</td>\n",
       "      <td>0a0bfFbBbB8eC7c</td>\n",
       "      <td>Holmes Group</td>\n",
       "      <td>https://mcdowell.org/</td>\n",
       "      <td>Ethiopia</td>\n",
       "      <td>Right-sized zero tolerance focus group</td>\n",
       "      <td>1975</td>\n",
       "      <td>Photography</td>\n",
       "      <td>2988.0</td>\n",
       "    </tr>\n",
       "    <tr>\n",
       "      <th>65</th>\n",
       "      <td>66</td>\n",
       "      <td>fdFbecbadcdCdf1</td>\n",
       "      <td>Wilkinson, Charles and Arroyo</td>\n",
       "      <td>http://hunter-mcfarland.com/</td>\n",
       "      <td>United States Virgin Islands</td>\n",
       "      <td>Assimilated 24/7 archive</td>\n",
       "      <td>1996</td>\n",
       "      <td>Building Materials</td>\n",
       "      <td>602.0</td>\n",
       "    </tr>\n",
       "    <tr>\n",
       "      <th>34</th>\n",
       "      <td>35</td>\n",
       "      <td>9E6Acb51e3F9d6F</td>\n",
       "      <td>Glass, Barrera and Turner</td>\n",
       "      <td>https://dunlap.com/</td>\n",
       "      <td>Kyrgyz Republic</td>\n",
       "      <td>Multi-channeled 3rdgeneration open system</td>\n",
       "      <td>2020</td>\n",
       "      <td>Utilities</td>\n",
       "      <td>2610.0</td>\n",
       "    </tr>\n",
       "  </tbody>\n",
       "</table>\n",
       "</div>"
      ],
      "text/plain": [
       "    Index  Organization Id                           Name  \\\n",
       "91     92  4e0719FBE38e0aB                Miles-Dominguez   \n",
       "25     26  dFfD6a6F9AC2d9C     Greene, Benjamin and Novak   \n",
       "95     96  0a0bfFbBbB8eC7c                   Holmes Group   \n",
       "65     66  fdFbecbadcdCdf1  Wilkinson, Charles and Arroyo   \n",
       "34     35  9E6Acb51e3F9d6F      Glass, Barrera and Turner   \n",
       "\n",
       "                         Website                       Country  \\\n",
       "91        http://www.turner.com/                     Gibraltar   \n",
       "25          http://www.kent.net/                       Romania   \n",
       "95         https://mcdowell.org/                      Ethiopia   \n",
       "65  http://hunter-mcfarland.com/  United States Virgin Islands   \n",
       "34           https://dunlap.com/               Kyrgyz Republic   \n",
       "\n",
       "                                  Description  Founded  \\\n",
       "91              Organized empowering forecast     1996   \n",
       "25         Centralized leadingedge moratorium     2012   \n",
       "95     Right-sized zero tolerance focus group     1975   \n",
       "65                   Assimilated 24/7 archive     1996   \n",
       "34  Multi-channeled 3rdgeneration open system     2020   \n",
       "\n",
       "                       Industry  Number of employees  \n",
       "91  Civic / Social Organization                897.0  \n",
       "25       Museums / Institutions               4941.0  \n",
       "95                  Photography               2988.0  \n",
       "65           Building Materials                602.0  \n",
       "34                    Utilities               2610.0  "
      ]
     },
     "execution_count": 61,
     "metadata": {},
     "output_type": "execute_result"
    }
   ],
   "source": [
    "#Filtrando / slicing  - regras entre (), utilizando NOT (!) , traz 5 exemplos/amostras aleatórios (sample)\n",
    "dsa_df[ (dsa_df.Country != 'Taiwan') & (dsa_df.Founded != 1981)].sample(5)"
   ]
  },
  {
   "cell_type": "markdown",
   "id": "39f33b11",
   "metadata": {},
   "source": [
    "## Agrupamento de dados em DataFrames com Group By"
   ]
  },
  {
   "cell_type": "code",
   "execution_count": 68,
   "id": "f68dfb3e",
   "metadata": {},
   "outputs": [
    {
     "data": {
      "text/html": [
       "<div>\n",
       "<style scoped>\n",
       "    .dataframe tbody tr th:only-of-type {\n",
       "        vertical-align: middle;\n",
       "    }\n",
       "\n",
       "    .dataframe tbody tr th {\n",
       "        vertical-align: top;\n",
       "    }\n",
       "\n",
       "    .dataframe thead th {\n",
       "        text-align: right;\n",
       "    }\n",
       "</style>\n",
       "<table border=\"1\" class=\"dataframe\">\n",
       "  <thead>\n",
       "    <tr style=\"text-align: right;\">\n",
       "      <th></th>\n",
       "      <th></th>\n",
       "      <th>Number of employees</th>\n",
       "    </tr>\n",
       "    <tr>\n",
       "      <th>Country</th>\n",
       "      <th>Industry</th>\n",
       "      <th></th>\n",
       "    </tr>\n",
       "  </thead>\n",
       "  <tbody>\n",
       "    <tr>\n",
       "      <th>Anguilla</th>\n",
       "      <th>Consumer Services</th>\n",
       "      <td>4292.0</td>\n",
       "    </tr>\n",
       "    <tr>\n",
       "      <th>Australia</th>\n",
       "      <th>Logistics / Procurement</th>\n",
       "      <td>4155.0</td>\n",
       "    </tr>\n",
       "    <tr>\n",
       "      <th>Bahamas</th>\n",
       "      <th>Primary / Secondary Education</th>\n",
       "      <td>3498.0</td>\n",
       "    </tr>\n",
       "    <tr>\n",
       "      <th>Belarus</th>\n",
       "      <th>Electrical / Electronic Manufacturing</th>\n",
       "      <td>3715.0</td>\n",
       "    </tr>\n",
       "    <tr>\n",
       "      <th>Belgium</th>\n",
       "      <th>Pharmaceuticals</th>\n",
       "      <td>5038.0</td>\n",
       "    </tr>\n",
       "    <tr>\n",
       "      <th>...</th>\n",
       "      <th>...</th>\n",
       "      <td>...</td>\n",
       "    </tr>\n",
       "    <tr>\n",
       "      <th>Uzbekistan</th>\n",
       "      <th>Outsourcing / Offshoring</th>\n",
       "      <td>9698.0</td>\n",
       "    </tr>\n",
       "    <tr>\n",
       "      <th>Vietnam</th>\n",
       "      <th>Business Supplies / Equipment</th>\n",
       "      <td>9097.0</td>\n",
       "    </tr>\n",
       "    <tr>\n",
       "      <th>Western Sahara</th>\n",
       "      <th>Luxury Goods / Jewelry</th>\n",
       "      <td>1746.0</td>\n",
       "    </tr>\n",
       "    <tr>\n",
       "      <th rowspan=\"2\" valign=\"top\">Zimbabwe</th>\n",
       "      <th>Gambling / Casinos</th>\n",
       "      <td>4873.0</td>\n",
       "    </tr>\n",
       "    <tr>\n",
       "      <th>Mechanical or Industrial Engineering</th>\n",
       "      <td>6135.0</td>\n",
       "    </tr>\n",
       "  </tbody>\n",
       "</table>\n",
       "<p>100 rows × 1 columns</p>\n",
       "</div>"
      ],
      "text/plain": [
       "                                                      Number of employees\n",
       "Country        Industry                                                  \n",
       "Anguilla       Consumer Services                                   4292.0\n",
       "Australia      Logistics / Procurement                             4155.0\n",
       "Bahamas        Primary / Secondary Education                       3498.0\n",
       "Belarus        Electrical / Electronic Manufacturing               3715.0\n",
       "Belgium        Pharmaceuticals                                     5038.0\n",
       "...                                                                   ...\n",
       "Uzbekistan     Outsourcing / Offshoring                            9698.0\n",
       "Vietnam        Business Supplies / Equipment                       9097.0\n",
       "Western Sahara Luxury Goods / Jewelry                              1746.0\n",
       "Zimbabwe       Gambling / Casinos                                  4873.0\n",
       "               Mechanical or Industrial Engineering                6135.0\n",
       "\n",
       "[100 rows x 1 columns]"
      ]
     },
     "execution_count": 68,
     "metadata": {},
     "output_type": "execute_result"
    }
   ],
   "source": [
    "dsa_df[['Country','Industry','Number of employees']].groupby(['Country','Industry']).mean()\n",
    "# Atenção : o método mean() , média, vai vazer a média de tudo o que não estiver na clausula group by, \n",
    "# ou seja, do campo numérico Number of employees. Logo, o valor \"que sobra\" (no caso Number of employees)\n",
    "# deve ser sempre numérico!"
   ]
  },
  {
   "cell_type": "markdown",
   "id": "90a94e84",
   "metadata": {},
   "source": [
    "## Agregação múltipla com Group by"
   ]
  },
  {
   "cell_type": "code",
   "execution_count": 70,
   "id": "ac360e9d",
   "metadata": {},
   "outputs": [
    {
     "data": {
      "text/html": [
       "<div>\n",
       "<style scoped>\n",
       "    .dataframe tbody tr th:only-of-type {\n",
       "        vertical-align: middle;\n",
       "    }\n",
       "\n",
       "    .dataframe tbody tr th {\n",
       "        vertical-align: top;\n",
       "    }\n",
       "\n",
       "    .dataframe thead tr th {\n",
       "        text-align: left;\n",
       "    }\n",
       "\n",
       "    .dataframe thead tr:last-of-type th {\n",
       "        text-align: right;\n",
       "    }\n",
       "</style>\n",
       "<table border=\"1\" class=\"dataframe\">\n",
       "  <thead>\n",
       "    <tr>\n",
       "      <th></th>\n",
       "      <th></th>\n",
       "      <th colspan=\"3\" halign=\"left\">Number of employees</th>\n",
       "    </tr>\n",
       "    <tr>\n",
       "      <th></th>\n",
       "      <th></th>\n",
       "      <th>mean</th>\n",
       "      <th>std</th>\n",
       "      <th>count</th>\n",
       "    </tr>\n",
       "    <tr>\n",
       "      <th>Country</th>\n",
       "      <th>Industry</th>\n",
       "      <th></th>\n",
       "      <th></th>\n",
       "      <th></th>\n",
       "    </tr>\n",
       "  </thead>\n",
       "  <tbody>\n",
       "    <tr>\n",
       "      <th>Anguilla</th>\n",
       "      <th>Consumer Services</th>\n",
       "      <td>4292.0</td>\n",
       "      <td>NaN</td>\n",
       "      <td>1</td>\n",
       "    </tr>\n",
       "    <tr>\n",
       "      <th>Australia</th>\n",
       "      <th>Logistics / Procurement</th>\n",
       "      <td>4155.0</td>\n",
       "      <td>NaN</td>\n",
       "      <td>1</td>\n",
       "    </tr>\n",
       "    <tr>\n",
       "      <th>Bahamas</th>\n",
       "      <th>Primary / Secondary Education</th>\n",
       "      <td>3498.0</td>\n",
       "      <td>NaN</td>\n",
       "      <td>1</td>\n",
       "    </tr>\n",
       "    <tr>\n",
       "      <th>Belarus</th>\n",
       "      <th>Electrical / Electronic Manufacturing</th>\n",
       "      <td>3715.0</td>\n",
       "      <td>NaN</td>\n",
       "      <td>1</td>\n",
       "    </tr>\n",
       "    <tr>\n",
       "      <th>Belgium</th>\n",
       "      <th>Pharmaceuticals</th>\n",
       "      <td>5038.0</td>\n",
       "      <td>NaN</td>\n",
       "      <td>1</td>\n",
       "    </tr>\n",
       "    <tr>\n",
       "      <th>...</th>\n",
       "      <th>...</th>\n",
       "      <td>...</td>\n",
       "      <td>...</td>\n",
       "      <td>...</td>\n",
       "    </tr>\n",
       "    <tr>\n",
       "      <th>Uzbekistan</th>\n",
       "      <th>Outsourcing / Offshoring</th>\n",
       "      <td>9698.0</td>\n",
       "      <td>NaN</td>\n",
       "      <td>1</td>\n",
       "    </tr>\n",
       "    <tr>\n",
       "      <th>Vietnam</th>\n",
       "      <th>Business Supplies / Equipment</th>\n",
       "      <td>9097.0</td>\n",
       "      <td>NaN</td>\n",
       "      <td>1</td>\n",
       "    </tr>\n",
       "    <tr>\n",
       "      <th>Western Sahara</th>\n",
       "      <th>Luxury Goods / Jewelry</th>\n",
       "      <td>1746.0</td>\n",
       "      <td>NaN</td>\n",
       "      <td>1</td>\n",
       "    </tr>\n",
       "    <tr>\n",
       "      <th rowspan=\"2\" valign=\"top\">Zimbabwe</th>\n",
       "      <th>Gambling / Casinos</th>\n",
       "      <td>4873.0</td>\n",
       "      <td>NaN</td>\n",
       "      <td>1</td>\n",
       "    </tr>\n",
       "    <tr>\n",
       "      <th>Mechanical or Industrial Engineering</th>\n",
       "      <td>6135.0</td>\n",
       "      <td>NaN</td>\n",
       "      <td>1</td>\n",
       "    </tr>\n",
       "  </tbody>\n",
       "</table>\n",
       "<p>100 rows × 3 columns</p>\n",
       "</div>"
      ],
      "text/plain": [
       "                                                     Number of employees      \\\n",
       "                                                                    mean std   \n",
       "Country        Industry                                                        \n",
       "Anguilla       Consumer Services                                  4292.0 NaN   \n",
       "Australia      Logistics / Procurement                            4155.0 NaN   \n",
       "Bahamas        Primary / Secondary Education                      3498.0 NaN   \n",
       "Belarus        Electrical / Electronic Manufacturing              3715.0 NaN   \n",
       "Belgium        Pharmaceuticals                                    5038.0 NaN   \n",
       "...                                                                  ...  ..   \n",
       "Uzbekistan     Outsourcing / Offshoring                           9698.0 NaN   \n",
       "Vietnam        Business Supplies / Equipment                      9097.0 NaN   \n",
       "Western Sahara Luxury Goods / Jewelry                             1746.0 NaN   \n",
       "Zimbabwe       Gambling / Casinos                                 4873.0 NaN   \n",
       "               Mechanical or Industrial Engineering               6135.0 NaN   \n",
       "\n",
       "                                                            \n",
       "                                                     count  \n",
       "Country        Industry                                     \n",
       "Anguilla       Consumer Services                         1  \n",
       "Australia      Logistics / Procurement                   1  \n",
       "Bahamas        Primary / Secondary Education             1  \n",
       "Belarus        Electrical / Electronic Manufacturing     1  \n",
       "Belgium        Pharmaceuticals                           1  \n",
       "...                                                    ...  \n",
       "Uzbekistan     Outsourcing / Offshoring                  1  \n",
       "Vietnam        Business Supplies / Equipment             1  \n",
       "Western Sahara Luxury Goods / Jewelry                    1  \n",
       "Zimbabwe       Gambling / Casinos                        1  \n",
       "               Mechanical or Industrial Engineering      1  \n",
       "\n",
       "[100 rows x 3 columns]"
      ]
     },
     "execution_count": 70,
     "metadata": {},
     "output_type": "execute_result"
    }
   ],
   "source": [
    "# agg() = aggregation  (nela vão as funções de agregação)\n",
    "dsa_df[['Country','Industry','Number of employees']].groupby(['Country','Industry']).agg(['mean','std','count'])"
   ]
  },
  {
   "cell_type": "markdown",
   "id": "9ea3a94a",
   "metadata": {},
   "source": [
    "## Filtrando DataFrame do Pandas com base em Strings"
   ]
  },
  {
   "cell_type": "code",
   "execution_count": 71,
   "id": "c4173752",
   "metadata": {},
   "outputs": [
    {
     "data": {
      "text/html": [
       "<div>\n",
       "<style scoped>\n",
       "    .dataframe tbody tr th:only-of-type {\n",
       "        vertical-align: middle;\n",
       "    }\n",
       "\n",
       "    .dataframe tbody tr th {\n",
       "        vertical-align: top;\n",
       "    }\n",
       "\n",
       "    .dataframe thead th {\n",
       "        text-align: right;\n",
       "    }\n",
       "</style>\n",
       "<table border=\"1\" class=\"dataframe\">\n",
       "  <thead>\n",
       "    <tr style=\"text-align: right;\">\n",
       "      <th></th>\n",
       "      <th>Index</th>\n",
       "      <th>Organization Id</th>\n",
       "      <th>Name</th>\n",
       "      <th>Website</th>\n",
       "      <th>Country</th>\n",
       "      <th>Description</th>\n",
       "      <th>Founded</th>\n",
       "      <th>Industry</th>\n",
       "      <th>Number of employees</th>\n",
       "    </tr>\n",
       "  </thead>\n",
       "  <tbody>\n",
       "    <tr>\n",
       "      <th>0</th>\n",
       "      <td>1</td>\n",
       "      <td>FAB0d41d5b5d22c</td>\n",
       "      <td>Ferrell LLC</td>\n",
       "      <td>https://price.net/</td>\n",
       "      <td>Papua New Guinea</td>\n",
       "      <td>Horizontal empowering knowledgebase</td>\n",
       "      <td>1990</td>\n",
       "      <td>Plastics</td>\n",
       "      <td>3498.0</td>\n",
       "    </tr>\n",
       "    <tr>\n",
       "      <th>1</th>\n",
       "      <td>2</td>\n",
       "      <td>6A7EdDEA9FaDC52</td>\n",
       "      <td>Mckinney, Riley and Day</td>\n",
       "      <td>http://www.hall-buchanan.info/</td>\n",
       "      <td>Finland</td>\n",
       "      <td>User-centric system-worthy leverage</td>\n",
       "      <td>2015</td>\n",
       "      <td>Glass / Ceramics / Concrete</td>\n",
       "      <td>4952.0</td>\n",
       "    </tr>\n",
       "    <tr>\n",
       "      <th>2</th>\n",
       "      <td>3</td>\n",
       "      <td>0bFED1ADAE4bcC1</td>\n",
       "      <td>Hester Ltd</td>\n",
       "      <td>http://sullivan-reed.com/</td>\n",
       "      <td>China</td>\n",
       "      <td>Switchable scalable moratorium</td>\n",
       "      <td>1971</td>\n",
       "      <td>Public Safety</td>\n",
       "      <td>3498.0</td>\n",
       "    </tr>\n",
       "    <tr>\n",
       "      <th>3</th>\n",
       "      <td>4</td>\n",
       "      <td>2bFC1Be8a4ce42f</td>\n",
       "      <td>Holder-Sellers</td>\n",
       "      <td>https://becker.com/</td>\n",
       "      <td>Turkmenistan</td>\n",
       "      <td>De-engineered systemic artificial intelligence</td>\n",
       "      <td>2004</td>\n",
       "      <td>Automotive</td>\n",
       "      <td>3498.0</td>\n",
       "    </tr>\n",
       "    <tr>\n",
       "      <th>4</th>\n",
       "      <td>5</td>\n",
       "      <td>9eE8A6a4Eb96C24</td>\n",
       "      <td>Mayer Group</td>\n",
       "      <td>http://www.brewer.com/</td>\n",
       "      <td>Mauritius</td>\n",
       "      <td>Synchronized needs-based challenge</td>\n",
       "      <td>1991</td>\n",
       "      <td>Transportation</td>\n",
       "      <td>3498.0</td>\n",
       "    </tr>\n",
       "  </tbody>\n",
       "</table>\n",
       "</div>"
      ],
      "text/plain": [
       "   Index  Organization Id                     Name  \\\n",
       "0      1  FAB0d41d5b5d22c              Ferrell LLC   \n",
       "1      2  6A7EdDEA9FaDC52  Mckinney, Riley and Day   \n",
       "2      3  0bFED1ADAE4bcC1               Hester Ltd   \n",
       "3      4  2bFC1Be8a4ce42f           Holder-Sellers   \n",
       "4      5  9eE8A6a4Eb96C24              Mayer Group   \n",
       "\n",
       "                          Website           Country  \\\n",
       "0              https://price.net/  Papua New Guinea   \n",
       "1  http://www.hall-buchanan.info/           Finland   \n",
       "2       http://sullivan-reed.com/             China   \n",
       "3             https://becker.com/      Turkmenistan   \n",
       "4          http://www.brewer.com/         Mauritius   \n",
       "\n",
       "                                      Description  Founded  \\\n",
       "0             Horizontal empowering knowledgebase     1990   \n",
       "1             User-centric system-worthy leverage     2015   \n",
       "2                  Switchable scalable moratorium     1971   \n",
       "3  De-engineered systemic artificial intelligence     2004   \n",
       "4              Synchronized needs-based challenge     1991   \n",
       "\n",
       "                      Industry  Number of employees  \n",
       "0                     Plastics               3498.0  \n",
       "1  Glass / Ceramics / Concrete               4952.0  \n",
       "2                Public Safety               3498.0  \n",
       "3                   Automotive               3498.0  \n",
       "4               Transportation               3498.0  "
      ]
     },
     "execution_count": 71,
     "metadata": {},
     "output_type": "execute_result"
    }
   ],
   "source": [
    "dsa_df.head()"
   ]
  },
  {
   "cell_type": "code",
   "execution_count": 72,
   "id": "09bb10dc",
   "metadata": {},
   "outputs": [
    {
     "data": {
      "text/html": [
       "<div>\n",
       "<style scoped>\n",
       "    .dataframe tbody tr th:only-of-type {\n",
       "        vertical-align: middle;\n",
       "    }\n",
       "\n",
       "    .dataframe tbody tr th {\n",
       "        vertical-align: top;\n",
       "    }\n",
       "\n",
       "    .dataframe thead th {\n",
       "        text-align: right;\n",
       "    }\n",
       "</style>\n",
       "<table border=\"1\" class=\"dataframe\">\n",
       "  <thead>\n",
       "    <tr style=\"text-align: right;\">\n",
       "      <th></th>\n",
       "      <th>Index</th>\n",
       "      <th>Organization Id</th>\n",
       "      <th>Name</th>\n",
       "      <th>Website</th>\n",
       "      <th>Country</th>\n",
       "      <th>Description</th>\n",
       "      <th>Founded</th>\n",
       "      <th>Industry</th>\n",
       "      <th>Number of employees</th>\n",
       "    </tr>\n",
       "  </thead>\n",
       "  <tbody>\n",
       "    <tr>\n",
       "      <th>4</th>\n",
       "      <td>5</td>\n",
       "      <td>9eE8A6a4Eb96C24</td>\n",
       "      <td>Mayer Group</td>\n",
       "      <td>http://www.brewer.com/</td>\n",
       "      <td>Mauritius</td>\n",
       "      <td>Synchronized needs-based challenge</td>\n",
       "      <td>1991</td>\n",
       "      <td>Transportation</td>\n",
       "      <td>3498.0</td>\n",
       "    </tr>\n",
       "    <tr>\n",
       "      <th>54</th>\n",
       "      <td>55</td>\n",
       "      <td>e24D21BFd3bF1E5</td>\n",
       "      <td>Richard PLC</td>\n",
       "      <td>https://holden-coleman.net/</td>\n",
       "      <td>Mayotte</td>\n",
       "      <td>Object-based optimizing model</td>\n",
       "      <td>1971</td>\n",
       "      <td>Broadcast Media</td>\n",
       "      <td>4942.0</td>\n",
       "    </tr>\n",
       "    <tr>\n",
       "      <th>57</th>\n",
       "      <td>58</td>\n",
       "      <td>Bf3F3f62c8aBC33</td>\n",
       "      <td>Cherry PLC</td>\n",
       "      <td>https://www.avila.info/</td>\n",
       "      <td>Marshall Islands</td>\n",
       "      <td>Persistent tertiary website</td>\n",
       "      <td>1980</td>\n",
       "      <td>Plastics</td>\n",
       "      <td>8245.0</td>\n",
       "    </tr>\n",
       "    <tr>\n",
       "      <th>86</th>\n",
       "      <td>87</td>\n",
       "      <td>a0a6f9b3DbcBEb5</td>\n",
       "      <td>Mays-Preston</td>\n",
       "      <td>http://www.browning-key.com/</td>\n",
       "      <td>Mali</td>\n",
       "      <td>User-centric heuristic focus group</td>\n",
       "      <td>2006</td>\n",
       "      <td>Military Industry</td>\n",
       "      <td>5786.0</td>\n",
       "    </tr>\n",
       "  </tbody>\n",
       "</table>\n",
       "</div>"
      ],
      "text/plain": [
       "    Index  Organization Id          Name                       Website  \\\n",
       "4       5  9eE8A6a4Eb96C24   Mayer Group        http://www.brewer.com/   \n",
       "54     55  e24D21BFd3bF1E5   Richard PLC   https://holden-coleman.net/   \n",
       "57     58  Bf3F3f62c8aBC33    Cherry PLC       https://www.avila.info/   \n",
       "86     87  a0a6f9b3DbcBEb5  Mays-Preston  http://www.browning-key.com/   \n",
       "\n",
       "             Country                         Description  Founded  \\\n",
       "4          Mauritius  Synchronized needs-based challenge     1991   \n",
       "54           Mayotte       Object-based optimizing model     1971   \n",
       "57  Marshall Islands         Persistent tertiary website     1980   \n",
       "86              Mali  User-centric heuristic focus group     2006   \n",
       "\n",
       "             Industry  Number of employees  \n",
       "4      Transportation               3498.0  \n",
       "54    Broadcast Media               4942.0  \n",
       "57           Plastics               8245.0  \n",
       "86  Military Industry               5786.0  "
      ]
     },
     "execution_count": 72,
     "metadata": {},
     "output_type": "execute_result"
    }
   ],
   "source": [
    "# Filtrando o dataframe pela coluna Conuntry com valores que iniciam com 'Ma'\n",
    "dsa_df[dsa_df.Country.str.startswith('Ma')].head()"
   ]
  },
  {
   "cell_type": "code",
   "execution_count": 73,
   "id": "c067e552",
   "metadata": {},
   "outputs": [
    {
     "data": {
      "text/html": [
       "<div>\n",
       "<style scoped>\n",
       "    .dataframe tbody tr th:only-of-type {\n",
       "        vertical-align: middle;\n",
       "    }\n",
       "\n",
       "    .dataframe tbody tr th {\n",
       "        vertical-align: top;\n",
       "    }\n",
       "\n",
       "    .dataframe thead th {\n",
       "        text-align: right;\n",
       "    }\n",
       "</style>\n",
       "<table border=\"1\" class=\"dataframe\">\n",
       "  <thead>\n",
       "    <tr style=\"text-align: right;\">\n",
       "      <th></th>\n",
       "      <th>Index</th>\n",
       "      <th>Organization Id</th>\n",
       "      <th>Name</th>\n",
       "      <th>Website</th>\n",
       "      <th>Country</th>\n",
       "      <th>Description</th>\n",
       "      <th>Founded</th>\n",
       "      <th>Industry</th>\n",
       "      <th>Number of employees</th>\n",
       "    </tr>\n",
       "  </thead>\n",
       "  <tbody>\n",
       "    <tr>\n",
       "      <th>4</th>\n",
       "      <td>5</td>\n",
       "      <td>9eE8A6a4Eb96C24</td>\n",
       "      <td>Mayer Group</td>\n",
       "      <td>http://www.brewer.com/</td>\n",
       "      <td>Mauritius</td>\n",
       "      <td>Synchronized needs-based challenge</td>\n",
       "      <td>1991</td>\n",
       "      <td>Transportation</td>\n",
       "      <td>3498.0</td>\n",
       "    </tr>\n",
       "    <tr>\n",
       "      <th>5</th>\n",
       "      <td>6</td>\n",
       "      <td>cC757116fe1C085</td>\n",
       "      <td>Henry-Thompson</td>\n",
       "      <td>http://morse.net/</td>\n",
       "      <td>Bahamas</td>\n",
       "      <td>Face-to-face well-modulated customer loyalty</td>\n",
       "      <td>1992</td>\n",
       "      <td>Primary / Secondary Education</td>\n",
       "      <td>3498.0</td>\n",
       "    </tr>\n",
       "    <tr>\n",
       "      <th>7</th>\n",
       "      <td>8</td>\n",
       "      <td>ccc93DCF81a31CD</td>\n",
       "      <td>Mcintosh-Mora</td>\n",
       "      <td>https://www.brooks.com/</td>\n",
       "      <td>Heard Island and McDonald Islands</td>\n",
       "      <td>Centralized attitude-oriented capability</td>\n",
       "      <td>1970</td>\n",
       "      <td>Import / Export</td>\n",
       "      <td>4389.0</td>\n",
       "    </tr>\n",
       "    <tr>\n",
       "      <th>13</th>\n",
       "      <td>14</td>\n",
       "      <td>D2c91cc03CA394c</td>\n",
       "      <td>Glover-Pope</td>\n",
       "      <td>http://www.silva.biz/</td>\n",
       "      <td>United Arab Emirates</td>\n",
       "      <td>Persevering contextually-based approach</td>\n",
       "      <td>2013</td>\n",
       "      <td>Medical Practice</td>\n",
       "      <td>9079.0</td>\n",
       "    </tr>\n",
       "    <tr>\n",
       "      <th>15</th>\n",
       "      <td>16</td>\n",
       "      <td>b5D10A14f7a8AfE</td>\n",
       "      <td>Hodge-Ayers</td>\n",
       "      <td>http://www.archer-elliott.com/</td>\n",
       "      <td>Honduras</td>\n",
       "      <td>Future-proofed radical implementation</td>\n",
       "      <td>1990</td>\n",
       "      <td>Facilities Services</td>\n",
       "      <td>8508.0</td>\n",
       "    </tr>\n",
       "  </tbody>\n",
       "</table>\n",
       "</div>"
      ],
      "text/plain": [
       "    Index  Organization Id            Name                         Website  \\\n",
       "4       5  9eE8A6a4Eb96C24     Mayer Group          http://www.brewer.com/   \n",
       "5       6  cC757116fe1C085  Henry-Thompson               http://morse.net/   \n",
       "7       8  ccc93DCF81a31CD   Mcintosh-Mora         https://www.brooks.com/   \n",
       "13     14  D2c91cc03CA394c     Glover-Pope           http://www.silva.biz/   \n",
       "15     16  b5D10A14f7a8AfE     Hodge-Ayers  http://www.archer-elliott.com/   \n",
       "\n",
       "                              Country  \\\n",
       "4                           Mauritius   \n",
       "5                             Bahamas   \n",
       "7   Heard Island and McDonald Islands   \n",
       "13               United Arab Emirates   \n",
       "15                           Honduras   \n",
       "\n",
       "                                     Description  Founded  \\\n",
       "4             Synchronized needs-based challenge     1991   \n",
       "5   Face-to-face well-modulated customer loyalty     1992   \n",
       "7       Centralized attitude-oriented capability     1970   \n",
       "13       Persevering contextually-based approach     2013   \n",
       "15         Future-proofed radical implementation     1990   \n",
       "\n",
       "                         Industry  Number of employees  \n",
       "4                  Transportation               3498.0  \n",
       "5   Primary / Secondary Education               3498.0  \n",
       "7                 Import / Export               4389.0  \n",
       "13               Medical Practice               9079.0  \n",
       "15            Facilities Services               8508.0  "
      ]
     },
     "execution_count": 73,
     "metadata": {},
     "output_type": "execute_result"
    }
   ],
   "source": [
    "#Filtrando o dataframe pela coluna Country com valores que terminam com as letras 's'\n",
    "dsa_df[dsa_df.Country.str.endswith('s')].head()"
   ]
  },
  {
   "cell_type": "code",
   "execution_count": null,
   "id": "8ace5a7f",
   "metadata": {},
   "outputs": [],
   "source": []
  }
 ],
 "metadata": {
  "kernelspec": {
   "display_name": "Python 3 (ipykernel)",
   "language": "python",
   "name": "python3"
  },
  "language_info": {
   "codemirror_mode": {
    "name": "ipython",
    "version": 3
   },
   "file_extension": ".py",
   "mimetype": "text/x-python",
   "name": "python",
   "nbconvert_exporter": "python",
   "pygments_lexer": "ipython3",
   "version": "3.10.9"
  }
 },
 "nbformat": 4,
 "nbformat_minor": 5
}
