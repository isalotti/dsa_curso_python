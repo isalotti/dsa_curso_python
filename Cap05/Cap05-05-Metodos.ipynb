{
 "cells": [
  {
   "cell_type": "markdown",
   "id": "093cb1e4",
   "metadata": {},
   "source": [
    "## Métodos"
   ]
  },
  {
   "cell_type": "markdown",
   "id": "9ca25b94",
   "metadata": {},
   "source": [
    "#### Tudo em python é objeto. Cada objeto tem métodos e atributos."
   ]
  },
  {
   "cell_type": "code",
   "execution_count": 1,
   "id": "22507686",
   "metadata": {},
   "outputs": [],
   "source": [
    "lista = [10, -2, 12, 65, 0]"
   ]
  },
  {
   "cell_type": "code",
   "execution_count": 2,
   "id": "f1346ab2",
   "metadata": {},
   "outputs": [
    {
     "data": {
      "text/plain": [
       "list"
      ]
     },
     "execution_count": 2,
     "metadata": {},
     "output_type": "execute_result"
    }
   ],
   "source": [
    "type(lista)"
   ]
  },
  {
   "cell_type": "code",
   "execution_count": 3,
   "id": "71e63993",
   "metadata": {},
   "outputs": [
    {
     "data": {
      "text/plain": [
       "[10, -2, 12, 65, 0]"
      ]
     },
     "execution_count": 3,
     "metadata": {},
     "output_type": "execute_result"
    }
   ],
   "source": [
    "#Verificando métodos e atributos\n",
    "lista"
   ]
  },
  {
   "cell_type": "code",
   "execution_count": 4,
   "id": "a7caabf2",
   "metadata": {},
   "outputs": [],
   "source": [
    "lista.append(100)  #Adicionar ao fim"
   ]
  },
  {
   "cell_type": "code",
   "execution_count": 5,
   "id": "6d87ea31",
   "metadata": {},
   "outputs": [
    {
     "name": "stdout",
     "output_type": "stream",
     "text": [
      "[10, -2, 12, 65, 0, 100]\n"
     ]
    }
   ],
   "source": [
    "print(lista)"
   ]
  },
  {
   "cell_type": "code",
   "execution_count": 6,
   "id": "9880738c",
   "metadata": {},
   "outputs": [
    {
     "data": {
      "text/plain": [
       "1"
      ]
     },
     "execution_count": 6,
     "metadata": {},
     "output_type": "execute_result"
    }
   ],
   "source": [
    "lista.count(100)  # contar quantos valores x = 100 existem na lista"
   ]
  },
  {
   "cell_type": "code",
   "execution_count": 7,
   "id": "7f667a61",
   "metadata": {},
   "outputs": [
    {
     "name": "stdout",
     "output_type": "stream",
     "text": [
      "Help on built-in function count:\n",
      "\n",
      "count(value, /) method of builtins.list instance\n",
      "    Return number of occurrences of value.\n",
      "\n"
     ]
    }
   ],
   "source": [
    "help(lista.count)   #help explica como utilizar o método count"
   ]
  },
  {
   "cell_type": "code",
   "execution_count": 8,
   "id": "3f12a49c",
   "metadata": {},
   "outputs": [
    {
     "data": {
      "text/plain": [
       "['__add__',\n",
       " '__class__',\n",
       " '__class_getitem__',\n",
       " '__contains__',\n",
       " '__delattr__',\n",
       " '__delitem__',\n",
       " '__dir__',\n",
       " '__doc__',\n",
       " '__eq__',\n",
       " '__format__',\n",
       " '__ge__',\n",
       " '__getattribute__',\n",
       " '__getitem__',\n",
       " '__gt__',\n",
       " '__hash__',\n",
       " '__iadd__',\n",
       " '__imul__',\n",
       " '__init__',\n",
       " '__init_subclass__',\n",
       " '__iter__',\n",
       " '__le__',\n",
       " '__len__',\n",
       " '__lt__',\n",
       " '__mul__',\n",
       " '__ne__',\n",
       " '__new__',\n",
       " '__reduce__',\n",
       " '__reduce_ex__',\n",
       " '__repr__',\n",
       " '__reversed__',\n",
       " '__rmul__',\n",
       " '__setattr__',\n",
       " '__setitem__',\n",
       " '__sizeof__',\n",
       " '__str__',\n",
       " '__subclasshook__',\n",
       " 'append',\n",
       " 'clear',\n",
       " 'copy',\n",
       " 'count',\n",
       " 'extend',\n",
       " 'index',\n",
       " 'insert',\n",
       " 'pop',\n",
       " 'remove',\n",
       " 'reverse',\n",
       " 'sort']"
      ]
     },
     "execution_count": 8,
     "metadata": {},
     "output_type": "execute_result"
    }
   ],
   "source": [
    "dir(lista)  # mostra todos os métodos e atributos do objeto"
   ]
  },
  {
   "cell_type": "code",
   "execution_count": 9,
   "id": "108ee18c",
   "metadata": {},
   "outputs": [],
   "source": [
    "frase = 'Isso é uma string'"
   ]
  },
  {
   "cell_type": "code",
   "execution_count": 10,
   "id": "bb151d88",
   "metadata": {},
   "outputs": [
    {
     "data": {
      "text/plain": [
       "str"
      ]
     },
     "execution_count": 10,
     "metadata": {},
     "output_type": "execute_result"
    }
   ],
   "source": [
    "type(frase)"
   ]
  },
  {
   "cell_type": "code",
   "execution_count": 11,
   "id": "a17bc2fe",
   "metadata": {},
   "outputs": [
    {
     "name": "stdout",
     "output_type": "stream",
     "text": [
      "['Isso', 'é', 'uma', 'string']\n"
     ]
    }
   ],
   "source": [
    "print(frase.split())  # separa em palavras, separador default é espaço"
   ]
  },
  {
   "cell_type": "code",
   "execution_count": null,
   "id": "800f8cb6",
   "metadata": {},
   "outputs": [],
   "source": []
  }
 ],
 "metadata": {
  "kernelspec": {
   "display_name": "Python 3 (ipykernel)",
   "language": "python",
   "name": "python3"
  },
  "language_info": {
   "codemirror_mode": {
    "name": "ipython",
    "version": 3
   },
   "file_extension": ".py",
   "mimetype": "text/x-python",
   "name": "python",
   "nbconvert_exporter": "python",
   "pygments_lexer": "ipython3",
   "version": "3.10.9"
  }
 },
 "nbformat": 4,
 "nbformat_minor": 5
}
