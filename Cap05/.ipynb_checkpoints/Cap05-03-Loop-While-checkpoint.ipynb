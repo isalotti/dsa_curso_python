{
 "cells": [
  {
   "cell_type": "markdown",
   "id": "c48865dc",
   "metadata": {},
   "source": [
    "## Loop while"
   ]
  },
  {
   "cell_type": "code",
   "execution_count": 1,
   "id": "04f9aa07",
   "metadata": {},
   "outputs": [
    {
     "name": "stdout",
     "output_type": "stream",
     "text": [
      "0\n",
      "1\n",
      "2\n",
      "3\n",
      "4\n",
      "5\n",
      "6\n",
      "7\n",
      "8\n",
      "9\n"
     ]
    }
   ],
   "source": [
    "# While : imprimir valores de 0 a 9\n",
    "# Entra no loop se a condição for verdadeira, ao menos 1 vez\n",
    "# A condição deve deixar de ser verdadeira em algum momento (condição de parada), ou tem-se um loop infinito\n",
    "valor = 0\n",
    "while valor < 10:\n",
    "    print(valor)\n",
    "    valor = valor + 1     # incrementa : gera condição de parada quando valor = 10"
   ]
  },
  {
   "cell_type": "code",
   "execution_count": 3,
   "id": "d7f2231f",
   "metadata": {},
   "outputs": [
    {
     "name": "stdout",
     "output_type": "stream",
     "text": [
      "Valor de x é:  0\n",
      "> x ainda é menor que 10, somando 1 a x.\n",
      "Valor de x é:  1\n",
      "> x ainda é menor que 10, somando 1 a x.\n",
      "Valor de x é:  2\n",
      "> x ainda é menor que 10, somando 1 a x.\n",
      "Valor de x é:  3\n",
      "> x ainda é menor que 10, somando 1 a x.\n",
      "Valor de x é:  4\n",
      "> x ainda é menor que 10, somando 1 a x.\n",
      "Valor de x é:  5\n",
      "> x ainda é menor que 10, somando 1 a x.\n",
      "Valor de x é:  6\n",
      "> x ainda é menor que 10, somando 1 a x.\n",
      "Valor de x é:  7\n",
      "> x ainda é menor que 10, somando 1 a x.\n",
      "Valor de x é:  8\n",
      "> x ainda é menor que 10, somando 1 a x.\n",
      "Valor de x é:  9\n",
      "> x ainda é menor que 10, somando 1 a x.\n",
      "Loop concluído!\n",
      "10\n"
     ]
    }
   ],
   "source": [
    "# Else : adiciona comportamento quando condição de parada é atingida\n",
    "x = 0\n",
    "\n",
    "while x < 10:\n",
    "    print('Valor de x é: ', x)\n",
    "    print('> x ainda é menor que 10, somando 1 a x.')\n",
    "    x += 1\n",
    "else:\n",
    "    print('Loop concluído!')\n",
    "print(x)"
   ]
  },
  {
   "cell_type": "markdown",
   "id": "6af0a5ca",
   "metadata": {},
   "source": [
    "## Pass, Break, Continue"
   ]
  },
  {
   "cell_type": "code",
   "execution_count": 4,
   "id": "fb241e0f",
   "metadata": {},
   "outputs": [
    {
     "name": "stdout",
     "output_type": "stream",
     "text": [
      "0\n",
      "1\n",
      "2\n",
      "3\n"
     ]
    }
   ],
   "source": [
    "# Break : parar o loop\n",
    "# Pass : não faz nada\n",
    "\n",
    "valor = 0\n",
    "while valor < 10:\n",
    "    if valor == 4:\n",
    "        break\n",
    "    else:\n",
    "        pass\n",
    "    print(valor)\n",
    "    valor = valor + 1"
   ]
  },
  {
   "cell_type": "code",
   "execution_count": 5,
   "id": "1c324a6c",
   "metadata": {},
   "outputs": [
    {
     "name": "stdout",
     "output_type": "stream",
     "text": [
      "P\n",
      "y\n",
      "t\n",
      "h\n",
      "o\n",
      "n\n",
      " \n",
      "é\n",
      " \n",
      " \n",
      "i\n",
      "n\n",
      "c\n",
      "r\n",
      "í\n",
      "v\n",
      "e\n",
      "l\n",
      "!\n"
     ]
    }
   ],
   "source": [
    "# Desconsiderar a letra z ao imprimir os caracteres\n",
    "for letra in \"Python é zzz incrível!\":\n",
    "    if letra == \"z\":\n",
    "        continue     # para a execução aqui e passa para a próxima iteração\n",
    "    print(letra)"
   ]
  },
  {
   "cell_type": "markdown",
   "id": "c763f688",
   "metadata": {},
   "source": [
    "## While e for juntos"
   ]
  },
  {
   "cell_type": "markdown",
   "id": "550438d4",
   "metadata": {},
   "source": [
    "#### Encontrar números primos em uma coleção utilizando while e for juntos"
   ]
  },
  {
   "cell_type": "markdown",
   "id": "646f8baa",
   "metadata": {},
   "source": [
    "Inicialize uma lista fazia para armazenar os números primos\n",
    "Para cada número N entre 2 e 30:\n",
    "    Inicialize uma variável eh_primo como verdadeira\n",
    "    Para cada número i entre 2 e n/2:\n",
    "        Se n é divisível por i, então:\n",
    "            Altere a variável eh_primo para falso\n",
    "            Pare de verificar os outros números\n",
    "    Se a variável eh_primo ainda é verdadeira, adiciona N à lista de números primos\n",
    "Imprima a lista de números primos"
   ]
  },
  {
   "cell_type": "code",
   "execution_count": 8,
   "id": "04e76883",
   "metadata": {},
   "outputs": [
    {
     "name": "stderr",
     "output_type": "stream",
     "text": [
      "UsageError: %%time is a cell magic, but the cell body is empty. Did you mean the line magic %time (single %)?\n"
     ]
    }
   ],
   "source": [
    "%%time\n",
    "\n",
    "#%%time - do jupyter notebook. Mede o tempo de execução desta célula\n",
    "\n",
    "# Encontrado primos entre 2 e 30 usando loop for e while\n",
    "\n",
    "# Variável para armazenar primos\n",
    "primos = []\n",
    "\n",
    "#Loop for - percorrer de 2 a 30\n",
    "for num in range(2,31):\n",
    "    \n",
    "    #Variável de controle\n",
    "    eh_primo = True\n",
    "    \n",
    "    #Loop while - verificar se é primo\n",
    "    i = 2\n",
    "    while i <= num // 2:\n",
    "        if num % i == 0:\n",
    "            eh_primo = False\n",
    "            break\n",
    "        i += 1\n",
    "        \n",
    "    #Adicionando o primo na lista\n",
    "    if eh_primo:\n",
    "        primos.append(num)\n",
    "        \n",
    "print(primos)"
   ]
  },
  {
   "cell_type": "code",
   "execution_count": null,
   "id": "d72e1fb1",
   "metadata": {},
   "outputs": [],
   "source": []
  }
 ],
 "metadata": {
  "kernelspec": {
   "display_name": "Python 3 (ipykernel)",
   "language": "python",
   "name": "python3"
  },
  "language_info": {
   "codemirror_mode": {
    "name": "ipython",
    "version": 3
   },
   "file_extension": ".py",
   "mimetype": "text/x-python",
   "name": "python",
   "nbconvert_exporter": "python",
   "pygments_lexer": "ipython3",
   "version": "3.10.9"
  }
 },
 "nbformat": 4,
 "nbformat_minor": 5
}
