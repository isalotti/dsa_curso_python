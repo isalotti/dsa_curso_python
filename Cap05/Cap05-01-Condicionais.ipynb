{
 "cells": [
  {
   "cell_type": "markdown",
   "id": "d1079a13",
   "metadata": {},
   "source": [
    "## Condicional if"
   ]
  },
  {
   "cell_type": "code",
   "execution_count": 1,
   "id": "14aef31b",
   "metadata": {},
   "outputs": [
    {
     "name": "stdout",
     "output_type": "stream",
     "text": [
      "É verdadeiro!\n"
     ]
    }
   ],
   "source": [
    "if 5 > 2:\n",
    "    print('É verdadeiro!')"
   ]
  },
  {
   "cell_type": "code",
   "execution_count": 2,
   "id": "a65a0947",
   "metadata": {},
   "outputs": [
    {
     "name": "stdout",
     "output_type": "stream",
     "text": [
      "É falso!\n"
     ]
    }
   ],
   "source": [
    "if 5 < 2:\n",
    "    print('É verdadeiro!')\n",
    "else:\n",
    "    print('É falso!')"
   ]
  },
  {
   "cell_type": "code",
   "execution_count": 4,
   "id": "0a12c5ee",
   "metadata": {},
   "outputs": [
    {
     "name": "stdout",
     "output_type": "stream",
     "text": [
      "Vai chover!\n"
     ]
    }
   ],
   "source": [
    "dia = \"Terça\"\n",
    "if dia == \"Segunda\":\n",
    "    print('Hoje fará sol.')\n",
    "else:\n",
    "    print('Vai chover!')"
   ]
  },
  {
   "cell_type": "code",
   "execution_count": 5,
   "id": "c0e6cfd5",
   "metadata": {},
   "outputs": [
    {
     "name": "stdout",
     "output_type": "stream",
     "text": [
      "Vai chover!\n"
     ]
    }
   ],
   "source": [
    "if dia == \"Segunda\":\n",
    "    print('Hoje fará sol')\n",
    "elif dia == \"Terça\":\n",
    "    print('Vai chover!')\n",
    "else:\n",
    "    print('Não posso prever o tempo para esse dia!')"
   ]
  },
  {
   "cell_type": "markdown",
   "id": "68e5ebc2",
   "metadata": {},
   "source": [
    "## Operadores relacionais"
   ]
  },
  {
   "cell_type": "code",
   "execution_count": 6,
   "id": "41e4b119",
   "metadata": {},
   "outputs": [
    {
     "data": {
      "text/plain": [
       "True"
      ]
     },
     "execution_count": 6,
     "metadata": {},
     "output_type": "execute_result"
    }
   ],
   "source": [
    "6 > 3"
   ]
  },
  {
   "cell_type": "code",
   "execution_count": 7,
   "id": "e023ff02",
   "metadata": {},
   "outputs": [
    {
     "data": {
      "text/plain": [
       "False"
      ]
     },
     "execution_count": 7,
     "metadata": {},
     "output_type": "execute_result"
    }
   ],
   "source": [
    "3 > 7"
   ]
  },
  {
   "cell_type": "code",
   "execution_count": 8,
   "id": "51511c92",
   "metadata": {},
   "outputs": [
    {
     "data": {
      "text/plain": [
       "True"
      ]
     },
     "execution_count": 8,
     "metadata": {},
     "output_type": "execute_result"
    }
   ],
   "source": [
    "4 >= 4"
   ]
  },
  {
   "cell_type": "code",
   "execution_count": 9,
   "id": "1a42d111",
   "metadata": {},
   "outputs": [
    {
     "name": "stdout",
     "output_type": "stream",
     "text": [
      "Teste igualdade ok.\n"
     ]
    }
   ],
   "source": [
    "if 5 == 5:\n",
    "    print('Teste igualdade ok.')"
   ]
  },
  {
   "cell_type": "code",
   "execution_count": 10,
   "id": "7df4f10e",
   "metadata": {},
   "outputs": [
    {
     "name": "stdout",
     "output_type": "stream",
     "text": [
      "Sempre true.\n"
     ]
    }
   ],
   "source": [
    "if True:\n",
    "    print('Sempre true.')"
   ]
  },
  {
   "cell_type": "code",
   "execution_count": 11,
   "id": "ca4faf01",
   "metadata": {},
   "outputs": [],
   "source": [
    "# Atenção com a sintaxe: o recuo de linha (4 espaços) , a indentação, é requerida!"
   ]
  },
  {
   "cell_type": "markdown",
   "id": "5cc25a71",
   "metadata": {},
   "source": [
    "## Condicionais aninhadas"
   ]
  },
  {
   "cell_type": "code",
   "execution_count": 12,
   "id": "92d9060d",
   "metadata": {},
   "outputs": [
    {
     "name": "stdout",
     "output_type": "stream",
     "text": [
      "Você pode dirigir!\n"
     ]
    }
   ],
   "source": [
    "idade = 18\n",
    "if idade > 17:\n",
    "    print('Você pode dirigir!')"
   ]
  },
  {
   "cell_type": "code",
   "execution_count": 13,
   "id": "89018f1e",
   "metadata": {},
   "outputs": [
    {
     "name": "stdout",
     "output_type": "stream",
     "text": [
      "Ok, você pode entrar.\n"
     ]
    }
   ],
   "source": [
    "Nome = \"Bob\"\n",
    "if idade > 13:\n",
    "    if Nome == \"Bob\":\n",
    "        print('Ok, você pode entrar.')\n",
    "    else:\n",
    "        print('Você não pode entrar')"
   ]
  },
  {
   "cell_type": "code",
   "execution_count": 14,
   "id": "47af8cdb",
   "metadata": {},
   "outputs": [
    {
     "name": "stdout",
     "output_type": "stream",
     "text": [
      "Ok, você pode entrar\n"
     ]
    }
   ],
   "source": [
    "idade = 13\n",
    "Nome = \"Bob\"\n",
    "if idade >=3 and Nome == \"Bob\":\n",
    "    print('Ok, você pode entrar')"
   ]
  },
  {
   "cell_type": "code",
   "execution_count": 15,
   "id": "2ba9acb7",
   "metadata": {},
   "outputs": [
    {
     "name": "stdout",
     "output_type": "stream",
     "text": [
      "Ok, você pode entrar\n"
     ]
    }
   ],
   "source": [
    "idade = 13\n",
    "Nome = \"Bob\"\n",
    "#Não é obrigatório utilizar parenteses\n",
    "if (idade >=3) or (Nome == \"Bob\"):\n",
    "    print('Ok, você pode entrar')"
   ]
  },
  {
   "cell_type": "markdown",
   "id": "411a0884",
   "metadata": {},
   "source": [
    "## Operadores lógicos"
   ]
  },
  {
   "cell_type": "code",
   "execution_count": 16,
   "id": "4917f88a",
   "metadata": {},
   "outputs": [
    {
     "name": "stdout",
     "output_type": "stream",
     "text": [
      "Você pode dirigir\n"
     ]
    }
   ],
   "source": [
    "idade = 18\n",
    "nome = \"Bob\"\n",
    "if idade > 17:\n",
    "    print('Você pode dirigir')"
   ]
  },
  {
   "cell_type": "code",
   "execution_count": 17,
   "id": "21aaf13a",
   "metadata": {},
   "outputs": [
    {
     "name": "stdout",
     "output_type": "stream",
     "text": [
      "Você pode dirigir\n"
     ]
    }
   ],
   "source": [
    "idade = 18\n",
    "nome = \"Bob\"\n",
    "if idade > 17 and nome == \"Bob\":\n",
    "    print('Você pode dirigir')"
   ]
  },
  {
   "cell_type": "markdown",
   "id": "665d3ea4",
   "metadata": {},
   "source": [
    "### Operadores"
   ]
  },
  {
   "cell_type": "markdown",
   "id": "012e0161",
   "metadata": {},
   "source": [
    "#### and  , or , not"
   ]
  },
  {
   "cell_type": "code",
   "execution_count": 20,
   "id": "1470f559",
   "metadata": {},
   "outputs": [
    {
     "name": "stdout",
     "output_type": "stream",
     "text": [
      "Ambas as condições são verdadeiras\n"
     ]
    }
   ],
   "source": [
    "numero = 4\n",
    "if numero > 2 and numero % 2 == 0:\n",
    "    print('Ambas as condições são verdadeiras')\n",
    "else:\n",
    "    print('Alguma condição é falsa')"
   ]
  },
  {
   "cell_type": "code",
   "execution_count": 21,
   "id": "8a8890a1",
   "metadata": {},
   "outputs": [
    {
     "name": "stdout",
     "output_type": "stream",
     "text": [
      "Alguma das condições é verdadeiras\n"
     ]
    }
   ],
   "source": [
    "numero = 5\n",
    "if numero > 2 or numero % 2 == 0:\n",
    "    print('Alguma das condições é verdadeira.')\n",
    "else:\n",
    "    print('Todas as condições são falsas.')"
   ]
  },
  {
   "cell_type": "code",
   "execution_count": 22,
   "id": "38a7f76c",
   "metadata": {},
   "outputs": [
    {
     "name": "stdout",
     "output_type": "stream",
     "text": [
      "As duas primeiras condições são verdadeiras ou a terceira é verdadeira.\n"
     ]
    }
   ],
   "source": [
    "numero = 4\n",
    "if (not(numero > 5) and (numero % 2 == 0)) or (numero == 4):\n",
    "    print('As duas primeiras condições são verdadeiras ou a terceira é verdadeira.')"
   ]
  },
  {
   "cell_type": "code",
   "execution_count": 24,
   "id": "7f23e645",
   "metadata": {},
   "outputs": [
    {
     "name": "stdout",
     "output_type": "stream",
     "text": [
      "Precisa estudar mais!\n"
     ]
    }
   ],
   "source": [
    "disciplina = 'Data Science'\n",
    "nota_final = 60\n",
    "\n",
    "if disciplina == 'Data Science' and nota_final >= 70:\n",
    "    print('Aprovado!')\n",
    "else:\n",
    "    print('Precisa estudar mais!')"
   ]
  },
  {
   "cell_type": "code",
   "execution_count": 26,
   "id": "df9a47b8",
   "metadata": {},
   "outputs": [
    {
     "name": "stdout",
     "output_type": "stream",
     "text": [
      "Você foi aprovado em Data Science com média final 90!\n"
     ]
    }
   ],
   "source": [
    "# Utilizando condição != (diferente) e introduzindo Placeholder\n",
    "# %s - string\n",
    "# %r - número\n",
    "\n",
    "\n",
    "disciplina = 'Data Science'\n",
    "nota_final = 90\n",
    "semestre = 2\n",
    "\n",
    "if disciplina == 'Data Science' and nota_final >= 80 and semestre != 1:\n",
    "    print('Você foi aprovado em %s com média final %r!' %(disciplina, nota_final))\n",
    "else:\n",
    "    print('Precisa estudar mais!')"
   ]
  }
 ],
 "metadata": {
  "kernelspec": {
   "display_name": "Python 3 (ipykernel)",
   "language": "python",
   "name": "python3"
  },
  "language_info": {
   "codemirror_mode": {
    "name": "ipython",
    "version": 3
   },
   "file_extension": ".py",
   "mimetype": "text/x-python",
   "name": "python",
   "nbconvert_exporter": "python",
   "pygments_lexer": "ipython3",
   "version": "3.10.9"
  }
 },
 "nbformat": 4,
 "nbformat_minor": 5
}
