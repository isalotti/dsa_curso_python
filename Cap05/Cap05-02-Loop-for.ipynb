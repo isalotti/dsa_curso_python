{
 "cells": [
  {
   "cell_type": "markdown",
   "id": "cf93f10d",
   "metadata": {},
   "source": [
    "## Loop for"
   ]
  },
  {
   "cell_type": "code",
   "execution_count": 1,
   "id": "8a719908",
   "metadata": {},
   "outputs": [
    {
     "name": "stdout",
     "output_type": "stream",
     "text": [
      "2\n",
      "3\n",
      "4\n"
     ]
    }
   ],
   "source": [
    "#Imprimindo valores da tupla\n",
    "tp = (2, 3, 4)\n",
    "for i in tp:\n",
    "    print(i)"
   ]
  },
  {
   "cell_type": "code",
   "execution_count": 2,
   "id": "5e425496",
   "metadata": {},
   "outputs": [
    {
     "name": "stdout",
     "output_type": "stream",
     "text": [
      "Data\n",
      "Science\n",
      "Academy\n"
     ]
    }
   ],
   "source": [
    "# Imprimindo lista de strings\n",
    "ListaDeStrings = [\"Data\", \"Science\", \"Academy\"]\n",
    "for i in ListaDeStrings:\n",
    "    print(i)"
   ]
  },
  {
   "cell_type": "code",
   "execution_count": 3,
   "id": "2be563c9",
   "metadata": {},
   "outputs": [
    {
     "name": "stdout",
     "output_type": "stream",
     "text": [
      "0\n",
      "1\n",
      "2\n",
      "3\n",
      "4\n"
     ]
    }
   ],
   "source": [
    "# Imprimir valores em um range (limite superior é exclusivo)\n",
    "for contador in range(0,5):\n",
    "    print(contador)"
   ]
  },
  {
   "cell_type": "code",
   "execution_count": 4,
   "id": "1a5da1e8",
   "metadata": {},
   "outputs": [
    {
     "name": "stdout",
     "output_type": "stream",
     "text": [
      "2\n",
      "4\n",
      "6\n",
      "8\n",
      "10\n"
     ]
    }
   ],
   "source": [
    "# Imprimindo os pares\n",
    "lista = [1, 2, 3, 4, 5, 6, 7, 8, 9, 10]\n",
    "for num in lista:\n",
    "    if num % 2 == 0:\n",
    "        print(num)"
   ]
  },
  {
   "cell_type": "code",
   "execution_count": 5,
   "id": "ee5cd73f",
   "metadata": {},
   "outputs": [
    {
     "name": "stdout",
     "output_type": "stream",
     "text": [
      "0\n",
      "2\n",
      "4\n",
      "6\n",
      "8\n",
      "10\n",
      "12\n",
      "14\n",
      "16\n",
      "18\n",
      "20\n",
      "22\n",
      "24\n",
      "26\n",
      "28\n",
      "30\n",
      "32\n",
      "34\n",
      "36\n",
      "38\n",
      "40\n",
      "42\n",
      "44\n",
      "46\n",
      "48\n",
      "50\n",
      "52\n",
      "54\n",
      "56\n",
      "58\n",
      "60\n",
      "62\n",
      "64\n",
      "66\n",
      "68\n",
      "70\n",
      "72\n",
      "74\n",
      "76\n",
      "78\n",
      "80\n",
      "82\n",
      "84\n",
      "86\n",
      "88\n",
      "90\n",
      "92\n",
      "94\n",
      "96\n",
      "98\n",
      "100\n"
     ]
    }
   ],
   "source": [
    "# Listando números do range , de 2 em 2:\n",
    "for i in range(0,101,2):\n",
    "    print(i)"
   ]
  },
  {
   "cell_type": "code",
   "execution_count": 6,
   "id": "2dd382bd",
   "metadata": {},
   "outputs": [
    {
     "name": "stdout",
     "output_type": "stream",
     "text": [
      "P\n",
      "y\n",
      "t\n",
      "h\n",
      "o\n",
      "n\n",
      " \n",
      "é\n",
      " \n",
      "u\n",
      "m\n",
      "a\n",
      " \n",
      "l\n",
      "i\n",
      "n\n",
      "g\n",
      "u\n",
      "a\n",
      "g\n",
      "e\n",
      "m\n",
      " \n",
      "d\n",
      "e\n",
      " \n",
      "p\n",
      "r\n",
      "o\n",
      "g\n",
      "r\n",
      "a\n",
      "m\n",
      "a\n",
      "ç\n",
      "ã\n",
      "o\n",
      ".\n"
     ]
    }
   ],
   "source": [
    "# Percorrendo os caracteres da string\n",
    "for caractere in 'Python é uma linguagem de programação.':\n",
    "    print(caractere)"
   ]
  },
  {
   "cell_type": "markdown",
   "id": "ff4395a9",
   "metadata": {},
   "source": [
    "## Loop for aninhado"
   ]
  },
  {
   "cell_type": "code",
   "execution_count": 9,
   "id": "3e275cef",
   "metadata": {},
   "outputs": [
    {
     "name": "stdout",
     "output_type": "stream",
     "text": [
      "\n",
      " 0\n",
      "\n",
      " 0\n",
      "\n",
      " 0\n",
      "---\n",
      "\n",
      " 1\n",
      "\n",
      " 2\n",
      "\n",
      " 3\n",
      "---\n",
      "\n",
      " 2\n",
      "\n",
      " 4\n",
      "\n",
      " 6\n",
      "---\n",
      "\n",
      " 3\n",
      "\n",
      " 6\n",
      "\n",
      " 9\n",
      "---\n",
      "\n",
      " 4\n",
      "\n",
      " 8\n",
      "\n",
      " 12\n",
      "---\n"
     ]
    }
   ],
   "source": [
    "lista1 = [0,1,2,3,4]\n",
    "lista2 = [1, 2, 3]\n",
    "\n",
    "#Loop externo\n",
    "for elemento_lista1 in lista1:\n",
    "    #loop interno\n",
    "    for elemento_lista2 in lista2:\n",
    "        print('\\n', elemento_lista1 * elemento_lista2)\n",
    "    print('---')"
   ]
  },
  {
   "cell_type": "code",
   "execution_count": 12,
   "id": "07f9dced",
   "metadata": {},
   "outputs": [
    {
     "name": "stdout",
     "output_type": "stream",
     "text": [
      "Encontrei o 47!\n"
     ]
    }
   ],
   "source": [
    "# Verificar se 47 pararece nas duas listas\n",
    "lista1 = [10,16,24,39,47]\n",
    "lista2 = [32,89,47,76,12]\n",
    "\n",
    "for elemento_lista1 in lista1:\n",
    "    for elemento_lista2 in lista2:\n",
    "        if elemento_lista1 == 47 and elemento_lista2 == 47:\n",
    "            print('Encontrei o 47!')"
   ]
  },
  {
   "cell_type": "code",
   "execution_count": 14,
   "id": "a77a84dd",
   "metadata": {},
   "outputs": [
    {
     "name": "stdout",
     "output_type": "stream",
     "text": [
      "A soma dos numeros pares das duas listas é:  170\n"
     ]
    }
   ],
   "source": [
    "# Somar os números pares da primeira lista com os pares da segunda\n",
    "\n",
    "lista1 = [10,16,24,39,47]\n",
    "lista2 = [32,89,47,76,12]\n",
    "soma = 0\n",
    "\n",
    "# Percorrer duas listas , uma após a outra\n",
    "for lista in [lista1,lista2]:\n",
    "    for num in lista:\n",
    "        if num % 2 == 0:\n",
    "            soma += num     #num - existe um para cada lista, para o indice atual\n",
    "print('A soma dos numeros pares das duas listas é: ', soma)"
   ]
  },
  {
   "cell_type": "code",
   "execution_count": 15,
   "id": "10c42e64",
   "metadata": {},
   "outputs": [
    {
     "data": {
      "text/plain": [
       "[10, 16, 24, 39, 47, 32, 89, 47, 76, 12]"
      ]
     },
     "execution_count": 15,
     "metadata": {},
     "output_type": "execute_result"
    }
   ],
   "source": [
    "#concatenando listas\n",
    "lista1 + lista2"
   ]
  },
  {
   "cell_type": "code",
   "execution_count": 16,
   "id": "72e4a2a2",
   "metadata": {},
   "outputs": [
    {
     "name": "stdout",
     "output_type": "stream",
     "text": [
      "A soma dos numeros pares das duas listas é:  120\n"
     ]
    }
   ],
   "source": [
    "lista1 = [10,16,24,39,47]\n",
    "lista2 = [32,89,47,76,12]\n",
    "soma = 0\n",
    "\n",
    "# Concatenar as listas, não precisa do for aninhado\n",
    "for lista in lista1 + lista2:\n",
    "        if num % 2 == 0:\n",
    "            soma += num     #num - existe um para cada lista, para o indice atual\n",
    "print('A soma dos numeros pares das duas listas é: ', soma)"
   ]
  },
  {
   "cell_type": "code",
   "execution_count": 17,
   "id": "a6b66f5c",
   "metadata": {},
   "outputs": [
    {
     "name": "stdout",
     "output_type": "stream",
     "text": [
      "Maior número:  215\n"
     ]
    }
   ],
   "source": [
    "# Loop de lista de listas (matrizes) para encontrar o maior numero\n",
    "\n",
    "matriz = [[42,23,34],[100,215,114],[10.1,98.7,12.3]]\n",
    "maior_numero = 0\n",
    "\n",
    "for linha in matriz:\n",
    "    for num in linha:\n",
    "        if num > maior_numero:\n",
    "            maior_numero = num\n",
    "            \n",
    "print('Maior número: ', maior_numero)"
   ]
  },
  {
   "cell_type": "code",
   "execution_count": 18,
   "id": "ec2e9c8e",
   "metadata": {},
   "outputs": [
    {
     "name": "stdout",
     "output_type": "stream",
     "text": [
      "k1\n",
      "k2\n",
      "k3\n"
     ]
    }
   ],
   "source": [
    "# Listar chaves do dicionário\n",
    "dict = {'k1': 'Python', 'k2':'R', 'k3':'Scala'}\n",
    "for item in dict:\n",
    "    print(item)"
   ]
  },
  {
   "cell_type": "code",
   "execution_count": 19,
   "id": "d01993d2",
   "metadata": {},
   "outputs": [
    {
     "name": "stdout",
     "output_type": "stream",
     "text": [
      "k1 Python\n",
      "k2 R\n",
      "k3 Scala\n"
     ]
    }
   ],
   "source": [
    "#Imprimindo chave:valor\n",
    "for key,value in dict.items():\n",
    "    print(key,value)"
   ]
  },
  {
   "cell_type": "code",
   "execution_count": null,
   "id": "c1e4d8d8",
   "metadata": {},
   "outputs": [],
   "source": []
  }
 ],
 "metadata": {
  "kernelspec": {
   "display_name": "Python 3 (ipykernel)",
   "language": "python",
   "name": "python3"
  },
  "language_info": {
   "codemirror_mode": {
    "name": "ipython",
    "version": 3
   },
   "file_extension": ".py",
   "mimetype": "text/x-python",
   "name": "python",
   "nbconvert_exporter": "python",
   "pygments_lexer": "ipython3",
   "version": "3.10.9"
  }
 },
 "nbformat": 4,
 "nbformat_minor": 5
}
