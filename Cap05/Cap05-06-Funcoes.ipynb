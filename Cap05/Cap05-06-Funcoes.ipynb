{
 "cells": [
  {
   "cell_type": "markdown",
   "id": "84c765cb",
   "metadata": {},
   "source": [
    "## Funções"
   ]
  },
  {
   "cell_type": "code",
   "execution_count": 1,
   "id": "66ef0ee6",
   "metadata": {},
   "outputs": [
    {
     "name": "stdout",
     "output_type": "stream",
     "text": [
      "Hello\n"
     ]
    }
   ],
   "source": [
    "print('Hello')  #função built-in"
   ]
  },
  {
   "cell_type": "code",
   "execution_count": 2,
   "id": "558d9d83",
   "metadata": {},
   "outputs": [],
   "source": [
    "#Criando função\n",
    "def primeiraFunc():\n",
    "    print('Hello')"
   ]
  },
  {
   "cell_type": "code",
   "execution_count": 3,
   "id": "403846ab",
   "metadata": {},
   "outputs": [
    {
     "name": "stdout",
     "output_type": "stream",
     "text": [
      "Hello\n"
     ]
    }
   ],
   "source": [
    "primeiraFunc()"
   ]
  },
  {
   "cell_type": "code",
   "execution_count": 4,
   "id": "238d3a07",
   "metadata": {},
   "outputs": [],
   "source": [
    "def primeiraFunc():\n",
    "    nome = 'Bob'\n",
    "    print('Hello, %s' %(nome))"
   ]
  },
  {
   "cell_type": "code",
   "execution_count": 5,
   "id": "8a599634",
   "metadata": {},
   "outputs": [
    {
     "name": "stdout",
     "output_type": "stream",
     "text": [
      "Hello, Bob\n"
     ]
    }
   ],
   "source": [
    "primeiraFunc() # a última função definida com o mesmo nome sobrescreve a anterior"
   ]
  },
  {
   "cell_type": "code",
   "execution_count": 6,
   "id": "4a16045f",
   "metadata": {},
   "outputs": [],
   "source": [
    "def segundaFunc(nome):\n",
    "     print('Hello, %s' %(nome))"
   ]
  },
  {
   "cell_type": "code",
   "execution_count": 8,
   "id": "028ddb58",
   "metadata": {},
   "outputs": [
    {
     "ename": "TypeError",
     "evalue": "segundaFunc() missing 1 required positional argument: 'nome'",
     "output_type": "error",
     "traceback": [
      "\u001b[0;31m---------------------------------------------------------------------------\u001b[0m",
      "\u001b[0;31mTypeError\u001b[0m                                 Traceback (most recent call last)",
      "Cell \u001b[0;32mIn[8], line 1\u001b[0m\n\u001b[0;32m----> 1\u001b[0m \u001b[43msegundaFunc\u001b[49m\u001b[43m(\u001b[49m\u001b[43m)\u001b[49m\n",
      "\u001b[0;31mTypeError\u001b[0m: segundaFunc() missing 1 required positional argument: 'nome'"
     ]
    }
   ],
   "source": [
    "segundaFunc('Iza')   #paramatro obrigatorio"
   ]
  },
  {
   "cell_type": "code",
   "execution_count": 10,
   "id": "11c1f0f3",
   "metadata": {},
   "outputs": [],
   "source": [
    "def imprimeNumeros():\n",
    "    for i in range(0,5):\n",
    "        print('Numero ' + str(i))"
   ]
  },
  {
   "cell_type": "code",
   "execution_count": 11,
   "id": "ada80e1d",
   "metadata": {},
   "outputs": [
    {
     "name": "stdout",
     "output_type": "stream",
     "text": [
      "Numero 0\n",
      "Numero 1\n",
      "Numero 2\n",
      "Numero 3\n",
      "Numero 4\n"
     ]
    }
   ],
   "source": [
    "imprimeNumeros()"
   ]
  },
  {
   "cell_type": "code",
   "execution_count": 12,
   "id": "31d82b15",
   "metadata": {},
   "outputs": [],
   "source": [
    "def addNum(firstnum, secondnum):\n",
    "    print('Primeiro '+ str(firstnum))\n",
    "    print('Segundo ' + str(secondnum))\n",
    "    print('Soma = ', firstnum + secondnum)"
   ]
  },
  {
   "cell_type": "code",
   "execution_count": 13,
   "id": "4fa6c37c",
   "metadata": {},
   "outputs": [
    {
     "name": "stdout",
     "output_type": "stream",
     "text": [
      "Primeiro 4\n",
      "Segundo 7\n",
      "Soma =  11\n"
     ]
    }
   ],
   "source": [
    "addNum(4, 7)"
   ]
  },
  {
   "cell_type": "code",
   "execution_count": 14,
   "id": "27d2123a",
   "metadata": {},
   "outputs": [],
   "source": [
    "# Número variável de argumentos  (* variavel, passa uma tupla - imutável)\n",
    "def printVarInfo(arg1, *vartuple):\n",
    "    print('O parâmetro passado foi : ', arg1)\n",
    "    for item in vartuple:\n",
    "        print('O parâmetro passado foi : ', item)\n",
    "    return"
   ]
  },
  {
   "cell_type": "code",
   "execution_count": 15,
   "id": "55b3d4eb",
   "metadata": {},
   "outputs": [
    {
     "name": "stdout",
     "output_type": "stream",
     "text": [
      "O parâmetro passado foi :  10\n"
     ]
    }
   ],
   "source": [
    "printVarInfo(10)"
   ]
  },
  {
   "cell_type": "code",
   "execution_count": 16,
   "id": "fa902209",
   "metadata": {},
   "outputs": [
    {
     "name": "stdout",
     "output_type": "stream",
     "text": [
      "O parâmetro passado foi :  Chocolate\n",
      "O parâmetro passado foi :  20\n",
      "O parâmetro passado foi :  Abacaxi\n"
     ]
    }
   ],
   "source": [
    "printVarInfo('Chocolate', 20, 'Abacaxi')"
   ]
  },
  {
   "cell_type": "markdown",
   "id": "5340acfa",
   "metadata": {},
   "source": [
    "## Escopo de variável - Local e Global"
   ]
  },
  {
   "cell_type": "code",
   "execution_count": 17,
   "id": "63426788",
   "metadata": {},
   "outputs": [],
   "source": [
    "# Var global\n",
    "var_global = 10\n",
    "\n",
    "def multiplica_numeros(num1, num2):\n",
    "    var_global = num1 * num2\n",
    "    print(var_global)"
   ]
  },
  {
   "cell_type": "code",
   "execution_count": 18,
   "id": "bce47609",
   "metadata": {},
   "outputs": [
    {
     "name": "stdout",
     "output_type": "stream",
     "text": [
      "125\n"
     ]
    }
   ],
   "source": [
    "multiplica_numeros(5,25)  # variável dentro do método tem precedência sobre a variável fora dela"
   ]
  },
  {
   "cell_type": "code",
   "execution_count": 19,
   "id": "69ed526b",
   "metadata": {},
   "outputs": [
    {
     "name": "stdout",
     "output_type": "stream",
     "text": [
      "10\n"
     ]
    }
   ],
   "source": [
    "print(var_global)   #fora do método, precedência"
   ]
  },
  {
   "cell_type": "code",
   "execution_count": 20,
   "id": "74662808",
   "metadata": {},
   "outputs": [],
   "source": [
    "# Var global\n",
    "var_global = 10\n",
    "\n",
    "def multiplica_numeros(num1, num2):\n",
    "    var_local = num1 * num2\n",
    "    print(var_local)"
   ]
  },
  {
   "cell_type": "code",
   "execution_count": 21,
   "id": "8f8578a3",
   "metadata": {},
   "outputs": [
    {
     "name": "stdout",
     "output_type": "stream",
     "text": [
      "125\n"
     ]
    }
   ],
   "source": [
    "multiplica_numeros(5,25)"
   ]
  },
  {
   "cell_type": "code",
   "execution_count": 22,
   "id": "eca527be",
   "metadata": {},
   "outputs": [
    {
     "ename": "NameError",
     "evalue": "name 'var_local' is not defined",
     "output_type": "error",
     "traceback": [
      "\u001b[0;31m---------------------------------------------------------------------------\u001b[0m",
      "\u001b[0;31mNameError\u001b[0m                                 Traceback (most recent call last)",
      "Cell \u001b[0;32mIn[22], line 1\u001b[0m\n\u001b[0;32m----> 1\u001b[0m \u001b[38;5;28mprint\u001b[39m(\u001b[43mvar_local\u001b[49m)\n",
      "\u001b[0;31mNameError\u001b[0m: name 'var_local' is not defined"
     ]
    }
   ],
   "source": [
    "print(var_local)   #Erro - existe somente dentro da função"
   ]
  },
  {
   "cell_type": "markdown",
   "id": "ffdb6a5c",
   "metadata": {},
   "source": [
    "## Funções built-in"
   ]
  },
  {
   "cell_type": "code",
   "execution_count": 24,
   "id": "40b5e23f",
   "metadata": {},
   "outputs": [
    {
     "data": {
      "text/plain": [
       "56"
      ]
     },
     "execution_count": 24,
     "metadata": {},
     "output_type": "execute_result"
    }
   ],
   "source": [
    "abs(-56)"
   ]
  },
  {
   "cell_type": "code",
   "execution_count": 25,
   "id": "4b8a0cb0",
   "metadata": {},
   "outputs": [
    {
     "data": {
      "text/plain": [
       "False"
      ]
     },
     "execution_count": 25,
     "metadata": {},
     "output_type": "execute_result"
    }
   ],
   "source": [
    "bool(0)"
   ]
  },
  {
   "cell_type": "code",
   "execution_count": 26,
   "id": "3e813953",
   "metadata": {},
   "outputs": [
    {
     "data": {
      "text/plain": [
       "4"
      ]
     },
     "execution_count": 26,
     "metadata": {},
     "output_type": "execute_result"
    }
   ],
   "source": [
    "int(4.3)"
   ]
  },
  {
   "cell_type": "code",
   "execution_count": 27,
   "id": "7f36ee64",
   "metadata": {},
   "outputs": [
    {
     "data": {
      "text/plain": [
       "'13'"
      ]
     },
     "execution_count": 27,
     "metadata": {},
     "output_type": "execute_result"
    }
   ],
   "source": [
    "str(13)"
   ]
  },
  {
   "cell_type": "code",
   "execution_count": 28,
   "id": "cf887665",
   "metadata": {},
   "outputs": [
    {
     "data": {
      "text/plain": [
       "5.0"
      ]
     },
     "execution_count": 28,
     "metadata": {},
     "output_type": "execute_result"
    }
   ],
   "source": [
    "float(5)"
   ]
  },
  {
   "cell_type": "code",
   "execution_count": 29,
   "id": "bdfec439",
   "metadata": {},
   "outputs": [
    {
     "name": "stdout",
     "output_type": "stream",
     "text": [
      "Digite sua idade:teste\n"
     ]
    },
    {
     "ename": "TypeError",
     "evalue": "'>' not supported between instances of 'str' and 'int'",
     "output_type": "error",
     "traceback": [
      "\u001b[0;31m---------------------------------------------------------------------------\u001b[0m",
      "\u001b[0;31mTypeError\u001b[0m                                 Traceback (most recent call last)",
      "Cell \u001b[0;32mIn[29], line 3\u001b[0m\n\u001b[1;32m      1\u001b[0m \u001b[38;5;66;03m# Erro ao executar - conversão não permitida\u001b[39;00m\n\u001b[1;32m      2\u001b[0m idade \u001b[38;5;241m=\u001b[39m \u001b[38;5;28minput\u001b[39m(\u001b[38;5;124m'\u001b[39m\u001b[38;5;124mDigite sua idade:\u001b[39m\u001b[38;5;124m'\u001b[39m)\n\u001b[0;32m----> 3\u001b[0m \u001b[38;5;28;01mif\u001b[39;00m \u001b[43midade\u001b[49m\u001b[43m \u001b[49m\u001b[38;5;241;43m>\u001b[39;49m\u001b[43m \u001b[49m\u001b[38;5;241;43m13\u001b[39;49m:\n\u001b[1;32m      4\u001b[0m     \u001b[38;5;28mprint\u001b[39m(\u001b[38;5;124m'\u001b[39m\u001b[38;5;124mVocê pode usar redes sociais...\u001b[39m\u001b[38;5;124m'\u001b[39m)\n\u001b[1;32m      5\u001b[0m \u001b[38;5;28;01melse\u001b[39;00m:\n",
      "\u001b[0;31mTypeError\u001b[0m: '>' not supported between instances of 'str' and 'int'"
     ]
    }
   ],
   "source": [
    "# Erro ao executar - conversão não permitida\n",
    "idade = input('Digite sua idade:')\n",
    "if idade > 13:\n",
    "    print('Você pode usar redes sociais...')\n",
    "else:\n",
    "    print('Você não pode usar redes sociais!')"
   ]
  },
  {
   "cell_type": "code",
   "execution_count": 30,
   "id": "db20340c",
   "metadata": {},
   "outputs": [
    {
     "name": "stdout",
     "output_type": "stream",
     "text": [
      "Digite sua idade:12\n",
      "Você não pode usar redes sociais!\n"
     ]
    }
   ],
   "source": [
    "# Erro ao executar - conversão não permitida\n",
    "idade = int(input('Digite sua idade:'))     #converte para interior\n",
    "if idade > 13:\n",
    "    print('Você pode usar redes sociais...')\n",
    "else:\n",
    "    print('Você não pode usar redes sociais!')"
   ]
  },
  {
   "cell_type": "code",
   "execution_count": 31,
   "id": "03f32055",
   "metadata": {},
   "outputs": [
    {
     "data": {
      "text/plain": [
       "24"
      ]
     },
     "execution_count": 31,
     "metadata": {},
     "output_type": "execute_result"
    }
   ],
   "source": [
    "int(\"24\")"
   ]
  },
  {
   "cell_type": "code",
   "execution_count": 32,
   "id": "c802ba5b",
   "metadata": {},
   "outputs": [
    {
     "data": {
      "text/plain": [
       "123.456"
      ]
     },
     "execution_count": 32,
     "metadata": {},
     "output_type": "execute_result"
    }
   ],
   "source": [
    "float(\"123.456\")"
   ]
  },
  {
   "cell_type": "code",
   "execution_count": 33,
   "id": "56bd9f82",
   "metadata": {},
   "outputs": [],
   "source": [
    "array = [1, 2, 3]"
   ]
  },
  {
   "cell_type": "code",
   "execution_count": 34,
   "id": "68ae795e",
   "metadata": {},
   "outputs": [
    {
     "data": {
      "text/plain": [
       "3"
      ]
     },
     "execution_count": 34,
     "metadata": {},
     "output_type": "execute_result"
    }
   ],
   "source": [
    "max(array)"
   ]
  },
  {
   "cell_type": "code",
   "execution_count": 35,
   "id": "0c67a552",
   "metadata": {},
   "outputs": [
    {
     "data": {
      "text/plain": [
       "1"
      ]
     },
     "execution_count": 35,
     "metadata": {},
     "output_type": "execute_result"
    }
   ],
   "source": [
    "min(array)"
   ]
  },
  {
   "cell_type": "code",
   "execution_count": 36,
   "id": "1224a59d",
   "metadata": {},
   "outputs": [],
   "source": [
    "list1 = [16, 23, 44, 75]"
   ]
  },
  {
   "cell_type": "code",
   "execution_count": 37,
   "id": "4287b890",
   "metadata": {},
   "outputs": [
    {
     "data": {
      "text/plain": [
       "158"
      ]
     },
     "execution_count": 37,
     "metadata": {},
     "output_type": "execute_result"
    }
   ],
   "source": [
    "sum(list1)"
   ]
  },
  {
   "cell_type": "markdown",
   "id": "556fc86d",
   "metadata": {},
   "source": [
    "## Criando funções utilizando outras"
   ]
  },
  {
   "cell_type": "markdown",
   "id": "429a4423",
   "metadata": {},
   "source": [
    "#### https://pypi.org/"
   ]
  },
  {
   "cell_type": "code",
   "execution_count": 43,
   "id": "05b33073",
   "metadata": {},
   "outputs": [],
   "source": [
    "import math\n",
    "\n",
    "# Verifica se é primo\n",
    "def num_primo(num):\n",
    "    if (num % 2) == 0 and num > 2:\n",
    "        return \"Esse número não é primo\"\n",
    "    for i in range(3, int(math.sqrt(num)) + 1, 2):\n",
    "        if (num % i) == 0:\n",
    "            return \"Esse número não é primo\"\n",
    "    return \"Esse número é primo\""
   ]
  },
  {
   "cell_type": "code",
   "execution_count": 44,
   "id": "5ca5b50a",
   "metadata": {},
   "outputs": [
    {
     "data": {
      "text/plain": [
       "'Esse número é primo'"
      ]
     },
     "execution_count": 44,
     "metadata": {},
     "output_type": "execute_result"
    }
   ],
   "source": [
    "num_primo(541)"
   ]
  },
  {
   "cell_type": "code",
   "execution_count": 45,
   "id": "8d4b2e46",
   "metadata": {},
   "outputs": [
    {
     "data": {
      "text/plain": [
       "'Esse número não é primo'"
      ]
     },
     "execution_count": 45,
     "metadata": {},
     "output_type": "execute_result"
    }
   ],
   "source": [
    "num_primo(6)"
   ]
  },
  {
   "cell_type": "code",
   "execution_count": 50,
   "id": "b109045c",
   "metadata": {},
   "outputs": [],
   "source": [
    "caixa_baixa = \"Este Texto Deveria Estar Em Caixa Baixa.\"\n",
    "def lowercase(text):\n",
    "    return text.lower()"
   ]
  },
  {
   "cell_type": "code",
   "execution_count": 51,
   "id": "a0c886fd",
   "metadata": {},
   "outputs": [
    {
     "name": "stdout",
     "output_type": "stream",
     "text": [
      "este texto deveria estar em caixa baixa.\n"
     ]
    }
   ],
   "source": [
    "lowercased_string = lowercase(caixa_baixa)\n",
    "print(lowercased_string)"
   ]
  },
  {
   "cell_type": "markdown",
   "id": "015d86d4",
   "metadata": {},
   "source": [
    "## Fazendo Split dos dados"
   ]
  },
  {
   "cell_type": "code",
   "execution_count": 2,
   "id": "cc96ff8e",
   "metadata": {},
   "outputs": [],
   "source": [
    "# Fazendo split\n",
    "def split_string_palavras(text):\n",
    "    return text.split(\" \")"
   ]
  },
  {
   "cell_type": "code",
   "execution_count": 3,
   "id": "c89fde3b",
   "metadata": {},
   "outputs": [],
   "source": [
    "texto = \" Esta função será bastante útil para separar grandes volumes de dados.\""
   ]
  },
  {
   "cell_type": "code",
   "execution_count": 4,
   "id": "6a5e6b00",
   "metadata": {},
   "outputs": [
    {
     "name": "stdout",
     "output_type": "stream",
     "text": [
      "['', 'Esta', 'função', 'será', 'bastante', 'útil', 'para', 'separar', 'grandes', 'volumes', 'de', 'dados.']\n"
     ]
    }
   ],
   "source": [
    "print(split_string_palavras(texto))"
   ]
  },
  {
   "cell_type": "code",
   "execution_count": 5,
   "id": "24ce0ebd",
   "metadata": {},
   "outputs": [],
   "source": [
    "def split_string_letras(text):\n",
    "    texto = text.upper()\n",
    "    for letra in texto:\n",
    "        print(letra)"
   ]
  },
  {
   "cell_type": "code",
   "execution_count": 6,
   "id": "22a46b51",
   "metadata": {},
   "outputs": [
    {
     "name": "stdout",
     "output_type": "stream",
     "text": [
      " \n",
      "E\n",
      "S\n",
      "T\n",
      "A\n",
      " \n",
      "F\n",
      "U\n",
      "N\n",
      "Ç\n",
      "Ã\n",
      "O\n",
      " \n",
      "S\n",
      "E\n",
      "R\n",
      "Á\n",
      " \n",
      "B\n",
      "A\n",
      "S\n",
      "T\n",
      "A\n",
      "N\n",
      "T\n",
      "E\n",
      " \n",
      "Ú\n",
      "T\n",
      "I\n",
      "L\n",
      " \n",
      "P\n",
      "A\n",
      "R\n",
      "A\n",
      " \n",
      "S\n",
      "E\n",
      "P\n",
      "A\n",
      "R\n",
      "A\n",
      "R\n",
      " \n",
      "G\n",
      "R\n",
      "A\n",
      "N\n",
      "D\n",
      "E\n",
      "S\n",
      " \n",
      "V\n",
      "O\n",
      "L\n",
      "U\n",
      "M\n",
      "E\n",
      "S\n",
      " \n",
      "D\n",
      "E\n",
      " \n",
      "D\n",
      "A\n",
      "D\n",
      "O\n",
      "S\n",
      ".\n"
     ]
    }
   ],
   "source": [
    "split_string_letras(texto)"
   ]
  },
  {
   "cell_type": "code",
   "execution_count": null,
   "id": "100608ae",
   "metadata": {},
   "outputs": [],
   "source": []
  }
 ],
 "metadata": {
  "kernelspec": {
   "display_name": "Python 3 (ipykernel)",
   "language": "python",
   "name": "python3"
  },
  "language_info": {
   "codemirror_mode": {
    "name": "ipython",
    "version": 3
   },
   "file_extension": ".py",
   "mimetype": "text/x-python",
   "name": "python",
   "nbconvert_exporter": "python",
   "pygments_lexer": "ipython3",
   "version": "3.10.9"
  }
 },
 "nbformat": 4,
 "nbformat_minor": 5
}
