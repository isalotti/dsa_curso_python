{
 "cells": [
  {
   "cell_type": "markdown",
   "id": "d9c7b14c",
   "metadata": {},
   "source": [
    "Gere um código python que crie uma lista com os números entre 1 e 100 e então imprima os números pares, mas somente se o número for divisível por 4."
   ]
  },
  {
   "cell_type": "code",
   "execution_count": 1,
   "id": "086de1a5",
   "metadata": {},
   "outputs": [
    {
     "name": "stdout",
     "output_type": "stream",
     "text": [
      "4\n",
      "8\n",
      "12\n",
      "16\n",
      "20\n",
      "24\n",
      "28\n",
      "32\n",
      "36\n",
      "40\n",
      "44\n",
      "48\n",
      "52\n",
      "56\n",
      "60\n",
      "64\n",
      "68\n",
      "72\n",
      "76\n",
      "80\n",
      "84\n",
      "88\n",
      "92\n",
      "96\n",
      "100\n"
     ]
    }
   ],
   "source": [
    "# Cria uma lista com os números de 1 a 100\n",
    "lista_numeros = list(range(1, 101))\n",
    "\n",
    "# Percorre a lista e imprime os números pares divisíveis por 4\n",
    "for numero in lista_numeros:\n",
    "    if numero % 2 == 0 and numero % 4 == 0:\n",
    "        print(numero)"
   ]
  },
  {
   "cell_type": "code",
   "execution_count": 1,
   "id": "20fb5013",
   "metadata": {},
   "outputs": [
    {
     "name": "stdout",
     "output_type": "stream",
     "text": [
      "[4, 8, 12, 16, 20, 24, 28, 32, 36, 40, 44, 48, 52, 56, 60, 64, 68, 72, 76, 80, 84, 88, 92, 96, 100]\n"
     ]
    }
   ],
   "source": [
    "#Cria lista com números entre 1 e 100\n",
    "numeros = list(range(1,101))\n",
    "\n",
    "#list comprehension para gerar uma lista somente com os números pares e divisíveis por 4\n",
    "pares_div4 = [numero for numero in numeros if numero % 2 == 0 and numero % 4 == 0]\n",
    "\n",
    "print(pares_div4)"
   ]
  },
  {
   "cell_type": "markdown",
   "id": "ad6b680b",
   "metadata": {},
   "source": [
    "## Fim"
   ]
  },
  {
   "cell_type": "code",
   "execution_count": null,
   "id": "24c27433",
   "metadata": {},
   "outputs": [],
   "source": []
  }
 ],
 "metadata": {
  "kernelspec": {
   "display_name": "Python 3 (ipykernel)",
   "language": "python",
   "name": "python3"
  },
  "language_info": {
   "codemirror_mode": {
    "name": "ipython",
    "version": 3
   },
   "file_extension": ".py",
   "mimetype": "text/x-python",
   "name": "python",
   "nbconvert_exporter": "python",
   "pygments_lexer": "ipython3",
   "version": "3.10.9"
  }
 },
 "nbformat": 4,
 "nbformat_minor": 5
}
