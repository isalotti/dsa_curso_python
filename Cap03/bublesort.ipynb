{
 "cells": [
  {
   "cell_type": "markdown",
   "id": "14caceea",
   "metadata": {},
   "source": [
    "#Pseudocódigo\n",
    "\n",
    "Para cada elemento i no array de tamanho n\n",
    "   Para cada elemento j no array de tamanho n - 1\n",
    "        Se elemento i for maior que elemento j\n",
    "            Troque os elementos i e j\n",
    "        \n",
    "Exiba o array ordenado"
   ]
  },
  {
   "cell_type": "code",
   "execution_count": 1,
   "id": "0d059231",
   "metadata": {},
   "outputs": [
    {
     "name": "stdout",
     "output_type": "stream",
     "text": [
      "[3, 5, 56, 78, 99]\n"
     ]
    }
   ],
   "source": [
    "lista = [56, 78, 5, 3, 99]\n",
    "\n",
    "n = len(lista)\n",
    "\n",
    "for i in range(n):\n",
    "    for j in range(0, n-i-1):\n",
    "        if lista[j] > lista[j + 1]:\n",
    "            lista[j] , lista[j+1] = lista[j+1], lista[j]\n",
    "            \n",
    "print(lista)"
   ]
  },
  {
   "cell_type": "code",
   "execution_count": 6,
   "id": "c3b8ae3e",
   "metadata": {},
   "outputs": [
    {
     "name": "stdout",
     "output_type": "stream",
     "text": [
      "Lista fora de ordem:  [76, 89, 6, 2, 89, 67, 100, 45]\n",
      "Elementos ordenados:  [2, 6, 45, 67, 76, 89, 89, 100]\n"
     ]
    }
   ],
   "source": [
    "# Em forma de método:\n",
    "\n",
    "def bubble_sort(lista):\n",
    "    n = len(lista)\n",
    "\n",
    "    for i in range(n):\n",
    "        for j in range(0, n-i-1):\n",
    "            if lista[j] > lista[j + 1]:\n",
    "                lista[j] , lista[j+1] = lista[j+1], lista[j]\n",
    "                \n",
    "    return lista\n",
    "\n",
    "l = [76, 89, 6, 2, 89, 67, 100, 45]\n",
    "print(\"Lista fora de ordem: \", l)\n",
    "print(\"Elementos ordenados: \", bubble_sort(l))"
   ]
  },
  {
   "cell_type": "code",
   "execution_count": null,
   "id": "81cf9df5",
   "metadata": {},
   "outputs": [],
   "source": []
  }
 ],
 "metadata": {
  "kernelspec": {
   "display_name": "Python 3 (ipykernel)",
   "language": "python",
   "name": "python3"
  },
  "language_info": {
   "codemirror_mode": {
    "name": "ipython",
    "version": 3
   },
   "file_extension": ".py",
   "mimetype": "text/x-python",
   "name": "python",
   "nbconvert_exporter": "python",
   "pygments_lexer": "ipython3",
   "version": "3.10.9"
  }
 },
 "nbformat": 4,
 "nbformat_minor": 5
}
