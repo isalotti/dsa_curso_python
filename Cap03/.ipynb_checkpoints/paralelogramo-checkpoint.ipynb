{
 "cells": [
  {
   "cell_type": "code",
   "execution_count": 1,
   "id": "60cd16b6",
   "metadata": {},
   "outputs": [
    {
     "name": "stdout",
     "output_type": "stream",
     "text": [
      "Bem-vindo ao Calculador de Área de Paralelogramo\n",
      ">Insira o comprimento da base: 10\n",
      ">Insira a altura: 2\n",
      "A área do palalelogramo é:  20.0\n"
     ]
    }
   ],
   "source": [
    "print(\"Bem-vindo ao Calculador de Área de Paralelogramo\")\n",
    "base = float(input(\">Insira o comprimento da base: \"))\n",
    "altura = float(input(\">Insira a altura: \"))\n",
    "area = base * altura\n",
    "print(\"A área do palalelogramo é: \", area)"
   ]
  },
  {
   "cell_type": "code",
   "execution_count": null,
   "id": "6138ee4a",
   "metadata": {},
   "outputs": [],
   "source": []
  }
 ],
 "metadata": {
  "kernelspec": {
   "display_name": "Python 3 (ipykernel)",
   "language": "python",
   "name": "python3"
  },
  "language_info": {
   "codemirror_mode": {
    "name": "ipython",
    "version": 3
   },
   "file_extension": ".py",
   "mimetype": "text/x-python",
   "name": "python",
   "nbconvert_exporter": "python",
   "pygments_lexer": "ipython3",
   "version": "3.10.9"
  }
 },
 "nbformat": 4,
 "nbformat_minor": 5
}
