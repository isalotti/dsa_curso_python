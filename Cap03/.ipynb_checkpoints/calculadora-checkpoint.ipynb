{
 "cells": [
  {
   "cell_type": "code",
   "execution_count": 2,
   "id": "3845f3c0",
   "metadata": {},
   "outputs": [
    {
     "name": "stdout",
     "output_type": "stream",
     "text": [
      "Bem-vindo à calculadora!\n",
      "> Informe o primeiro número: 2\n",
      "> Informe o segundo número: 4\n",
      "> Qual operação você deseja ( +, - , * , / )?+\n",
      ">>O resultado é:  6.0\n"
     ]
    }
   ],
   "source": [
    "print(\"Bem-vindo à calculadora!\")\n",
    "num1 = float(input(\"> Informe o primeiro número: \"))\n",
    "num2 = float(input(\"> Informe o segundo número: \"))\n",
    "operacao = input(\"> Qual operação você deseja ( +, - , * , / )?\")\n",
    "op_valida = True\n",
    "if operacao == '+':\n",
    "    resultado = num1 + num2\n",
    "elif operacao == '-':\n",
    "    resultado = num1 - num2\n",
    "elif operacao == '*':\n",
    "    resultado = num1 * num2\n",
    "elif operacao == '/':\n",
    "    resultado = num1 / num2\n",
    "else:\n",
    "    op_valida = False\n",
    "    \n",
    "if op_valida:\n",
    "    print(\">> O resultado é: \" , resultado)\n",
    "else:\n",
    "    print(\"Operação inválida!\")\n"
   ]
  },
  {
   "cell_type": "code",
   "execution_count": null,
   "id": "1bf89b48",
   "metadata": {},
   "outputs": [],
   "source": []
  }
 ],
 "metadata": {
  "kernelspec": {
   "display_name": "Python 3 (ipykernel)",
   "language": "python",
   "name": "python3"
  },
  "language_info": {
   "codemirror_mode": {
    "name": "ipython",
    "version": 3
   },
   "file_extension": ".py",
   "mimetype": "text/x-python",
   "name": "python",
   "nbconvert_exporter": "python",
   "pygments_lexer": "ipython3",
   "version": "3.10.9"
  }
 },
 "nbformat": 4,
 "nbformat_minor": 5
}
